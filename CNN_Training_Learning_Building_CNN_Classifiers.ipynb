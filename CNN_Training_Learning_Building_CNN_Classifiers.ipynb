{
  "nbformat": 4,
  "nbformat_minor": 0,
  "metadata": {
    "colab": {
      "name": "CNN_Training_Learning- Building CNN Classifiers.ipynb",
      "provenance": [],
      "authorship_tag": "ABX9TyPvPY+JGnO+/vZRNWWG6WQF",
      "include_colab_link": true
    },
    "kernelspec": {
      "name": "python3",
      "display_name": "Python 3"
    },
    "accelerator": "GPU"
  },
  "cells": [
    {
      "cell_type": "markdown",
      "metadata": {
        "id": "view-in-github",
        "colab_type": "text"
      },
      "source": [
        "<a href=\"https://colab.research.google.com/github/Varun0801/Deep_Learning_Essentials/blob/master/CNN_Training_Learning_Building_CNN_Classifiers.ipynb\" target=\"_parent\"><img src=\"https://colab.research.google.com/assets/colab-badge.svg\" alt=\"Open In Colab\"/></a>"
      ]
    },
    {
      "cell_type": "code",
      "metadata": {
        "id": "cX42rXgYWDJQ",
        "colab_type": "code",
        "colab": {
          "base_uri": "https://localhost:8080/",
          "height": 33
        },
        "outputId": "2218cb5a-0073-4524-cac0-06d8fdbf7e72"
      },
      "source": [
        "# Load Dependencies\n",
        "# to prevent unnecessary warnings\n",
        "import warnings\n",
        "warnings.simplefilter(action='ignore', category=FutureWarning)\n",
        "\n",
        "# TensorFlow and tf.keras\n",
        "import tensorflow as tf\n",
        "\n",
        "# Helper libraries\n",
        "import numpy as np\n",
        "import matplotlib.pyplot as plt\n",
        "import os\n",
        "import subprocess\n",
        "import cv2\n",
        "import json\n",
        "import requests\n",
        "from tqdm import tqdm\n",
        "\n",
        "print(tf.__version__)"
      ],
      "execution_count": 1,
      "outputs": [
        {
          "output_type": "stream",
          "text": [
            "2.3.0\n"
          ],
          "name": "stdout"
        }
      ]
    },
    {
      "cell_type": "code",
      "metadata": {
        "id": "RL3FExpYWOOa",
        "colab_type": "code",
        "colab": {}
      },
      "source": [
        "# Main Objective — Building & Deploying an Apparel Classifier\n",
        "\"\"\"\n",
        "We will keep things simple here with regard to the key objective. \n",
        "We will build a simple apparel classifier by training models on the very\n",
        "famous Fashion MNIST dataset based on Zalando’s article images — consisting\n",
        "of a training set of 60,000 examples and a test set of 10,000 examples. \n",
        "Each example is a 28x28 grayscale image, associated with a label from 10 \n",
        "classes. The idea is to classify these images into an apparel category \n",
        "amongst 10 categories on which we will be training our models on.\n",
        "\n",
        "Fashion MNIST is intended as a drop-in replacement for the classic MNIST \n",
        "dataset—often used as the \"Hello, World\" of machine learning programs for \n",
        "computer vision. You can access the Fashion MNIST directly from TensorFlow.\n",
        "\n",
        "Note: Although these are really images, they are loaded as NumPy arrays and \n",
        "not binary image objects.\n",
        "\n",
        "We will build the following two deep learning CNN (Convolutional Neural \n",
        "Network) classifiers in this notebook.\n",
        "\n",
        "A simple CNN trained from scratch\n",
        "Fine-tuning a pre-trained VGG-19 CNN\n",
        "The idea is to look at how to build your own CNN from scratch \n",
        "and also to briefly look at transfer learning where you fine-tune a pre-trained \n",
        "model to adapt it to classify images based on your dataset.\n",
        "\"\"\"\n"
      ],
      "execution_count": null,
      "outputs": []
    },
    {
      "cell_type": "code",
      "metadata": {
        "id": "waPiuzmkWx00",
        "colab_type": "code",
        "colab": {
          "base_uri": "https://localhost:8080/",
          "height": 221
        },
        "outputId": "d84468a1-b88e-4079-f577-a43c3049c3b6"
      },
      "source": [
        "# Load Dataset\n",
        "fashion_mnist = tf.keras.datasets.fashion_mnist\n",
        "(train_images, train_labels), (test_images, test_labels) = fashion_mnist.load_data()\n",
        "\n",
        "class_names = ['T-shirt/top', 'Trouser', 'Pullover', 'Dress', 'Coat',\n",
        "               'Sandal', 'Shirt', 'Sneaker', 'Bag', 'Ankle boot']\n",
        "\n",
        "print('\\nTrain_images.shape: {}, of {}'.format(train_images.shape, train_images.dtype))\n",
        "print('Test_images.shape: {}, of {}'.format(test_images.shape, test_images.dtype))"
      ],
      "execution_count": 2,
      "outputs": [
        {
          "output_type": "stream",
          "text": [
            "Downloading data from https://storage.googleapis.com/tensorflow/tf-keras-datasets/train-labels-idx1-ubyte.gz\n",
            "32768/29515 [=================================] - 0s 0us/step\n",
            "Downloading data from https://storage.googleapis.com/tensorflow/tf-keras-datasets/train-images-idx3-ubyte.gz\n",
            "26427392/26421880 [==============================] - 0s 0us/step\n",
            "Downloading data from https://storage.googleapis.com/tensorflow/tf-keras-datasets/t10k-labels-idx1-ubyte.gz\n",
            "8192/5148 [===============================================] - 0s 0us/step\n",
            "Downloading data from https://storage.googleapis.com/tensorflow/tf-keras-datasets/t10k-images-idx3-ubyte.gz\n",
            "4423680/4422102 [==============================] - 0s 0us/step\n",
            "\n",
            "Train_images.shape: (60000, 28, 28), of uint8\n",
            "Test_images.shape: (10000, 28, 28), of uint8\n"
          ],
          "name": "stdout"
        }
      ]
    },
    {
      "cell_type": "code",
      "metadata": {
        "id": "Tnnm7F49W4_C",
        "colab_type": "code",
        "colab": {}
      },
      "source": [
        "\"\"\"\n",
        "Brief on CNNs\n",
        "CNNs typically consist of multiple convolution and pooling layers which \n",
        "help the deep learning model in automatically extracting relevant features \n",
        "from visual data like images. Due to this multi-layered architecture, CNNs \n",
        "learn a robust hierarchy of features, which are spatial, rotation, and translation invariant.\n",
        "\n",
        "The key operations in a CNN model are depicted in the figure above. Any image\n",
        "can be represented as a tensor of pixel values. The convolution layers help in extracting \n",
        "features from this image (forms feature maps). Shallower layers (closer to the input data) \n",
        "in the network learn very generic features like edges, corners and so on. \n",
        "Deeper layers in the network (closer to the output layer) learn very specific \n",
        "features pertaining to the input image. The following graphic helps summarize the key \n",
        "aspects of any CNN model.\n",
        "\n",
        "\n",
        "\n",
        "We will be building a CNN from scratch as well as leverage the power of transfer learning, \n",
        "where we use pre-trained deep learning CNNs in this tutorial.\n",
        "\n",
        "\"\"\""
      ],
      "execution_count": null,
      "outputs": []
    },
    {
      "cell_type": "code",
      "metadata": {
        "id": "AMeiDEC2XT0r",
        "colab_type": "code",
        "colab": {
          "base_uri": "https://localhost:8080/",
          "height": 67
        },
        "outputId": "ff2e8e1d-8ccc-4ae4-cc88-25a5aea685b9"
      },
      "source": [
        "# 1. Training a simple CNN Classifier from Scratch\n",
        "# reshape for feeding into the model\n",
        "train_images_gr = train_images.reshape(train_images.shape[0], 28, 28, 1)\n",
        "test_images_gr = test_images.reshape(test_images.shape[0], 28, 28, 1)\n",
        "\n",
        "print('\\nTrain_images.shape: {}, of {}'.format(train_images_gr.shape, train_images_gr.dtype))\n",
        "print('Test_images.shape: {}, of {}'.format(test_images_gr.shape, test_images_gr.dtype))"
      ],
      "execution_count": 3,
      "outputs": [
        {
          "output_type": "stream",
          "text": [
            "\n",
            "Train_images.shape: (60000, 28, 28, 1), of uint8\n",
            "Test_images.shape: (10000, 28, 28, 1), of uint8\n"
          ],
          "name": "stdout"
        }
      ]
    },
    {
      "cell_type": "code",
      "metadata": {
        "id": "OIHbPz36XZ2a",
        "colab_type": "code",
        "colab": {
          "base_uri": "https://localhost:8080/",
          "height": 321
        },
        "outputId": "6907b41e-89c5-42f8-85e8-fb33c82307b1"
      },
      "source": [
        "ig, ax = plt.subplots(2, 5, figsize=(12, 6))\n",
        "c = 0\n",
        "for i in range(10):\n",
        "    idx = i // 5\n",
        "    idy = i % 5 \n",
        "    ax[idx, idy].imshow(train_images_gr[i].reshape(28,28))\n",
        "    ax[idx, idy].set_title(class_names[train_labels[i]])"
      ],
      "execution_count": 4,
      "outputs": [
        {
          "output_type": "display_data",
          "data": {
            "image/png": "[encoded data removed]",
            "text/plain": [
              "<Figure size 864x432 with 10 Axes>"
            ]
          },
          "metadata": {
            "tags": [],
            "needs_background": "light"
          }
        }
      ]
    },
    {
      "cell_type": "code",
      "metadata": {
        "id": "q-yxoen7Xe9C",
        "colab_type": "code",
        "colab": {
          "base_uri": "https://localhost:8080/",
          "height": 485
        },
        "outputId": "5c1b33dc-ea6b-4156-a930-3c4b7b530fa6"
      },
      "source": [
        "# Build CNN Model Architecture\n",
        "# We will now build our basic 2-layer CNN model architecture\n",
        "# define input shape\n",
        "INPUT_SHAPE = (28, 28, 1)\n",
        "\n",
        "# define sequential model\n",
        "model = tf.keras.models.Sequential()\n",
        "# define conv-pool layers - set 1\n",
        "model.add(tf.keras.layers.Conv2D(filters=16, kernel_size=(3, 3), strides=(1, 1), \n",
        "                                activation='relu', padding='valid', input_shape=INPUT_SHAPE))\n",
        "model.add(tf.keras.layers.MaxPooling2D(pool_size=(2, 2)))\n",
        "# define conv-pool layers - set 2\n",
        "model.add(tf.keras.layers.Conv2D(filters=32, kernel_size=(3, 3), strides=(1, 1), \n",
        "                                activation='relu', padding='valid', input_shape=INPUT_SHAPE))\n",
        "model.add(tf.keras.layers.MaxPooling2D(pool_size=(2, 2)))\n",
        "\n",
        "# add flatten layer\n",
        "model.add(tf.keras.layers.Flatten())\n",
        "\n",
        "# add dense layers with some dropout\n",
        "model.add(tf.keras.layers.Dense(256, activation='relu'))\n",
        "model.add(tf.keras.layers.Dropout(rate=0.3))\n",
        "model.add(tf.keras.layers.Dense(256, activation='relu'))\n",
        "model.add(tf.keras.layers.Dropout(rate=0.3))\n",
        "\n",
        "# add output layer\n",
        "model.add(tf.keras.layers.Dense(10, activation='softmax'))\n",
        "\n",
        "# compile model\n",
        "model.compile(optimizer='adam', \n",
        "              loss='sparse_categorical_crossentropy', \n",
        "              metrics=['accuracy'])\n",
        "\n",
        "# view model layers\n",
        "model.summary()"
      ],
      "execution_count": 5,
      "outputs": [
        {
          "output_type": "stream",
          "text": [
            "Model: \"sequential\"\n",
            "_________________________________________________________________\n",
            "Layer (type)                 Output Shape              Param #   \n",
            "=================================================================\n",
            "conv2d (Conv2D)              (None, 26, 26, 16)        160       \n",
            "_________________________________________________________________\n",
            "max_pooling2d (MaxPooling2D) (None, 13, 13, 16)        0         \n",
            "_________________________________________________________________\n",
            "conv2d_1 (Conv2D)            (None, 11, 11, 32)        4640      \n",
            "_________________________________________________________________\n",
            "max_pooling2d_1 (MaxPooling2 (None, 5, 5, 32)          0         \n",
            "_________________________________________________________________\n",
            "flatten (Flatten)            (None, 800)               0         \n",
            "_________________________________________________________________\n",
            "dense (Dense)                (None, 256)               205056    \n",
            "_________________________________________________________________\n",
            "dropout (Dropout)            (None, 256)               0         \n",
            "_________________________________________________________________\n",
            "dense_1 (Dense)              (None, 256)               65792     \n",
            "_________________________________________________________________\n",
            "dropout_1 (Dropout)          (None, 256)               0         \n",
            "_________________________________________________________________\n",
            "dense_2 (Dense)              (None, 10)                2570      \n",
            "=================================================================\n",
            "Total params: 278,218\n",
            "Trainable params: 278,218\n",
            "Non-trainable params: 0\n",
            "_________________________________________________________________\n"
          ],
          "name": "stdout"
        }
      ]
    },
    {
      "cell_type": "code",
      "metadata": {
        "id": "XVKj6SfOXzI0",
        "colab_type": "code",
        "colab": {
          "base_uri": "https://localhost:8080/",
          "height": 472
        },
        "outputId": "41c9aaae-19c3-4f7e-b36e-bef8358ace14"
      },
      "source": [
        "# Model Training\n",
        "# Let’s train our model for 100 epochs and look at the performance. \n",
        "# We do apply an early-stopping to stop the model training immediately \n",
        "# once we don't see an improvement in validation-loss over the last 2 \n",
        "# epochs using the EarlyStopping callback.\n",
        "\n",
        "EPOCHS = 100\n",
        "train_images_scaled = train_images_gr / 255.\n",
        "es_callback = tf.keras.callbacks.EarlyStopping(monitor='val_loss', patience=2, \n",
        "                                               restore_best_weights=True,\n",
        "                                               verbose=1)\n",
        "\n",
        "history = model.fit(train_images_scaled, train_labels,\n",
        "                    batch_size=32,\n",
        "                    callbacks=[es_callback], \n",
        "                    validation_split=0.1, epochs=EPOCHS,\n",
        "                    verbose=1)"
      ],
      "execution_count": 6,
      "outputs": [
        {
          "output_type": "stream",
          "text": [
            "Epoch 1/100\n",
            "1688/1688 [==============================] - 6s 3ms/step - loss: 0.5284 - accuracy: 0.8049 - val_loss: 0.3643 - val_accuracy: 0.8603\n",
            "Epoch 2/100\n",
            "1688/1688 [==============================] - 5s 3ms/step - loss: 0.3519 - accuracy: 0.8717 - val_loss: 0.3131 - val_accuracy: 0.8807\n",
            "Epoch 3/100\n",
            "1688/1688 [==============================] - 5s 3ms/step - loss: 0.3074 - accuracy: 0.8869 - val_loss: 0.2948 - val_accuracy: 0.8888\n",
            "Epoch 4/100\n",
            "1688/1688 [==============================] - 5s 3ms/step - loss: 0.2739 - accuracy: 0.8990 - val_loss: 0.2711 - val_accuracy: 0.9018\n",
            "Epoch 5/100\n",
            "1688/1688 [==============================] - 6s 3ms/step - loss: 0.2508 - accuracy: 0.9076 - val_loss: 0.2650 - val_accuracy: 0.9045\n",
            "Epoch 6/100\n",
            "1688/1688 [==============================] - 6s 3ms/step - loss: 0.2361 - accuracy: 0.9134 - val_loss: 0.2712 - val_accuracy: 0.9010\n",
            "Epoch 7/100\n",
            "1688/1688 [==============================] - 6s 3ms/step - loss: 0.2190 - accuracy: 0.9194 - val_loss: 0.2642 - val_accuracy: 0.9055\n",
            "Epoch 8/100\n",
            "1688/1688 [==============================] - 6s 3ms/step - loss: 0.2047 - accuracy: 0.9228 - val_loss: 0.2601 - val_accuracy: 0.9058\n",
            "Epoch 9/100\n",
            "1688/1688 [==============================] - 6s 3ms/step - loss: 0.1930 - accuracy: 0.9281 - val_loss: 0.2664 - val_accuracy: 0.9057\n",
            "Epoch 10/100\n",
            "1688/1688 [==============================] - 6s 3ms/step - loss: 0.1816 - accuracy: 0.9309 - val_loss: 0.2568 - val_accuracy: 0.9100\n",
            "Epoch 11/100\n",
            "1688/1688 [==============================] - 5s 3ms/step - loss: 0.1734 - accuracy: 0.9356 - val_loss: 0.2740 - val_accuracy: 0.9032\n",
            "Epoch 12/100\n",
            "1676/1688 [============================>.] - ETA: 0s - loss: 0.1635 - accuracy: 0.9386Restoring model weights from the end of the best epoch.\n",
            "1688/1688 [==============================] - 5s 3ms/step - loss: 0.1632 - accuracy: 0.9387 - val_loss: 0.2702 - val_accuracy: 0.9090\n",
            "Epoch 00012: early stopping\n"
          ],
          "name": "stdout"
        }
      ]
    },
    {
      "cell_type": "code",
      "metadata": {
        "id": "cnchdbtZYLn-",
        "colab_type": "code",
        "colab": {
          "base_uri": "https://localhost:8080/",
          "height": 265
        },
        "outputId": "a3f4fdc2-1e09-43c2-f587-0211906cf6cc"
      },
      "source": [
        "# Plot Learning Curves\n",
        "import pandas as pd\n",
        "\n",
        "fig, ax = plt.subplots(1, 2, figsize=(10, 4))\n",
        "\n",
        "history_df = pd.DataFrame(history.history)\n",
        "history_df[['loss', 'val_loss']].plot(kind='line', ax=ax[0])\n",
        "history_df[['accuracy', 'val_accuracy']].plot(kind='line', ax=ax[1]);"
      ],
      "execution_count": 7,
      "outputs": [
        {
          "output_type": "display_data",
          "data": {
            "image/png": "[encoded data removed]",
            "text/plain": [
              "<Figure size 720x288 with 2 Axes>"
            ]
          },
          "metadata": {
            "tags": [],
            "needs_background": "light"
          }
        }
      ]
    },
    {
      "cell_type": "code",
      "metadata": {
        "id": "nApr3y6BYgnF",
        "colab_type": "code",
        "colab": {
          "base_uri": "https://localhost:8080/",
          "height": 268
        },
        "outputId": "70007de9-0f2e-447f-cb10-e0e67eece29d"
      },
      "source": [
        "# Evaluate Model Performance on Test Data\n",
        "test_images_scaled = test_images_gr / 255.\n",
        "predictions = model.predict(test_images_scaled)\n",
        "predictions[:5]"
      ],
      "execution_count": 8,
      "outputs": [
        {
          "output_type": "execute_result",
          "data": {
            "text/plain": [
              "array([[3.8724488e-12, 3.3206495e-16, 6.4855391e-12, 6.0909059e-15,\n",
              "        9.0094924e-14, 7.8834653e-08, 4.3281172e-13, 9.0486992e-08,\n",
              "        1.1446326e-12, 9.9999988e-01],\n",
              "       [1.7403901e-08, 2.2928283e-19, 1.0000000e+00, 1.2635453e-14,\n",
              "        1.1664603e-09, 4.4839929e-17, 5.1074043e-08, 1.1767520e-22,\n",
              "        2.4061697e-12, 4.1186274e-22],\n",
              "       [6.4569072e-15, 1.0000000e+00, 1.4389042e-19, 6.6289784e-19,\n",
              "        1.8297255e-19, 2.0051292e-24, 5.9797367e-21, 2.6077523e-37,\n",
              "        4.4143271e-23, 1.0557158e-36],\n",
              "       [3.2264285e-14, 1.0000000e+00, 6.0411761e-16, 2.2090310e-13,\n",
              "        4.8581165e-14, 7.4709687e-22, 2.1791324e-15, 4.7065470e-29,\n",
              "        5.5259058e-20, 2.7595419e-29],\n",
              "       [3.2319763e-01, 6.4111582e-06, 1.1790886e-02, 1.3546806e-03,\n",
              "        1.6213666e-03, 1.9167179e-07, 6.6197419e-01, 4.1723929e-08,\n",
              "        5.4147753e-05, 4.1816406e-07]], dtype=float32)"
            ]
          },
          "metadata": {
            "tags": []
          },
          "execution_count": 8
        }
      ]
    },
    {
      "cell_type": "code",
      "metadata": {
        "id": "tkwvH1ksYn3n",
        "colab_type": "code",
        "colab": {
          "base_uri": "https://localhost:8080/",
          "height": 33
        },
        "outputId": "89629bf5-9658-4137-bb48-65c6bb31fd58"
      },
      "source": [
        "prediction_labels = np.argmax(predictions, axis=1)\n",
        "prediction_labels[:5]"
      ],
      "execution_count": 9,
      "outputs": [
        {
          "output_type": "execute_result",
          "data": {
            "text/plain": [
              "array([9, 2, 1, 1, 6])"
            ]
          },
          "metadata": {
            "tags": []
          },
          "execution_count": 9
        }
      ]
    },
    {
      "cell_type": "code",
      "metadata": {
        "id": "0DCMauZzYq00",
        "colab_type": "code",
        "colab": {
          "base_uri": "https://localhost:8080/",
          "height": 700
        },
        "outputId": "72268d5b-b360-4de5-9bbb-ab9eda4db637"
      },
      "source": [
        "from sklearn.metrics import confusion_matrix, classification_report\n",
        "import pandas as pd\n",
        "\n",
        "print(classification_report(test_labels, prediction_labels, target_names=class_names))\n",
        "pd.DataFrame(confusion_matrix(test_labels, prediction_labels), index=class_names, columns=class_names)"
      ],
      "execution_count": 10,
      "outputs": [
        {
          "output_type": "stream",
          "text": [
            "              precision    recall  f1-score   support\n",
            "\n",
            " T-shirt/top       0.84      0.86      0.85      1000\n",
            "     Trouser       0.99      0.97      0.98      1000\n",
            "    Pullover       0.85      0.89      0.87      1000\n",
            "       Dress       0.93      0.90      0.91      1000\n",
            "        Coat       0.85      0.87      0.86      1000\n",
            "      Sandal       0.99      0.97      0.98      1000\n",
            "       Shirt       0.73      0.68      0.71      1000\n",
            "     Sneaker       0.95      0.96      0.95      1000\n",
            "         Bag       0.98      0.98      0.98      1000\n",
            "  Ankle boot       0.96      0.97      0.96      1000\n",
            "\n",
            "    accuracy                           0.91     10000\n",
            "   macro avg       0.90      0.91      0.90     10000\n",
            "weighted avg       0.90      0.91      0.90     10000\n",
            "\n"
          ],
          "name": "stdout"
        },
        {
          "output_type": "execute_result",
          "data": {
            "text/html": [
              "<div>\n",
              "<style scoped>\n",
              "    .dataframe tbody tr th:only-of-type {\n",
              "        vertical-align: middle;\n",
              "    }\n",
              "\n",
              "    .dataframe tbody tr th {\n",
              "        vertical-align: top;\n",
              "    }\n",
              "\n",
              "    .dataframe thead th {\n",
              "        text-align: right;\n",
              "    }\n",
              "</style>\n",
              "<table border=\"1\" class=\"dataframe\">\n",
              "  <thead>\n",
              "    <tr style=\"text-align: right;\">\n",
              "      <th></th>\n",
              "      <th>T-shirt/top</th>\n",
              "      <th>Trouser</th>\n",
              "      <th>Pullover</th>\n",
              "      <th>Dress</th>\n",
              "      <th>Coat</th>\n",
              "      <th>Sandal</th>\n",
              "      <th>Shirt</th>\n",
              "      <th>Sneaker</th>\n",
              "      <th>Bag</th>\n",
              "      <th>Ankle boot</th>\n",
              "    </tr>\n",
              "  </thead>\n",
              "  <tbody>\n",
              "    <tr>\n",
              "      <th>T-shirt/top</th>\n",
              "      <td>862</td>\n",
              "      <td>0</td>\n",
              "      <td>20</td>\n",
              "      <td>12</td>\n",
              "      <td>4</td>\n",
              "      <td>1</td>\n",
              "      <td>95</td>\n",
              "      <td>0</td>\n",
              "      <td>6</td>\n",
              "      <td>0</td>\n",
              "    </tr>\n",
              "    <tr>\n",
              "      <th>Trouser</th>\n",
              "      <td>3</td>\n",
              "      <td>972</td>\n",
              "      <td>0</td>\n",
              "      <td>13</td>\n",
              "      <td>3</td>\n",
              "      <td>0</td>\n",
              "      <td>7</td>\n",
              "      <td>0</td>\n",
              "      <td>2</td>\n",
              "      <td>0</td>\n",
              "    </tr>\n",
              "    <tr>\n",
              "      <th>Pullover</th>\n",
              "      <td>13</td>\n",
              "      <td>1</td>\n",
              "      <td>888</td>\n",
              "      <td>7</td>\n",
              "      <td>40</td>\n",
              "      <td>0</td>\n",
              "      <td>50</td>\n",
              "      <td>0</td>\n",
              "      <td>1</td>\n",
              "      <td>0</td>\n",
              "    </tr>\n",
              "    <tr>\n",
              "      <th>Dress</th>\n",
              "      <td>25</td>\n",
              "      <td>3</td>\n",
              "      <td>11</td>\n",
              "      <td>895</td>\n",
              "      <td>23</td>\n",
              "      <td>0</td>\n",
              "      <td>40</td>\n",
              "      <td>0</td>\n",
              "      <td>2</td>\n",
              "      <td>1</td>\n",
              "    </tr>\n",
              "    <tr>\n",
              "      <th>Coat</th>\n",
              "      <td>0</td>\n",
              "      <td>1</td>\n",
              "      <td>52</td>\n",
              "      <td>22</td>\n",
              "      <td>872</td>\n",
              "      <td>0</td>\n",
              "      <td>52</td>\n",
              "      <td>0</td>\n",
              "      <td>1</td>\n",
              "      <td>0</td>\n",
              "    </tr>\n",
              "    <tr>\n",
              "      <th>Sandal</th>\n",
              "      <td>1</td>\n",
              "      <td>0</td>\n",
              "      <td>0</td>\n",
              "      <td>0</td>\n",
              "      <td>0</td>\n",
              "      <td>966</td>\n",
              "      <td>0</td>\n",
              "      <td>23</td>\n",
              "      <td>0</td>\n",
              "      <td>10</td>\n",
              "    </tr>\n",
              "    <tr>\n",
              "      <th>Shirt</th>\n",
              "      <td>126</td>\n",
              "      <td>1</td>\n",
              "      <td>75</td>\n",
              "      <td>16</td>\n",
              "      <td>87</td>\n",
              "      <td>0</td>\n",
              "      <td>683</td>\n",
              "      <td>0</td>\n",
              "      <td>12</td>\n",
              "      <td>0</td>\n",
              "    </tr>\n",
              "    <tr>\n",
              "      <th>Sneaker</th>\n",
              "      <td>0</td>\n",
              "      <td>0</td>\n",
              "      <td>0</td>\n",
              "      <td>0</td>\n",
              "      <td>0</td>\n",
              "      <td>9</td>\n",
              "      <td>0</td>\n",
              "      <td>962</td>\n",
              "      <td>0</td>\n",
              "      <td>29</td>\n",
              "    </tr>\n",
              "    <tr>\n",
              "      <th>Bag</th>\n",
              "      <td>1</td>\n",
              "      <td>0</td>\n",
              "      <td>4</td>\n",
              "      <td>2</td>\n",
              "      <td>2</td>\n",
              "      <td>2</td>\n",
              "      <td>4</td>\n",
              "      <td>2</td>\n",
              "      <td>983</td>\n",
              "      <td>0</td>\n",
              "    </tr>\n",
              "    <tr>\n",
              "      <th>Ankle boot</th>\n",
              "      <td>1</td>\n",
              "      <td>0</td>\n",
              "      <td>0</td>\n",
              "      <td>0</td>\n",
              "      <td>0</td>\n",
              "      <td>2</td>\n",
              "      <td>0</td>\n",
              "      <td>29</td>\n",
              "      <td>0</td>\n",
              "      <td>968</td>\n",
              "    </tr>\n",
              "  </tbody>\n",
              "</table>\n",
              "</div>"
            ],
            "text/plain": [
              "             T-shirt/top  Trouser  Pullover  ...  Sneaker  Bag  Ankle boot\n",
              "T-shirt/top          862        0        20  ...        0    6           0\n",
              "Trouser                3      972         0  ...        0    2           0\n",
              "Pullover              13        1       888  ...        0    1           0\n",
              "Dress                 25        3        11  ...        0    2           1\n",
              "Coat                   0        1        52  ...        0    1           0\n",
              "Sandal                 1        0         0  ...       23    0          10\n",
              "Shirt                126        1        75  ...        0   12           0\n",
              "Sneaker                0        0         0  ...      962    0          29\n",
              "Bag                    1        0         4  ...        2  983           0\n",
              "Ankle boot             1        0         0  ...       29    0         968\n",
              "\n",
              "[10 rows x 10 columns]"
            ]
          },
          "metadata": {
            "tags": []
          },
          "execution_count": 10
        }
      ]
    },
    {
      "cell_type": "code",
      "metadata": {
        "id": "SPPluj3KYvim",
        "colab_type": "code",
        "colab": {
          "base_uri": "https://localhost:8080/",
          "height": 67
        },
        "outputId": "b8c6a889-7e07-486b-eb9d-9faf8dfbd5e5"
      },
      "source": [
        "print(test_labels[:100])"
      ],
      "execution_count": 11,
      "outputs": [
        {
          "output_type": "stream",
          "text": [
            "[9 2 1 1 6 1 4 6 5 7 4 5 7 3 4 1 2 4 8 0 2 5 7 9 1 4 6 0 9 3 8 8 3 3 8 0 7\n",
            " 5 7 9 6 1 3 7 6 7 2 1 2 2 4 4 5 8 2 2 8 4 8 0 7 7 8 5 1 1 2 3 9 8 7 0 2 6\n",
            " 2 3 1 2 8 4 1 8 5 9 5 0 3 2 0 6 5 3 6 7 1 8 0 1 4 2]\n"
          ],
          "name": "stdout"
        }
      ]
    },
    {
      "cell_type": "code",
      "metadata": {
        "id": "qGQD5CYqY8PK",
        "colab_type": "code",
        "colab": {
          "base_uri": "https://localhost:8080/",
          "height": 33
        },
        "outputId": "c25ade50-3c8d-4259-ca5c-ed535d75e8ac"
      },
      "source": [
        "test_labels\n"
      ],
      "execution_count": 12,
      "outputs": [
        {
          "output_type": "execute_result",
          "data": {
            "text/plain": [
              "array([9, 2, 1, ..., 8, 1, 5], dtype=uint8)"
            ]
          },
          "metadata": {
            "tags": []
          },
          "execution_count": 12
        }
      ]
    },
    {
      "cell_type": "code",
      "metadata": {
        "id": "Agt3kSzFY_A0",
        "colab_type": "code",
        "colab": {
          "base_uri": "https://localhost:8080/",
          "height": 33
        },
        "outputId": "a779c6c1-1b0b-4f44-8b80-f3e453a9484a"
      },
      "source": [
        "test_image_idxs = [0, 23, 28]\n",
        "test_labels[test_image_idxs]"
      ],
      "execution_count": 13,
      "outputs": [
        {
          "output_type": "execute_result",
          "data": {
            "text/plain": [
              "array([9, 9, 9], dtype=uint8)"
            ]
          },
          "metadata": {
            "tags": []
          },
          "execution_count": 13
        }
      ]
    },
    {
      "cell_type": "code",
      "metadata": {
        "id": "Q1nzm-xyZCSM",
        "colab_type": "code",
        "colab": {}
      },
      "source": [
        "layer_outputs = [layer.output for layer in model.layers]\n",
        "activation_model = tf.keras.models.Model(inputs=model.input, outputs=layer_outputs)"
      ],
      "execution_count": 14,
      "outputs": []
    },
    {
      "cell_type": "code",
      "metadata": {
        "id": "X3xmggk1ZIuf",
        "colab_type": "code",
        "colab": {
          "base_uri": "https://localhost:8080/",
          "height": 369
        },
        "outputId": "8f893062-394d-47b1-d2ea-e0fa74d78282"
      },
      "source": [
        "f, axarr = plt.subplots(3,4, figsize=(8, 5))\n",
        "\n",
        "FIRST_IMAGE=0\n",
        "SECOND_IMAGE=23\n",
        "THIRD_IMAGE=28\n",
        "CONVOLUTION_NUMBER = 13\n",
        "\n",
        "for x in range(0,4):\n",
        "  f1 = activation_model.predict(test_images_scaled[FIRST_IMAGE].reshape(1, 28, 28, 1))[x]\n",
        "  axarr[0,x].imshow(f1[0, : , :, CONVOLUTION_NUMBER], cmap='binary_r')\n",
        "  axarr[0,x].grid(False)\n",
        "  axarr[0,x].set_title(class_names[test_labels[FIRST_IMAGE]])\n",
        "  f2 = activation_model.predict(test_images_scaled[SECOND_IMAGE].reshape(1, 28, 28, 1))[x]\n",
        "  axarr[1,x].imshow(f2[0, : , :, CONVOLUTION_NUMBER], cmap='binary_r')\n",
        "  axarr[1,x].grid(False)\n",
        "  axarr[1,x].set_title(class_names[test_labels[SECOND_IMAGE]])\n",
        "  f3 = activation_model.predict(test_images_scaled[THIRD_IMAGE].reshape(1, 28, 28, 1))[x]\n",
        "  axarr[2,x].imshow(f3[0, : , :, CONVOLUTION_NUMBER], cmap='binary_r')\n",
        "  axarr[2,x].grid(False)\n",
        "  axarr[2,x].set_title(class_names[test_labels[THIRD_IMAGE]])\n",
        "plt.tight_layout()"
      ],
      "execution_count": 15,
      "outputs": [
        {
          "output_type": "display_data",
          "data": {
            "image/png": "[encoded data removed]",
            "text/plain": [
              "<Figure size 576x360 with 12 Axes>"
            ]
          },
          "metadata": {
            "tags": [],
            "needs_background": "light"
          }
        }
      ]
    },
    {
      "cell_type": "code",
      "metadata": {
        "id": "496nlQdgZQz_",
        "colab_type": "code",
        "colab": {
          "base_uri": "https://localhost:8080/",
          "height": 369
        },
        "outputId": "109f1abe-e98c-4610-cf11-97db9f6c767f"
      },
      "source": [
        "f, axarr = plt.subplots(3,4, figsize=(8, 5))\n",
        "\n",
        "FIRST_IMAGE=2\n",
        "SECOND_IMAGE=3\n",
        "THIRD_IMAGE=5\n",
        "CONVOLUTION_NUMBER = 13\n",
        "\n",
        "for x in range(0,4):\n",
        "  f1 = activation_model.predict(test_images_scaled[FIRST_IMAGE].reshape(1, 28, 28, 1))[x]\n",
        "  axarr[0,x].imshow(f1[0, : , :, CONVOLUTION_NUMBER], cmap='binary_r')\n",
        "  axarr[0,x].grid(False)\n",
        "  axarr[0,x].set_title(class_names[test_labels[FIRST_IMAGE]])\n",
        "  f2 = activation_model.predict(test_images_scaled[SECOND_IMAGE].reshape(1, 28, 28, 1))[x]\n",
        "  axarr[1,x].imshow(f2[0, : , :, CONVOLUTION_NUMBER], cmap='binary_r')\n",
        "  axarr[1,x].grid(False)\n",
        "  axarr[1,x].set_title(class_names[test_labels[SECOND_IMAGE]])\n",
        "  f3 = activation_model.predict(test_images_scaled[THIRD_IMAGE].reshape(1, 28, 28, 1))[x]\n",
        "  axarr[2,x].imshow(f3[0, : , :, CONVOLUTION_NUMBER], cmap='binary_r')\n",
        "  axarr[2,x].grid(False)\n",
        "  axarr[2,x].set_title(class_names[test_labels[THIRD_IMAGE]])\n",
        "plt.tight_layout()"
      ],
      "execution_count": 16,
      "outputs": [
        {
          "output_type": "display_data",
          "data": {
            "image/png": "[encoded data removed]",
            "text/plain": [
              "<Figure size 576x360 with 12 Axes>"
            ]
          },
          "metadata": {
            "tags": [],
            "needs_background": "light"
          }
        }
      ]
    },
    {
      "cell_type": "code",
      "metadata": {
        "id": "1oWUUlKHZXkV",
        "colab_type": "code",
        "colab": {
          "base_uri": "https://localhost:8080/",
          "height": 369
        },
        "outputId": "1b10dcdc-c1ba-4ea0-fd74-f58fd667a30d"
      },
      "source": [
        "f, axarr = plt.subplots(3,4, figsize=(8, 5))\n",
        "\n",
        "FIRST_IMAGE=2\n",
        "SECOND_IMAGE=3\n",
        "THIRD_IMAGE=5\n",
        "CONVOLUTION_NUMBER = 3\n",
        "\n",
        "for x in range(0,4):\n",
        "  f1 = activation_model.predict(test_images_scaled[FIRST_IMAGE].reshape(1, 28, 28, 1))[x]\n",
        "  axarr[0,x].imshow(f1[0, : , :, CONVOLUTION_NUMBER], cmap='binary_r')\n",
        "  axarr[0,x].grid(False)\n",
        "  axarr[0,x].set_title(class_names[test_labels[FIRST_IMAGE]])\n",
        "  f2 = activation_model.predict(test_images_scaled[SECOND_IMAGE].reshape(1, 28, 28, 1))[x]\n",
        "  axarr[1,x].imshow(f2[0, : , :, CONVOLUTION_NUMBER], cmap='binary_r')\n",
        "  axarr[1,x].grid(False)\n",
        "  axarr[1,x].set_title(class_names[test_labels[SECOND_IMAGE]])\n",
        "  f3 = activation_model.predict(test_images_scaled[THIRD_IMAGE].reshape(1, 28, 28, 1))[x]\n",
        "  axarr[2,x].imshow(f3[0, : , :, CONVOLUTION_NUMBER], cmap='binary_r')\n",
        "  axarr[2,x].grid(False)\n",
        "  axarr[2,x].set_title(class_names[test_labels[THIRD_IMAGE]])\n",
        "plt.tight_layout()"
      ],
      "execution_count": 17,
      "outputs": [
        {
          "output_type": "display_data",
          "data": {
            "image/png": "[encoded data removed]",
            "text/plain": [
              "<Figure size 576x360 with 12 Axes>"
            ]
          },
          "metadata": {
            "tags": [],
            "needs_background": "light"
          }
        }
      ]
    },
    {
      "cell_type": "code",
      "metadata": {
        "id": "xS_tW3lJZfcP",
        "colab_type": "code",
        "colab": {
          "base_uri": "https://localhost:8080/",
          "height": 67
        },
        "outputId": "80c5d1c5-eb13-4494-c84c-6d34ee807c0b"
      },
      "source": [
        "# 2. Fine-tuning a pre-trained VGG-19 CNN Model\n",
        "\n",
        "# Here, we will use a VGG-19 model which was pre-trained on the ImageNet\n",
        "# dataset by fine-tuning it on the Fashion-MNIST dataset.\n",
        "\n",
        "# Reshaping Image Data for Modeling\n",
        "\"\"\"\n",
        "We do need to reshape our data before we train our model. Here we will \n",
        "convert the images to 3-channel images (image pixel tensors) as the VGG \n",
        "model was originally trained on RGB images \"\"\"\n",
        "\n",
        "train_images_3ch = np.stack([train_images]*3, axis=-1)\n",
        "test_images_3ch = np.stack([test_images]*3, axis=-1)\n",
        "\n",
        "print('\\nTrain_images.shape: {}, of {}'.format(train_images_3ch.shape, train_images_3ch.dtype))\n",
        "print('Test_images.shape: {}, of {}'.format(test_images_3ch.shape, test_images_3ch.dtype))"
      ],
      "execution_count": 18,
      "outputs": [
        {
          "output_type": "stream",
          "text": [
            "\n",
            "Train_images.shape: (60000, 28, 28, 3), of uint8\n",
            "Test_images.shape: (10000, 28, 28, 3), of uint8\n"
          ],
          "name": "stdout"
        }
      ]
    },
    {
      "cell_type": "code",
      "metadata": {
        "id": "EqxFqnOHaBCk",
        "colab_type": "code",
        "colab": {}
      },
      "source": [
        "# Resizing Image Data for Modeling\n",
        "\n",
        "import cv2\n",
        "\n",
        "def resize_image_array(img, img_size_dims):\n",
        "    img = cv2.resize(img, dsize=img_size_dims, \n",
        "                     interpolation=cv2.INTER_CUBIC)\n",
        "    img = np.array(img, dtype=np.float32)\n",
        "    return img"
      ],
      "execution_count": 19,
      "outputs": []
    },
    {
      "cell_type": "code",
      "metadata": {
        "id": "whqyRSJtaH_d",
        "colab_type": "code",
        "colab": {
          "base_uri": "https://localhost:8080/",
          "height": 100
        },
        "outputId": "75b4121d-e73c-492c-a822-2cebb54b578e"
      },
      "source": [
        "%%time\n",
        "\n",
        "IMG_DIMS = (32, 32)\n",
        "\n",
        "train_images_3ch = np.array([resize_image_array(img, img_size_dims=IMG_DIMS) for img in train_images_3ch])\n",
        "test_images_3ch = np.array([resize_image_array(img, img_size_dims=IMG_DIMS) for img in test_images_3ch])\n",
        "\n",
        "print('\\nTrain_images.shape: {}, of {}'.format(train_images_3ch.shape, train_images_3ch.dtype))\n",
        "print('Test_images.shape: {}, of {}'.format(test_images_3ch.shape, test_images_3ch.dtype))"
      ],
      "execution_count": 20,
      "outputs": [
        {
          "output_type": "stream",
          "text": [
            "\n",
            "Train_images.shape: (60000, 32, 32, 3), of float32\n",
            "Test_images.shape: (10000, 32, 32, 3), of float32\n",
            "CPU times: user 1.74 s, sys: 685 ms, total: 2.43 s\n",
            "Wall time: 2.45 s\n"
          ],
          "name": "stdout"
        }
      ]
    },
    {
      "cell_type": "code",
      "metadata": {
        "id": "AveugFLHaMI8",
        "colab_type": "code",
        "colab": {
          "base_uri": "https://localhost:8080/",
          "height": 940
        },
        "outputId": "f0236fcb-4307-4174-cc98-447692ce6fbf"
      },
      "source": [
        "# Build CNN Model Architecture\n",
        "# We will now build our CNN model architecture customizing the VGG-19 model.\n",
        "\n",
        "# define input shape\n",
        "INPUT_SHAPE = (32, 32, 3)\n",
        "\n",
        "# get the VGG19 model\n",
        "vgg_layers = tf.keras.applications.vgg19.VGG19(weights='imagenet', include_top=False, \n",
        "                                               input_shape=INPUT_SHAPE)\n",
        "\n",
        "vgg_layers.summary()"
      ],
      "execution_count": 21,
      "outputs": [
        {
          "output_type": "stream",
          "text": [
            "Downloading data from https://storage.googleapis.com/tensorflow/keras-applications/vgg19/vgg19_weights_tf_dim_ordering_tf_kernels_notop.h5\n",
            "80142336/80134624 [==============================] - 1s 0us/step\n",
            "Model: \"vgg19\"\n",
            "_________________________________________________________________\n",
            "Layer (type)                 Output Shape              Param #   \n",
            "=================================================================\n",
            "input_1 (InputLayer)         [(None, 32, 32, 3)]       0         \n",
            "_________________________________________________________________\n",
            "block1_conv1 (Conv2D)        (None, 32, 32, 64)        1792      \n",
            "_________________________________________________________________\n",
            "block1_conv2 (Conv2D)        (None, 32, 32, 64)        36928     \n",
            "_________________________________________________________________\n",
            "block1_pool (MaxPooling2D)   (None, 16, 16, 64)        0         \n",
            "_________________________________________________________________\n",
            "block2_conv1 (Conv2D)        (None, 16, 16, 128)       73856     \n",
            "_________________________________________________________________\n",
            "block2_conv2 (Conv2D)        (None, 16, 16, 128)       147584    \n",
            "_________________________________________________________________\n",
            "block2_pool (MaxPooling2D)   (None, 8, 8, 128)         0         \n",
            "_________________________________________________________________\n",
            "block3_conv1 (Conv2D)        (None, 8, 8, 256)         295168    \n",
            "_________________________________________________________________\n",
            "block3_conv2 (Conv2D)        (None, 8, 8, 256)         590080    \n",
            "_________________________________________________________________\n",
            "block3_conv3 (Conv2D)        (None, 8, 8, 256)         590080    \n",
            "_________________________________________________________________\n",
            "block3_conv4 (Conv2D)        (None, 8, 8, 256)         590080    \n",
            "_________________________________________________________________\n",
            "block3_pool (MaxPooling2D)   (None, 4, 4, 256)         0         \n",
            "_________________________________________________________________\n",
            "block4_conv1 (Conv2D)        (None, 4, 4, 512)         1180160   \n",
            "_________________________________________________________________\n",
            "block4_conv2 (Conv2D)        (None, 4, 4, 512)         2359808   \n",
            "_________________________________________________________________\n",
            "block4_conv3 (Conv2D)        (None, 4, 4, 512)         2359808   \n",
            "_________________________________________________________________\n",
            "block4_conv4 (Conv2D)        (None, 4, 4, 512)         2359808   \n",
            "_________________________________________________________________\n",
            "block4_pool (MaxPooling2D)   (None, 2, 2, 512)         0         \n",
            "_________________________________________________________________\n",
            "block5_conv1 (Conv2D)        (None, 2, 2, 512)         2359808   \n",
            "_________________________________________________________________\n",
            "block5_conv2 (Conv2D)        (None, 2, 2, 512)         2359808   \n",
            "_________________________________________________________________\n",
            "block5_conv3 (Conv2D)        (None, 2, 2, 512)         2359808   \n",
            "_________________________________________________________________\n",
            "block5_conv4 (Conv2D)        (None, 2, 2, 512)         2359808   \n",
            "_________________________________________________________________\n",
            "block5_pool (MaxPooling2D)   (None, 1, 1, 512)         0         \n",
            "=================================================================\n",
            "Total params: 20,024,384\n",
            "Trainable params: 20,024,384\n",
            "Non-trainable params: 0\n",
            "_________________________________________________________________\n"
          ],
          "name": "stdout"
        }
      ]
    },
    {
      "cell_type": "code",
      "metadata": {
        "id": "VLOi5b9qab5q",
        "colab_type": "code",
        "colab": {
          "base_uri": "https://localhost:8080/",
          "height": 405
        },
        "outputId": "c5f0eda7-a4f4-4d32-8a86-16f2ea59f8a2"
      },
      "source": [
        "# Set layers to trainable to enable fine-tuning\n",
        "# Fine-tune all the layers\n",
        "for layer in vgg_layers.layers:\n",
        "    layer.trainable = True\n",
        "\n",
        "# Check the trainable status of the individual layers\n",
        "for layer in vgg_layers.layers:\n",
        "    print(layer, layer.trainable)"
      ],
      "execution_count": 22,
      "outputs": [
        {
          "output_type": "stream",
          "text": [
            "<tensorflow.python.keras.engine.input_layer.InputLayer object at 0x7f3e573b4668> True\n",
            "<tensorflow.python.keras.layers.convolutional.Conv2D object at 0x7f3e573b4cf8> True\n",
            "<tensorflow.python.keras.layers.convolutional.Conv2D object at 0x7f3e5743a7f0> True\n",
            "<tensorflow.python.keras.layers.pooling.MaxPooling2D object at 0x7f3e573b0710> True\n",
            "<tensorflow.python.keras.layers.convolutional.Conv2D object at 0x7f3e5743aa90> True\n",
            "<tensorflow.python.keras.layers.convolutional.Conv2D object at 0x7f3f1649d6a0> True\n",
            "<tensorflow.python.keras.layers.pooling.MaxPooling2D object at 0x7f3e58418c18> True\n",
            "<tensorflow.python.keras.layers.convolutional.Conv2D object at 0x7f3e58418710> True\n",
            "<tensorflow.python.keras.layers.convolutional.Conv2D object at 0x7f3e55245da0> True\n",
            "<tensorflow.python.keras.layers.convolutional.Conv2D object at 0x7f3e54808908> True\n",
            "<tensorflow.python.keras.layers.convolutional.Conv2D object at 0x7f3e551378d0> True\n",
            "<tensorflow.python.keras.layers.pooling.MaxPooling2D object at 0x7f3e54597358> True\n",
            "<tensorflow.python.keras.layers.convolutional.Conv2D object at 0x7f3e54549d30> True\n",
            "<tensorflow.python.keras.layers.convolutional.Conv2D object at 0x7f3e5512f780> True\n",
            "<tensorflow.python.keras.layers.convolutional.Conv2D object at 0x7f3e54547da0> True\n",
            "<tensorflow.python.keras.layers.convolutional.Conv2D object at 0x7f3e544e2358> True\n",
            "<tensorflow.python.keras.layers.pooling.MaxPooling2D object at 0x7f3e5451acf8> True\n",
            "<tensorflow.python.keras.layers.convolutional.Conv2D object at 0x7f3e54559da0> True\n",
            "<tensorflow.python.keras.layers.convolutional.Conv2D object at 0x7f3e544e22b0> True\n",
            "<tensorflow.python.keras.layers.convolutional.Conv2D object at 0x7f3e5458e358> True\n",
            "<tensorflow.python.keras.layers.convolutional.Conv2D object at 0x7f3e5458eba8> True\n",
            "<tensorflow.python.keras.layers.pooling.MaxPooling2D object at 0x7f3e5444e898> True\n"
          ],
          "name": "stdout"
        }
      ]
    },
    {
      "cell_type": "code",
      "metadata": {
        "id": "sK6PfnVNamQf",
        "colab_type": "code",
        "colab": {
          "base_uri": "https://localhost:8080/",
          "height": 385
        },
        "outputId": "954deb09-ef95-4d8c-9d89-e454a989c8e7"
      },
      "source": [
        "# Build CNN model on top of VGG19\n",
        "# define sequential model\n",
        "model = tf.keras.models.Sequential()\n",
        "\n",
        "# Add the vgg convolutional base model\n",
        "model.add(vgg_layers)\n",
        "\n",
        "# add flatten layer\n",
        "model.add(tf.keras.layers.Flatten())\n",
        "\n",
        "# add dense layers with some dropout\n",
        "model.add(tf.keras.layers.Dense(256, activation='relu'))\n",
        "model.add(tf.keras.layers.Dropout(rate=0.3))\n",
        "model.add(tf.keras.layers.Dense(256, activation='relu'))\n",
        "model.add(tf.keras.layers.Dropout(rate=0.3))\n",
        "\n",
        "# add output layer\n",
        "model.add(tf.keras.layers.Dense(10, activation='softmax'))\n",
        "\n",
        "# compile model\n",
        "model.compile(optimizer=tf.keras.optimizers.Adam(learning_rate=2e-5), \n",
        "              loss='sparse_categorical_crossentropy', \n",
        "              metrics=['accuracy'])\n",
        "\n",
        "# view model layers\n",
        "model.summary()"
      ],
      "execution_count": 23,
      "outputs": [
        {
          "output_type": "stream",
          "text": [
            "Model: \"sequential_1\"\n",
            "_________________________________________________________________\n",
            "Layer (type)                 Output Shape              Param #   \n",
            "=================================================================\n",
            "vgg19 (Functional)           (None, 1, 1, 512)         20024384  \n",
            "_________________________________________________________________\n",
            "flatten_1 (Flatten)          (None, 512)               0         \n",
            "_________________________________________________________________\n",
            "dense_3 (Dense)              (None, 256)               131328    \n",
            "_________________________________________________________________\n",
            "dropout_2 (Dropout)          (None, 256)               0         \n",
            "_________________________________________________________________\n",
            "dense_4 (Dense)              (None, 256)               65792     \n",
            "_________________________________________________________________\n",
            "dropout_3 (Dropout)          (None, 256)               0         \n",
            "_________________________________________________________________\n",
            "dense_5 (Dense)              (None, 10)                2570      \n",
            "=================================================================\n",
            "Total params: 20,224,074\n",
            "Trainable params: 20,224,074\n",
            "Non-trainable params: 0\n",
            "_________________________________________________________________\n"
          ],
          "name": "stdout"
        }
      ]
    },
    {
      "cell_type": "code",
      "metadata": {
        "id": "g9wbqe7jaxUf",
        "colab_type": "code",
        "colab": {
          "base_uri": "https://localhost:8080/",
          "height": 351
        },
        "outputId": "a3bd5c7b-1e17-4b0d-fedf-4ffc9778b088"
      },
      "source": [
        "EPOCHS = 100\n",
        "train_images_3ch_scaled = train_images_3ch / 255.\n",
        "es_callback = tf.keras.callbacks.EarlyStopping(monitor='val_loss', patience=2, \n",
        "                                               restore_best_weights=True,\n",
        "                                               verbose=1)\n",
        "\n",
        "history = model.fit(train_images_3ch_scaled, train_labels,\n",
        "                    batch_size=32,\n",
        "                    callbacks=[es_callback], \n",
        "                    validation_split=0.1, epochs=EPOCHS,\n",
        "                    verbose=1)"
      ],
      "execution_count": 24,
      "outputs": [
        {
          "output_type": "stream",
          "text": [
            "Epoch 1/100\n",
            "1688/1688 [==============================] - 25s 15ms/step - loss: 0.5278 - accuracy: 0.8241 - val_loss: 0.3106 - val_accuracy: 0.8903\n",
            "Epoch 2/100\n",
            "1688/1688 [==============================] - 25s 15ms/step - loss: 0.3156 - accuracy: 0.8947 - val_loss: 0.2797 - val_accuracy: 0.9042\n",
            "Epoch 3/100\n",
            "1688/1688 [==============================] - 25s 15ms/step - loss: 0.2589 - accuracy: 0.9112 - val_loss: 0.2605 - val_accuracy: 0.9087\n",
            "Epoch 4/100\n",
            "1688/1688 [==============================] - 25s 15ms/step - loss: 0.2263 - accuracy: 0.9218 - val_loss: 0.2315 - val_accuracy: 0.9158\n",
            "Epoch 5/100\n",
            "1688/1688 [==============================] - 25s 15ms/step - loss: 0.2021 - accuracy: 0.9298 - val_loss: 0.2304 - val_accuracy: 0.9183\n",
            "Epoch 6/100\n",
            "1688/1688 [==============================] - 25s 15ms/step - loss: 0.1787 - accuracy: 0.9374 - val_loss: 0.2485 - val_accuracy: 0.9172\n",
            "Epoch 7/100\n",
            "1688/1688 [==============================] - 25s 15ms/step - loss: 0.1608 - accuracy: 0.9436 - val_loss: 0.2017 - val_accuracy: 0.9327\n",
            "Epoch 8/100\n",
            "1688/1688 [==============================] - 25s 15ms/step - loss: 0.1452 - accuracy: 0.9504 - val_loss: 0.2019 - val_accuracy: 0.9313\n",
            "Epoch 9/100\n",
            "1687/1688 [============================>.] - ETA: 0s - loss: 0.1300 - accuracy: 0.9550Restoring model weights from the end of the best epoch.\n",
            "1688/1688 [==============================] - 25s 15ms/step - loss: 0.1300 - accuracy: 0.9551 - val_loss: 0.2078 - val_accuracy: 0.9307\n",
            "Epoch 00009: early stopping\n"
          ],
          "name": "stdout"
        }
      ]
    },
    {
      "cell_type": "code",
      "metadata": {
        "id": "-sgPqIIja7Ge",
        "colab_type": "code",
        "colab": {
          "base_uri": "https://localhost:8080/",
          "height": 267
        },
        "outputId": "85e6274b-6376-4f52-dbc5-92427a510e09"
      },
      "source": [
        "# Plot Learning Curves\n",
        "\n",
        "fig, ax = plt.subplots(1, 2, figsize=(10, 4))\n",
        "\n",
        "history_df = pd.DataFrame(history.history)\n",
        "history_df[['loss', 'val_loss']].plot(kind='line', ax=ax[0])\n",
        "history_df[['accuracy', 'val_accuracy']].plot(kind='line', ax=ax[1]);"
      ],
      "execution_count": 25,
      "outputs": [
        {
          "output_type": "display_data",
          "data": {
            "image/png": "[encoded data removed]",
            "text/plain": [
              "<Figure size 720x288 with 2 Axes>"
            ]
          },
          "metadata": {
            "tags": [],
            "needs_background": "light"
          }
        }
      ]
    },
    {
      "cell_type": "code",
      "metadata": {
        "id": "aMHLKncDbE2Q",
        "colab_type": "code",
        "colab": {
          "base_uri": "https://localhost:8080/",
          "height": 268
        },
        "outputId": "bde8f8a9-363b-4c1f-e145-2bc2e3857bd1"
      },
      "source": [
        "test_images_3ch_scaled = test_images_3ch / 255.\n",
        "predictions = model.predict(test_images_3ch_scaled)\n",
        "predictions[:5]"
      ],
      "execution_count": 26,
      "outputs": [
        {
          "output_type": "execute_result",
          "data": {
            "text/plain": [
              "array([[1.1090740e-07, 5.0362421e-09, 1.0555451e-09, 2.0574421e-07,\n",
              "        3.0806390e-08, 2.4453789e-06, 7.8475047e-08, 1.9962154e-05,\n",
              "        3.0517196e-08, 9.9997711e-01],\n",
              "       [1.1122268e-04, 6.5818057e-07, 9.9944419e-01, 5.5995733e-06,\n",
              "        4.5048131e-05, 9.2140817e-07, 3.9047954e-04, 3.6652833e-07,\n",
              "        9.2976563e-07, 6.2483213e-07],\n",
              "       [5.5059754e-14, 1.0000000e+00, 7.5729082e-13, 3.0556798e-12,\n",
              "        3.2441667e-12, 4.2992798e-13, 2.3612034e-14, 3.8779870e-15,\n",
              "        5.7917164e-13, 1.4086165e-14],\n",
              "       [1.2273010e-10, 1.0000000e+00, 1.5059429e-09, 6.7371038e-09,\n",
              "        3.1406249e-09, 5.3188831e-10, 8.3088335e-11, 2.1230049e-11,\n",
              "        7.0162137e-10, 5.2285246e-11],\n",
              "       [1.8109423e-01, 6.8956334e-04, 1.3265558e-02, 4.0331362e-03,\n",
              "        3.6427286e-03, 4.0189933e-04, 7.9227525e-01, 1.0520107e-03,\n",
              "        3.0578126e-03, 4.8773218e-04]], dtype=float32)"
            ]
          },
          "metadata": {
            "tags": []
          },
          "execution_count": 26
        }
      ]
    },
    {
      "cell_type": "code",
      "metadata": {
        "id": "X5G3NyQ8bHBk",
        "colab_type": "code",
        "colab": {
          "base_uri": "https://localhost:8080/",
          "height": 33
        },
        "outputId": "a0e97db8-4e10-4404-8c8c-afda37d4f463"
      },
      "source": [
        "prediction_labels = np.argmax(predictions, axis=1)\n",
        "prediction_labels[:5]"
      ],
      "execution_count": 27,
      "outputs": [
        {
          "output_type": "execute_result",
          "data": {
            "text/plain": [
              "array([9, 2, 1, 1, 6])"
            ]
          },
          "metadata": {
            "tags": []
          },
          "execution_count": 27
        }
      ]
    },
    {
      "cell_type": "code",
      "metadata": {
        "id": "Jnb4VM98bJuR",
        "colab_type": "code",
        "colab": {
          "base_uri": "https://localhost:8080/",
          "height": 630
        },
        "outputId": "71b81d5b-8e31-4b6a-bc6d-1a41734db6eb"
      },
      "source": [
        "print(classification_report(test_labels, prediction_labels, target_names=class_names))\n",
        "pd.DataFrame(confusion_matrix(test_labels, prediction_labels), index=class_names, columns=class_names)"
      ],
      "execution_count": 28,
      "outputs": [
        {
          "output_type": "stream",
          "text": [
            "              precision    recall  f1-score   support\n",
            "\n",
            " T-shirt/top       0.88      0.88      0.88      1000\n",
            "     Trouser       0.99      0.99      0.99      1000\n",
            "    Pullover       0.89      0.91      0.90      1000\n",
            "       Dress       0.91      0.93      0.92      1000\n",
            "        Coat       0.87      0.91      0.89      1000\n",
            "      Sandal       0.98      0.99      0.99      1000\n",
            "       Shirt       0.85      0.74      0.79      1000\n",
            "     Sneaker       0.96      0.98      0.97      1000\n",
            "         Bag       0.96      0.99      0.98      1000\n",
            "  Ankle boot       0.98      0.96      0.97      1000\n",
            "\n",
            "    accuracy                           0.93     10000\n",
            "   macro avg       0.93      0.93      0.93     10000\n",
            "weighted avg       0.93      0.93      0.93     10000\n",
            "\n"
          ],
          "name": "stdout"
        },
        {
          "output_type": "execute_result",
          "data": {
            "text/html": [
              "<div>\n",
              "<style scoped>\n",
              "    .dataframe tbody tr th:only-of-type {\n",
              "        vertical-align: middle;\n",
              "    }\n",
              "\n",
              "    .dataframe tbody tr th {\n",
              "        vertical-align: top;\n",
              "    }\n",
              "\n",
              "    .dataframe thead th {\n",
              "        text-align: right;\n",
              "    }\n",
              "</style>\n",
              "<table border=\"1\" class=\"dataframe\">\n",
              "  <thead>\n",
              "    <tr style=\"text-align: right;\">\n",
              "      <th></th>\n",
              "      <th>T-shirt/top</th>\n",
              "      <th>Trouser</th>\n",
              "      <th>Pullover</th>\n",
              "      <th>Dress</th>\n",
              "      <th>Coat</th>\n",
              "      <th>Sandal</th>\n",
              "      <th>Shirt</th>\n",
              "      <th>Sneaker</th>\n",
              "      <th>Bag</th>\n",
              "      <th>Ankle boot</th>\n",
              "    </tr>\n",
              "  </thead>\n",
              "  <tbody>\n",
              "    <tr>\n",
              "      <th>T-shirt/top</th>\n",
              "      <td>879</td>\n",
              "      <td>2</td>\n",
              "      <td>11</td>\n",
              "      <td>24</td>\n",
              "      <td>5</td>\n",
              "      <td>0</td>\n",
              "      <td>62</td>\n",
              "      <td>0</td>\n",
              "      <td>17</td>\n",
              "      <td>0</td>\n",
              "    </tr>\n",
              "    <tr>\n",
              "      <th>Trouser</th>\n",
              "      <td>1</td>\n",
              "      <td>987</td>\n",
              "      <td>0</td>\n",
              "      <td>9</td>\n",
              "      <td>0</td>\n",
              "      <td>0</td>\n",
              "      <td>1</td>\n",
              "      <td>0</td>\n",
              "      <td>2</td>\n",
              "      <td>0</td>\n",
              "    </tr>\n",
              "    <tr>\n",
              "      <th>Pullover</th>\n",
              "      <td>18</td>\n",
              "      <td>1</td>\n",
              "      <td>910</td>\n",
              "      <td>9</td>\n",
              "      <td>31</td>\n",
              "      <td>0</td>\n",
              "      <td>29</td>\n",
              "      <td>0</td>\n",
              "      <td>2</td>\n",
              "      <td>0</td>\n",
              "    </tr>\n",
              "    <tr>\n",
              "      <th>Dress</th>\n",
              "      <td>11</td>\n",
              "      <td>6</td>\n",
              "      <td>7</td>\n",
              "      <td>928</td>\n",
              "      <td>30</td>\n",
              "      <td>0</td>\n",
              "      <td>13</td>\n",
              "      <td>0</td>\n",
              "      <td>3</td>\n",
              "      <td>2</td>\n",
              "    </tr>\n",
              "    <tr>\n",
              "      <th>Coat</th>\n",
              "      <td>2</td>\n",
              "      <td>0</td>\n",
              "      <td>40</td>\n",
              "      <td>19</td>\n",
              "      <td>909</td>\n",
              "      <td>0</td>\n",
              "      <td>26</td>\n",
              "      <td>0</td>\n",
              "      <td>4</td>\n",
              "      <td>0</td>\n",
              "    </tr>\n",
              "    <tr>\n",
              "      <th>Sandal</th>\n",
              "      <td>0</td>\n",
              "      <td>0</td>\n",
              "      <td>0</td>\n",
              "      <td>0</td>\n",
              "      <td>0</td>\n",
              "      <td>991</td>\n",
              "      <td>0</td>\n",
              "      <td>7</td>\n",
              "      <td>0</td>\n",
              "      <td>2</td>\n",
              "    </tr>\n",
              "    <tr>\n",
              "      <th>Shirt</th>\n",
              "      <td>92</td>\n",
              "      <td>2</td>\n",
              "      <td>52</td>\n",
              "      <td>30</td>\n",
              "      <td>70</td>\n",
              "      <td>0</td>\n",
              "      <td>740</td>\n",
              "      <td>0</td>\n",
              "      <td>14</td>\n",
              "      <td>0</td>\n",
              "    </tr>\n",
              "    <tr>\n",
              "      <th>Sneaker</th>\n",
              "      <td>0</td>\n",
              "      <td>0</td>\n",
              "      <td>0</td>\n",
              "      <td>0</td>\n",
              "      <td>0</td>\n",
              "      <td>8</td>\n",
              "      <td>0</td>\n",
              "      <td>980</td>\n",
              "      <td>0</td>\n",
              "      <td>12</td>\n",
              "    </tr>\n",
              "    <tr>\n",
              "      <th>Bag</th>\n",
              "      <td>1</td>\n",
              "      <td>2</td>\n",
              "      <td>0</td>\n",
              "      <td>0</td>\n",
              "      <td>1</td>\n",
              "      <td>2</td>\n",
              "      <td>0</td>\n",
              "      <td>0</td>\n",
              "      <td>993</td>\n",
              "      <td>1</td>\n",
              "    </tr>\n",
              "    <tr>\n",
              "      <th>Ankle boot</th>\n",
              "      <td>0</td>\n",
              "      <td>0</td>\n",
              "      <td>0</td>\n",
              "      <td>0</td>\n",
              "      <td>0</td>\n",
              "      <td>6</td>\n",
              "      <td>0</td>\n",
              "      <td>35</td>\n",
              "      <td>1</td>\n",
              "      <td>958</td>\n",
              "    </tr>\n",
              "  </tbody>\n",
              "</table>\n",
              "</div>"
            ],
            "text/plain": [
              "             T-shirt/top  Trouser  Pullover  ...  Sneaker  Bag  Ankle boot\n",
              "T-shirt/top          879        2        11  ...        0   17           0\n",
              "Trouser                1      987         0  ...        0    2           0\n",
              "Pullover              18        1       910  ...        0    2           0\n",
              "Dress                 11        6         7  ...        0    3           2\n",
              "Coat                   2        0        40  ...        0    4           0\n",
              "Sandal                 0        0         0  ...        7    0           2\n",
              "Shirt                 92        2        52  ...        0   14           0\n",
              "Sneaker                0        0         0  ...      980    0          12\n",
              "Bag                    1        2         0  ...        0  993           1\n",
              "Ankle boot             0        0         0  ...       35    1         958\n",
              "\n",
              "[10 rows x 10 columns]"
            ]
          },
          "metadata": {
            "tags": []
          },
          "execution_count": 28
        }
      ]
    },
    {
      "cell_type": "code",
      "metadata": {
        "id": "tCD61hvwb9TF",
        "colab_type": "code",
        "colab": {}
      },
      "source": [
        ""
      ],
      "execution_count": null,
      "outputs": []
    }
  ]
}