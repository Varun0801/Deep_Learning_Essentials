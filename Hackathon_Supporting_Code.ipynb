{
  "nbformat": 4,
  "nbformat_minor": 0,
  "metadata": {
    "colab": {
      "name": "Hackathon Supporting Code.ipynb",
      "provenance": [],
      "authorship_tag": "ABX9TyNRQ7C1sErPhK73nl2V0N78",
      "include_colab_link": true
    },
    "kernelspec": {
      "name": "python3",
      "display_name": "Python 3"
    }
  },
  "cells": [
    {
      "cell_type": "markdown",
      "metadata": {
        "id": "view-in-github",
        "colab_type": "text"
      },
      "source": [
        "<a href=\"https://colab.research.google.com/github/Varun0801/Deep_Learning_Essentials/blob/master/Hackathon_Supporting_Code.ipynb\" target=\"_parent\"><img src=\"https://colab.research.google.com/assets/colab-badge.svg\" alt=\"Open In Colab\"/></a>"
      ]
    },
    {
      "cell_type": "code",
      "metadata": {
        "id": "G7CMVQ_4-1_n",
        "colab_type": "code",
        "colab": {}
      },
      "source": [
        "import pandas as pd\n",
        "from pandas_datareader import data, wb\n",
        "import datetime"
      ],
      "execution_count": 39,
      "outputs": []
    },
    {
      "cell_type": "code",
      "metadata": {
        "id": "ThJNeqXF-18Q",
        "colab_type": "code",
        "colab": {}
      },
      "source": [
        "start = pd.to_datetime('2015-09-24')\n",
        "end = pd.to_datetime('2020-09-24')\n",
        "data_df = data.DataReader('AAPL','yahoo',start,end)"
      ],
      "execution_count": 40,
      "outputs": []
    },
    {
      "cell_type": "code",
      "metadata": {
        "id": "_3bYFmtV-13M",
        "colab_type": "code",
        "colab": {
          "base_uri": "https://localhost:8080/",
          "height": 218
        },
        "outputId": "76cebe26-d168-47cb-a82d-e07bf4126b67"
      },
      "source": [
        "df1=data_df.reset_index()['Close']\n",
        "df1"
      ],
      "execution_count": 41,
      "outputs": [
        {
          "output_type": "execute_result",
          "data": {
            "text/plain": [
              "0        28.750000\n",
              "1        28.677500\n",
              "2        28.110001\n",
              "3        27.264999\n",
              "4        27.575001\n",
              "           ...    \n",
              "1255    106.839996\n",
              "1256    110.080002\n",
              "1257    111.809998\n",
              "1258    107.120003\n",
              "1259    108.220001\n",
              "Name: Close, Length: 1260, dtype: float64"
            ]
          },
          "metadata": {
            "tags": []
          },
          "execution_count": 41
        }
      ]
    },
    {
      "cell_type": "code",
      "metadata": {
        "id": "yYwbIaJHBjUz",
        "colab_type": "code",
        "colab": {
          "base_uri": "https://localhost:8080/",
          "height": 134
        },
        "outputId": "8f6d9cd2-0dfe-41a1-8415-c2b0ae2c0a29"
      },
      "source": [
        "from sklearn.preprocessing import MinMaxScaler\n",
        "scaler=MinMaxScaler(feature_range=(0,1))\n",
        "import numpy as np\n",
        "df1=scaler.fit_transform(np.array(df1).reshape(-1,1))\n",
        "df1"
      ],
      "execution_count": 42,
      "outputs": [
        {
          "output_type": "execute_result",
          "data": {
            "text/plain": [
              "array([[0.05524442],\n",
              "       [0.05459475],\n",
              "       [0.0495094 ],\n",
              "       ...,\n",
              "       [0.79954302],\n",
              "       [0.75751609],\n",
              "       [0.76737315]])"
            ]
          },
          "metadata": {
            "tags": []
          },
          "execution_count": 42
        }
      ]
    },
    {
      "cell_type": "code",
      "metadata": {
        "id": "I4fQxgQ4-1ta",
        "colab_type": "code",
        "colab": {}
      },
      "source": [
        "training_size=int(len(df1)*0.80)\n",
        "test_size=len(df1)-training_size\n",
        "train_data,test_data=df1[0:training_size,:],df1[training_size:len(df1),:1]"
      ],
      "execution_count": 43,
      "outputs": []
    },
    {
      "cell_type": "code",
      "metadata": {
        "id": "hQ9qw3VdBmVe",
        "colab_type": "code",
        "colab": {
          "base_uri": "https://localhost:8080/",
          "height": 50
        },
        "outputId": "1d4dc1d0-b1c6-4f96-89b3-3ca8b98b7683"
      },
      "source": [
        "print(test_data.shape)\n",
        "len(test_data)"
      ],
      "execution_count": 44,
      "outputs": [
        {
          "output_type": "stream",
          "text": [
            "(252, 1)\n"
          ],
          "name": "stdout"
        },
        {
          "output_type": "execute_result",
          "data": {
            "text/plain": [
              "252"
            ]
          },
          "metadata": {
            "tags": []
          },
          "execution_count": 44
        }
      ]
    },
    {
      "cell_type": "code",
      "metadata": {
        "id": "NtzvEZylB0vG",
        "colab_type": "code",
        "colab": {
          "base_uri": "https://localhost:8080/",
          "height": 34
        },
        "outputId": "53210473-15f8-46b7-e978-878ab26a3ac3"
      },
      "source": [
        "x_input=test_data[152:].reshape(1,-1)\n",
        "x_input.shape"
      ],
      "execution_count": 45,
      "outputs": [
        {
          "output_type": "execute_result",
          "data": {
            "text/plain": [
              "(1, 100)"
            ]
          },
          "metadata": {
            "tags": []
          },
          "execution_count": 45
        }
      ]
    },
    {
      "cell_type": "code",
      "metadata": {
        "id": "nuo5kHorB4Nf",
        "colab_type": "code",
        "colab": {
          "base_uri": "https://localhost:8080/",
          "height": 1000
        },
        "outputId": "bbc12687-2a38-4d55-d177-d4a03c688167"
      },
      "source": [
        "temp_input=list(x_input)\n",
        "temp_input=temp_input[0].tolist()\n",
        "temp_input"
      ],
      "execution_count": 46,
      "outputs": [
        {
          "output_type": "execute_result",
          "data": {
            "text/plain": [
              "[0.46422333689000306,\n",
              " 0.47110090197025656,\n",
              " 0.47806802758108835,\n",
              " 0.4923832187083882,\n",
              " 0.5033156197188771,\n",
              " 0.4952507281236953,\n",
              " 0.486827389305748,\n",
              " 0.4910614830307749,\n",
              " 0.4869617984684329,\n",
              " 0.5032035665054282,\n",
              " 0.49912637462595666,\n",
              " 0.5127694515730146,\n",
              " 0.507437660230455,\n",
              " 0.5120077768621942,\n",
              " 0.5071688419050852,\n",
              " 0.5102603210136557,\n",
              " 0.5105739879711321,\n",
              " 0.5098795178416542,\n",
              " 0.5186388795663138,\n",
              " 0.5219768210510182,\n",
              " 0.5259644523999112,\n",
              " 0.5196917969185572,\n",
              " 0.5402572192111578,\n",
              " 0.5446480780481056,\n",
              " 0.5682378432347515,\n",
              " 0.5880640151325849,\n",
              " 0.55011427855335,\n",
              " 0.5566109720947846,\n",
              " 0.5659975993675797,\n",
              " 0.5863614079161528,\n",
              " 0.5852637102986201,\n",
              " 0.5855773772560965,\n",
              " 0.5810744652056997,\n",
              " 0.6015726829169579,\n",
              " 0.6187329591435116,\n",
              " 0.6042385785882376,\n",
              " 0.6149469415386459,\n",
              " 0.5898338269303594,\n",
              " 0.6080918007744457,\n",
              " 0.6148573126412502,\n",
              " 0.6133115389035563,\n",
              " 0.6133115389035563,\n",
              " 0.6351315606592449,\n",
              " 0.6325328695693075,\n",
              " 0.6519781699283222,\n",
              " 0.6556522026865562,\n",
              " 0.6571531277921436,\n",
              " 0.6531879207593038,\n",
              " 0.6673462784078654,\n",
              " 0.6733276912477963,\n",
              " 0.6625521237160457,\n",
              " 0.6608047362343243,\n",
              " 0.6789955054970682,\n",
              " 0.6668309977063617,\n",
              " 0.6692728553175609,\n",
              " 0.629598155572658,\n",
              " 0.6275371011334604,\n",
              " 0.6472064395525556,\n",
              " 0.6332497640148387,\n",
              " 0.6492674939917532,\n",
              " 0.6595726294541068,\n",
              " 0.7498096496891122,\n",
              " 0.7738026423638129,\n",
              " 0.7803217602213007,\n",
              " 0.7838837397660857,\n",
              " 0.8182938527497715,\n",
              " 0.793292791354934,\n",
              " 0.8077647475941546,\n",
              " 0.7777230691313635,\n",
              " 0.8102962341027494,\n",
              " 0.8282181850401235,\n",
              " 0.827299676850565,\n",
              " 0.8246113568632322,\n",
              " 0.8331691048438642,\n",
              " 0.8344684162054242,\n",
              " 0.8574757644760412,\n",
              " 0.9120929208963794,\n",
              " 0.9254223308859609,\n",
              " 0.9161701127758507,\n",
              " 0.9313813877766558,\n",
              " 0.9178279397269936,\n",
              " 0.9160133476639299,\n",
              " 0.9539405915602942,\n",
              " 1.0,\n",
              " 0.975088499135741,\n",
              " 0.8808190672865533,\n",
              " 0.8815359617320843,\n",
              " 0.8085936268863175,\n",
              " 0.848918016495409,\n",
              " 0.8145974640423016,\n",
              " 0.8012456297366669,\n",
              " 0.8313545127808005,\n",
              " 0.8329674910998369,\n",
              " 0.802410531935542,\n",
              " 0.7863703776425741,\n",
              " 0.7550069635021696,\n",
              " 0.7840405732448239,\n",
              " 0.7995430225202348,\n",
              " 0.7575160940615284,\n",
              " 0.7673731534037207]"
            ]
          },
          "metadata": {
            "tags": []
          },
          "execution_count": 46
        }
      ]
    },
    {
      "cell_type": "code",
      "metadata": {
        "id": "d_KDR1Z1TLja",
        "colab_type": "code",
        "colab": {
          "base_uri": "https://localhost:8080/",
          "height": 286
        },
        "outputId": "bcb00b9d-8708-4d24-c146-5247d38c7539"
      },
      "source": [
        "# load and evaluate a saved model\n",
        "from numpy import loadtxt\n",
        "from keras.models import load_model\n",
        " \n",
        "# load model\n",
        "model = load_model('my_model1.h5')\n",
        "# summarize model.\n",
        "model.summary()\n"
      ],
      "execution_count": 47,
      "outputs": [
        {
          "output_type": "stream",
          "text": [
            "Model: \"sequential\"\n",
            "_________________________________________________________________\n",
            "Layer (type)                 Output Shape              Param #   \n",
            "=================================================================\n",
            "lstm (LSTM)                  (None, 100, 60)           14880     \n",
            "_________________________________________________________________\n",
            "lstm_1 (LSTM)                (None, 100, 60)           29040     \n",
            "_________________________________________________________________\n",
            "lstm_2 (LSTM)                (None, 60)                29040     \n",
            "_________________________________________________________________\n",
            "dense (Dense)                (None, 1)                 61        \n",
            "=================================================================\n",
            "Total params: 73,021\n",
            "Trainable params: 73,021\n",
            "Non-trainable params: 0\n",
            "_________________________________________________________________\n"
          ],
          "name": "stdout"
        }
      ]
    },
    {
      "cell_type": "code",
      "metadata": {
        "id": "beN2zO1PyWmf",
        "colab_type": "code",
        "colab": {}
      },
      "source": [
        "from numpy import array\n",
        "lst_output=[]\n",
        "n_steps=100\n",
        "i=0\n",
        "while(i<11):\n",
        "    \n",
        "    if(len(temp_input)>100):\n",
        "        #print(temp_input)\n",
        "        x_input=np.array(temp_input[1:])\n",
        "        #print(\"{} day input {}\".format(i,x_input))\n",
        "        x_input=x_input.reshape(1,-1)\n",
        "        x_input = x_input.reshape((1, n_steps, 1))\n",
        "        #print(x_input)\n",
        "        yhat = model.predict(x_input, verbose=0)\n",
        "        #yhat = scaler.inverse_transform(yhat)\n",
        "        #print(\"{} day Prediction {}\".format(i,yhat))\n",
        "        temp_input.extend(yhat[0].tolist())\n",
        "        temp_input=temp_input[1:]\n",
        "        #print(temp_input)\n",
        "        lst_output.extend(yhat.tolist())\n",
        "        i=i+1\n",
        "    else:\n",
        "        x_input = x_input.reshape((1, n_steps,1))\n",
        "        yhat = model.predict(x_input, verbose=0)\n",
        "        #print(yhat[0])\n",
        "        temp_input.extend(yhat[0].tolist())\n",
        "        #print(len(temp_input))\n",
        "        lst_output.extend(yhat.tolist())\n",
        "        i=i+1\n",
        "    \n",
        "\n"
      ],
      "execution_count": 48,
      "outputs": []
    },
    {
      "cell_type": "code",
      "metadata": {
        "id": "qFS4TOJdCITp",
        "colab_type": "code",
        "colab": {}
      },
      "source": [
        "l1 = lst_output[1:11]\n",
        "#print(l1)\n",
        "#print(len(l1))"
      ],
      "execution_count": 49,
      "outputs": []
    },
    {
      "cell_type": "code",
      "metadata": {
        "id": "8Z0VBcdvCO53",
        "colab_type": "code",
        "colab": {}
      },
      "source": [
        "import itertools\n",
        "b = l1\n",
        "c =list(itertools.chain.from_iterable(b))\n",
        "#print(c)\n"
      ],
      "execution_count": 50,
      "outputs": []
    },
    {
      "cell_type": "code",
      "metadata": {
        "id": "dSlRdV2ICR5n",
        "colab_type": "code",
        "colab": {}
      },
      "source": [
        "e = scaler.inverse_transform(b)\n"
      ],
      "execution_count": 51,
      "outputs": []
    },
    {
      "cell_type": "code",
      "metadata": {
        "id": "I8TJyhQPCUEc",
        "colab_type": "code",
        "colab": {}
      },
      "source": [
        "f = list(itertools.chain.from_iterable(e))\n",
        "#print(f)"
      ],
      "execution_count": 52,
      "outputs": []
    },
    {
      "cell_type": "code",
      "metadata": {
        "id": "m8NFbO3YJGcs",
        "colab_type": "code",
        "colab": {
          "base_uri": "https://localhost:8080/",
          "height": 185
        },
        "outputId": "ccb50e35-1ace-4c31-820c-987fb16fe2a6"
      },
      "source": [
        "for i in range(10):\n",
        "  print(\"Day {} Prediction : {}\".format(i+1,f[i].round(2)))"
      ],
      "execution_count": 53,
      "outputs": [
        {
          "output_type": "stream",
          "text": [
            "Day 1 Prediction : 94.56\n",
            "Day 2 Prediction : 90.22\n",
            "Day 3 Prediction : 85.45\n",
            "Day 4 Prediction : 80.78\n",
            "Day 5 Prediction : 76.48\n",
            "Day 6 Prediction : 72.67\n",
            "Day 7 Prediction : 69.41\n",
            "Day 8 Prediction : 66.69\n",
            "Day 9 Prediction : 64.49\n",
            "Day 10 Prediction : 62.74\n"
          ],
          "name": "stdout"
        }
      ]
    },
    {
      "cell_type": "code",
      "metadata": {
        "id": "qrW9WXevJwA2",
        "colab_type": "code",
        "colab": {}
      },
      "source": [
        ""
      ],
      "execution_count": null,
      "outputs": []
    }
  ]
}