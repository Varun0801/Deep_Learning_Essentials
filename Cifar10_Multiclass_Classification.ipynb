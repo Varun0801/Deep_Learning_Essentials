{
  "nbformat": 4,
  "nbformat_minor": 0,
  "metadata": {
    "colab": {
      "name": "Cifar10_Multiclass_Classification.ipynb",
      "provenance": [],
      "authorship_tag": "ABX9TyOqus1PCPaVGWcxsnCw4RSV",
      "include_colab_link": true
    },
    "kernelspec": {
      "name": "python3",
      "display_name": "Python 3"
    },
    "accelerator": "GPU"
  },
  "cells": [
    {
      "cell_type": "markdown",
      "metadata": {
        "id": "view-in-github",
        "colab_type": "text"
      },
      "source": [
        "<a href=\"https://colab.research.google.com/github/Varun0801/Deep_Learning_Essentials/blob/master/Cifar10_Multiclass_Classification.ipynb\" target=\"_parent\"><img src=\"https://colab.research.google.com/assets/colab-badge.svg\" alt=\"Open In Colab\"/></a>"
      ]
    },
    {
      "cell_type": "code",
      "metadata": {
        "id": "0rVrPvPs9qR4",
        "colab_type": "code",
        "colab": {}
      },
      "source": [
        "from tensorflow.keras.datasets import cifar10\n",
        "from tensorflow.keras.models import Sequential\n",
        "from tensorflow.keras.layers import Dense, Flatten, Conv2D, MaxPooling2D\n",
        "from tensorflow.keras.losses import sparse_categorical_crossentropy\n",
        "from tensorflow.keras.optimizers import Adam\n",
        "import matplotlib.pyplot as plt\n"
      ],
      "execution_count": null,
      "outputs": []
    },
    {
      "cell_type": "code",
      "metadata": {
        "id": "3FgW_hMN9rAt",
        "colab_type": "code",
        "colab": {}
      },
      "source": [
        "# Model configuration\n",
        "batch_size = 50\n",
        "img_width, img_height, img_num_channels = 32, 32, 3\n",
        "loss_function = sparse_categorical_crossentropy\n",
        "no_classes = 10\n",
        "no_epochs = 100\n",
        "optimizer = Adam()\n",
        "validation_split = 0.2\n",
        "verbosity = 1\n"
      ],
      "execution_count": null,
      "outputs": []
    },
    {
      "cell_type": "code",
      "metadata": {
        "id": "xbvCPqVA9ul1",
        "colab_type": "code",
        "colab": {
          "base_uri": "https://localhost:8080/",
          "height": 134
        },
        "outputId": "36f3d299-fcd5-4b04-8558-fdfa6d765a59"
      },
      "source": [
        "# Load CIFAR-10 data\n",
        "(input_train, target_train), (input_test, target_test) = cifar10.load_data()\n",
        "\n",
        "# Determine shape of the data\n",
        "input_shape = (img_width, img_height, img_num_channels)\n",
        "print(input_shape)\n",
        "print(input_train.shape)\n",
        "print(target_train.shape)\n",
        "print(input_test.shape)\n",
        "print(target_test.shape)"
      ],
      "execution_count": null,
      "outputs": [
        {
          "output_type": "stream",
          "text": [
            "Downloading data from https://www.cs.toronto.edu/~kriz/cifar-10-python.tar.gz\n",
            "170500096/170498071 [==============================] - 16s 0us/step\n",
            "(32, 32, 3)\n",
            "(50000, 32, 32, 3)\n",
            "(50000, 1)\n",
            "(10000, 32, 32, 3)\n",
            "(10000, 1)\n"
          ],
          "name": "stdout"
        }
      ]
    },
    {
      "cell_type": "code",
      "metadata": {
        "id": "qTym5OgH9zq8",
        "colab_type": "code",
        "colab": {}
      },
      "source": [
        "# Parse numbers as floats\n",
        "input_train = input_train.astype('float32')\n",
        "input_test = input_test.astype('float32')\n",
        "\n",
        "# Normalize data\n",
        "input_train = input_train / 255\n",
        "input_test = input_test / 255"
      ],
      "execution_count": null,
      "outputs": []
    },
    {
      "cell_type": "code",
      "metadata": {
        "id": "TD4sIycI92SE",
        "colab_type": "code",
        "colab": {}
      },
      "source": [
        "# Create the model\n",
        "model = Sequential()\n",
        "model.add(Conv2D(32, kernel_size=(3, 3), activation='relu', input_shape=input_shape))\n",
        "model.add(MaxPooling2D(pool_size=(2, 2)))\n",
        "model.add(Conv2D(64, kernel_size=(3, 3), activation='relu'))\n",
        "model.add(MaxPooling2D(pool_size=(2, 2)))\n",
        "model.add(Conv2D(128, kernel_size=(3, 3), activation='relu'))\n",
        "model.add(MaxPooling2D(pool_size=(2, 2)))\n",
        "model.add(Flatten())\n",
        "model.add(Dense(256, activation='relu'))\n",
        "model.add(Dense(128, activation='relu'))\n",
        "model.add(Dense(no_classes, activation='softmax'))\n",
        "\n",
        "# Compile the model\n",
        "model.compile(loss=loss_function,\n",
        "              optimizer=optimizer,\n",
        "              metrics=['accuracy'])"
      ],
      "execution_count": null,
      "outputs": []
    },
    {
      "cell_type": "code",
      "metadata": {
        "id": "sjRe3v1599uS",
        "colab_type": "code",
        "colab": {
          "base_uri": "https://localhost:8080/",
          "height": 1000
        },
        "outputId": "4f4bbf29-15b7-420e-a684-c7f28af4cec7"
      },
      "source": [
        "# Fit data to model\n",
        "history = model.fit(input_train, target_train,\n",
        "            batch_size=batch_size,\n",
        "            epochs=no_epochs,\n",
        "            verbose=verbosity,\n",
        "            validation_split=validation_split)\n",
        "\n",
        "# Generate generalization metrics\n",
        "score = model.evaluate(input_test, target_test, verbose=0)\n",
        "print(f'Test loss: {score[0]} / Test accuracy: {score[1]}')"
      ],
      "execution_count": null,
      "outputs": [
        {
          "output_type": "stream",
          "text": [
            "Epoch 1/100\n",
            "800/800 [==============================] - 3s 4ms/step - loss: 1.5822 - accuracy: 0.4111 - val_loss: 1.2878 - val_accuracy: 0.5303\n",
            "Epoch 2/100\n",
            "800/800 [==============================] - 3s 3ms/step - loss: 1.2044 - accuracy: 0.5668 - val_loss: 1.1311 - val_accuracy: 0.6052\n",
            "Epoch 3/100\n",
            "800/800 [==============================] - 3s 3ms/step - loss: 1.0288 - accuracy: 0.6355 - val_loss: 1.0870 - val_accuracy: 0.6196\n",
            "Epoch 4/100\n",
            "800/800 [==============================] - 3s 3ms/step - loss: 0.9095 - accuracy: 0.6782 - val_loss: 0.9876 - val_accuracy: 0.6570\n",
            "Epoch 5/100\n",
            "800/800 [==============================] - 3s 3ms/step - loss: 0.8089 - accuracy: 0.7128 - val_loss: 0.9215 - val_accuracy: 0.6789\n",
            "Epoch 6/100\n",
            "800/800 [==============================] - 3s 3ms/step - loss: 0.7288 - accuracy: 0.7409 - val_loss: 0.9114 - val_accuracy: 0.6949\n",
            "Epoch 7/100\n",
            "800/800 [==============================] - 3s 3ms/step - loss: 0.6529 - accuracy: 0.7686 - val_loss: 0.8776 - val_accuracy: 0.7025\n",
            "Epoch 8/100\n",
            "800/800 [==============================] - 3s 3ms/step - loss: 0.5917 - accuracy: 0.7909 - val_loss: 0.9112 - val_accuracy: 0.6972\n",
            "Epoch 9/100\n",
            "800/800 [==============================] - 3s 3ms/step - loss: 0.5218 - accuracy: 0.8162 - val_loss: 0.9455 - val_accuracy: 0.7008\n",
            "Epoch 10/100\n",
            "800/800 [==============================] - 3s 3ms/step - loss: 0.4670 - accuracy: 0.8336 - val_loss: 1.0022 - val_accuracy: 0.7031\n",
            "Epoch 11/100\n",
            "800/800 [==============================] - 3s 3ms/step - loss: 0.4206 - accuracy: 0.8511 - val_loss: 1.0124 - val_accuracy: 0.7043\n",
            "Epoch 12/100\n",
            "800/800 [==============================] - 3s 3ms/step - loss: 0.3734 - accuracy: 0.8665 - val_loss: 1.0594 - val_accuracy: 0.6959\n",
            "Epoch 13/100\n",
            "800/800 [==============================] - 3s 3ms/step - loss: 0.3275 - accuracy: 0.8825 - val_loss: 1.1303 - val_accuracy: 0.7004\n",
            "Epoch 14/100\n",
            "800/800 [==============================] - 3s 3ms/step - loss: 0.2899 - accuracy: 0.8971 - val_loss: 1.1359 - val_accuracy: 0.7016\n",
            "Epoch 15/100\n",
            "800/800 [==============================] - 3s 3ms/step - loss: 0.2558 - accuracy: 0.9081 - val_loss: 1.2292 - val_accuracy: 0.6950\n",
            "Epoch 16/100\n",
            "800/800 [==============================] - 3s 3ms/step - loss: 0.2338 - accuracy: 0.9163 - val_loss: 1.3224 - val_accuracy: 0.6872\n",
            "Epoch 17/100\n",
            "800/800 [==============================] - 3s 3ms/step - loss: 0.2053 - accuracy: 0.9266 - val_loss: 1.4885 - val_accuracy: 0.6888\n",
            "Epoch 18/100\n",
            "800/800 [==============================] - 3s 3ms/step - loss: 0.1912 - accuracy: 0.9329 - val_loss: 1.4035 - val_accuracy: 0.6913\n",
            "Epoch 19/100\n",
            "800/800 [==============================] - 3s 3ms/step - loss: 0.1790 - accuracy: 0.9366 - val_loss: 1.5022 - val_accuracy: 0.7024\n",
            "Epoch 20/100\n",
            "800/800 [==============================] - 3s 3ms/step - loss: 0.1521 - accuracy: 0.9447 - val_loss: 1.5919 - val_accuracy: 0.6948\n",
            "Epoch 21/100\n",
            "800/800 [==============================] - 3s 3ms/step - loss: 0.1524 - accuracy: 0.9458 - val_loss: 1.7149 - val_accuracy: 0.6936\n",
            "Epoch 22/100\n",
            "800/800 [==============================] - 3s 3ms/step - loss: 0.1398 - accuracy: 0.9513 - val_loss: 1.7274 - val_accuracy: 0.6936\n",
            "Epoch 23/100\n",
            "800/800 [==============================] - 3s 3ms/step - loss: 0.1364 - accuracy: 0.9514 - val_loss: 1.7456 - val_accuracy: 0.6927\n",
            "Epoch 24/100\n",
            "800/800 [==============================] - 3s 3ms/step - loss: 0.1184 - accuracy: 0.9574 - val_loss: 1.8958 - val_accuracy: 0.6885\n",
            "Epoch 25/100\n",
            "800/800 [==============================] - 3s 3ms/step - loss: 0.1296 - accuracy: 0.9552 - val_loss: 1.8384 - val_accuracy: 0.6944\n",
            "Epoch 26/100\n",
            "800/800 [==============================] - 3s 3ms/step - loss: 0.1082 - accuracy: 0.9628 - val_loss: 2.0024 - val_accuracy: 0.6825\n",
            "Epoch 27/100\n",
            "800/800 [==============================] - 3s 3ms/step - loss: 0.1224 - accuracy: 0.9577 - val_loss: 1.8909 - val_accuracy: 0.6897\n",
            "Epoch 28/100\n",
            "800/800 [==============================] - 3s 3ms/step - loss: 0.1047 - accuracy: 0.9635 - val_loss: 2.1259 - val_accuracy: 0.6829\n",
            "Epoch 29/100\n",
            "800/800 [==============================] - 3s 3ms/step - loss: 0.1088 - accuracy: 0.9636 - val_loss: 1.9883 - val_accuracy: 0.6853\n",
            "Epoch 30/100\n",
            "800/800 [==============================] - 3s 3ms/step - loss: 0.1045 - accuracy: 0.9643 - val_loss: 2.0704 - val_accuracy: 0.6828\n",
            "Epoch 31/100\n",
            "800/800 [==============================] - 3s 3ms/step - loss: 0.0968 - accuracy: 0.9665 - val_loss: 2.1005 - val_accuracy: 0.7012\n",
            "Epoch 32/100\n",
            "800/800 [==============================] - 3s 3ms/step - loss: 0.1055 - accuracy: 0.9643 - val_loss: 1.9462 - val_accuracy: 0.6884\n",
            "Epoch 33/100\n",
            "800/800 [==============================] - 3s 3ms/step - loss: 0.0938 - accuracy: 0.9681 - val_loss: 2.0238 - val_accuracy: 0.6925\n",
            "Epoch 34/100\n",
            "800/800 [==============================] - 3s 3ms/step - loss: 0.0924 - accuracy: 0.9689 - val_loss: 2.1441 - val_accuracy: 0.6906\n",
            "Epoch 35/100\n",
            "800/800 [==============================] - 3s 3ms/step - loss: 0.0853 - accuracy: 0.9715 - val_loss: 2.2962 - val_accuracy: 0.6878\n",
            "Epoch 36/100\n",
            "800/800 [==============================] - 3s 3ms/step - loss: 0.0906 - accuracy: 0.9690 - val_loss: 2.1881 - val_accuracy: 0.6870\n",
            "Epoch 37/100\n",
            "800/800 [==============================] - 3s 3ms/step - loss: 0.0887 - accuracy: 0.9697 - val_loss: 2.1970 - val_accuracy: 0.6947\n",
            "Epoch 38/100\n",
            "800/800 [==============================] - 3s 3ms/step - loss: 0.0892 - accuracy: 0.9706 - val_loss: 2.2420 - val_accuracy: 0.6876\n",
            "Epoch 39/100\n",
            "800/800 [==============================] - 3s 3ms/step - loss: 0.0902 - accuracy: 0.9698 - val_loss: 2.1582 - val_accuracy: 0.6896\n",
            "Epoch 40/100\n",
            "800/800 [==============================] - 3s 3ms/step - loss: 0.0796 - accuracy: 0.9736 - val_loss: 2.2668 - val_accuracy: 0.6915\n",
            "Epoch 41/100\n",
            "800/800 [==============================] - 3s 3ms/step - loss: 0.0840 - accuracy: 0.9708 - val_loss: 2.3197 - val_accuracy: 0.6933\n",
            "Epoch 42/100\n",
            "800/800 [==============================] - 3s 3ms/step - loss: 0.0720 - accuracy: 0.9751 - val_loss: 2.5843 - val_accuracy: 0.6839\n",
            "Epoch 43/100\n",
            "800/800 [==============================] - 3s 3ms/step - loss: 0.0901 - accuracy: 0.9703 - val_loss: 2.3567 - val_accuracy: 0.6911\n",
            "Epoch 44/100\n",
            "800/800 [==============================] - 3s 3ms/step - loss: 0.0781 - accuracy: 0.9736 - val_loss: 2.3642 - val_accuracy: 0.6926\n",
            "Epoch 45/100\n",
            "800/800 [==============================] - 3s 3ms/step - loss: 0.0736 - accuracy: 0.9772 - val_loss: 2.3139 - val_accuracy: 0.6941\n",
            "Epoch 46/100\n",
            "800/800 [==============================] - 3s 3ms/step - loss: 0.0693 - accuracy: 0.9767 - val_loss: 2.3983 - val_accuracy: 0.6915\n",
            "Epoch 47/100\n",
            "800/800 [==============================] - 3s 3ms/step - loss: 0.0736 - accuracy: 0.9761 - val_loss: 2.3719 - val_accuracy: 0.6827\n",
            "Epoch 48/100\n",
            "800/800 [==============================] - 3s 3ms/step - loss: 0.0690 - accuracy: 0.9767 - val_loss: 2.4550 - val_accuracy: 0.6960\n",
            "Epoch 49/100\n",
            "800/800 [==============================] - 3s 3ms/step - loss: 0.0754 - accuracy: 0.9762 - val_loss: 2.4423 - val_accuracy: 0.6961\n",
            "Epoch 50/100\n",
            "800/800 [==============================] - 3s 3ms/step - loss: 0.0737 - accuracy: 0.9754 - val_loss: 2.6149 - val_accuracy: 0.6862\n",
            "Epoch 51/100\n",
            "800/800 [==============================] - 3s 3ms/step - loss: 0.0775 - accuracy: 0.9746 - val_loss: 2.5202 - val_accuracy: 0.6889\n",
            "Epoch 52/100\n",
            "800/800 [==============================] - 3s 3ms/step - loss: 0.0620 - accuracy: 0.9794 - val_loss: 2.6359 - val_accuracy: 0.6894\n",
            "Epoch 53/100\n",
            "800/800 [==============================] - 3s 3ms/step - loss: 0.0779 - accuracy: 0.9759 - val_loss: 2.4041 - val_accuracy: 0.6876\n",
            "Epoch 54/100\n",
            "800/800 [==============================] - 3s 3ms/step - loss: 0.0626 - accuracy: 0.9803 - val_loss: 2.5509 - val_accuracy: 0.6821\n",
            "Epoch 55/100\n",
            "800/800 [==============================] - 3s 3ms/step - loss: 0.0706 - accuracy: 0.9776 - val_loss: 2.4659 - val_accuracy: 0.6899\n",
            "Epoch 56/100\n",
            "800/800 [==============================] - 3s 3ms/step - loss: 0.0578 - accuracy: 0.9810 - val_loss: 2.7423 - val_accuracy: 0.6727\n",
            "Epoch 57/100\n",
            "800/800 [==============================] - 3s 3ms/step - loss: 0.0682 - accuracy: 0.9784 - val_loss: 2.6389 - val_accuracy: 0.6879\n",
            "Epoch 58/100\n",
            "800/800 [==============================] - 3s 3ms/step - loss: 0.0763 - accuracy: 0.9771 - val_loss: 2.5381 - val_accuracy: 0.6790\n",
            "Epoch 59/100\n",
            "800/800 [==============================] - 3s 3ms/step - loss: 0.0607 - accuracy: 0.9809 - val_loss: 2.5097 - val_accuracy: 0.7003\n",
            "Epoch 60/100\n",
            "800/800 [==============================] - 3s 3ms/step - loss: 0.0623 - accuracy: 0.9801 - val_loss: 2.7258 - val_accuracy: 0.6906\n",
            "Epoch 61/100\n",
            "800/800 [==============================] - 3s 3ms/step - loss: 0.0615 - accuracy: 0.9794 - val_loss: 2.7286 - val_accuracy: 0.6911\n",
            "Epoch 62/100\n",
            "800/800 [==============================] - 3s 3ms/step - loss: 0.0695 - accuracy: 0.9775 - val_loss: 2.7845 - val_accuracy: 0.6886\n",
            "Epoch 63/100\n",
            "800/800 [==============================] - 3s 4ms/step - loss: 0.0604 - accuracy: 0.9809 - val_loss: 2.6354 - val_accuracy: 0.6942\n",
            "Epoch 64/100\n",
            "800/800 [==============================] - 3s 3ms/step - loss: 0.0684 - accuracy: 0.9784 - val_loss: 2.5537 - val_accuracy: 0.6915\n",
            "Epoch 65/100\n",
            "800/800 [==============================] - 3s 3ms/step - loss: 0.0554 - accuracy: 0.9821 - val_loss: 2.7706 - val_accuracy: 0.6865\n",
            "Epoch 66/100\n",
            "800/800 [==============================] - 3s 3ms/step - loss: 0.0581 - accuracy: 0.9815 - val_loss: 2.6988 - val_accuracy: 0.6917\n",
            "Epoch 67/100\n",
            "800/800 [==============================] - 3s 3ms/step - loss: 0.0603 - accuracy: 0.9805 - val_loss: 2.6127 - val_accuracy: 0.6912\n",
            "Epoch 68/100\n",
            "800/800 [==============================] - 3s 3ms/step - loss: 0.0549 - accuracy: 0.9821 - val_loss: 2.7763 - val_accuracy: 0.6914\n",
            "Epoch 69/100\n",
            "800/800 [==============================] - 3s 3ms/step - loss: 0.0512 - accuracy: 0.9830 - val_loss: 2.7937 - val_accuracy: 0.6866\n",
            "Epoch 70/100\n",
            "800/800 [==============================] - 3s 3ms/step - loss: 0.0693 - accuracy: 0.9771 - val_loss: 2.7817 - val_accuracy: 0.7042\n",
            "Epoch 71/100\n",
            "800/800 [==============================] - 3s 3ms/step - loss: 0.0533 - accuracy: 0.9826 - val_loss: 2.8391 - val_accuracy: 0.6812\n",
            "Epoch 72/100\n",
            "800/800 [==============================] - 3s 3ms/step - loss: 0.0591 - accuracy: 0.9806 - val_loss: 2.7669 - val_accuracy: 0.6916\n",
            "Epoch 73/100\n",
            "800/800 [==============================] - 3s 3ms/step - loss: 0.0539 - accuracy: 0.9836 - val_loss: 2.8350 - val_accuracy: 0.6902\n",
            "Epoch 74/100\n",
            "800/800 [==============================] - 3s 3ms/step - loss: 0.0563 - accuracy: 0.9823 - val_loss: 2.8702 - val_accuracy: 0.6937\n",
            "Epoch 75/100\n",
            "800/800 [==============================] - 3s 3ms/step - loss: 0.0613 - accuracy: 0.9810 - val_loss: 2.8449 - val_accuracy: 0.6880\n",
            "Epoch 76/100\n",
            "800/800 [==============================] - 3s 3ms/step - loss: 0.0601 - accuracy: 0.9807 - val_loss: 2.8094 - val_accuracy: 0.6926\n",
            "Epoch 77/100\n",
            "800/800 [==============================] - 3s 3ms/step - loss: 0.0513 - accuracy: 0.9835 - val_loss: 2.8986 - val_accuracy: 0.6935\n",
            "Epoch 78/100\n",
            "800/800 [==============================] - 3s 3ms/step - loss: 0.0594 - accuracy: 0.9811 - val_loss: 2.8675 - val_accuracy: 0.6856\n",
            "Epoch 79/100\n",
            "800/800 [==============================] - 3s 3ms/step - loss: 0.0536 - accuracy: 0.9841 - val_loss: 2.9488 - val_accuracy: 0.6901\n",
            "Epoch 80/100\n",
            "800/800 [==============================] - 3s 3ms/step - loss: 0.0611 - accuracy: 0.9811 - val_loss: 2.8353 - val_accuracy: 0.6850\n",
            "Epoch 81/100\n",
            "800/800 [==============================] - 3s 3ms/step - loss: 0.0537 - accuracy: 0.9833 - val_loss: 2.8266 - val_accuracy: 0.6941\n",
            "Epoch 82/100\n",
            "800/800 [==============================] - 3s 3ms/step - loss: 0.0525 - accuracy: 0.9835 - val_loss: 3.0207 - val_accuracy: 0.6913\n",
            "Epoch 83/100\n",
            "800/800 [==============================] - 3s 3ms/step - loss: 0.0452 - accuracy: 0.9861 - val_loss: 2.9776 - val_accuracy: 0.6831\n",
            "Epoch 84/100\n",
            "800/800 [==============================] - 3s 3ms/step - loss: 0.0655 - accuracy: 0.9803 - val_loss: 2.8996 - val_accuracy: 0.6919\n",
            "Epoch 85/100\n",
            "800/800 [==============================] - 3s 3ms/step - loss: 0.0540 - accuracy: 0.9827 - val_loss: 3.0599 - val_accuracy: 0.6787\n",
            "Epoch 86/100\n",
            "800/800 [==============================] - 3s 3ms/step - loss: 0.0508 - accuracy: 0.9843 - val_loss: 2.9784 - val_accuracy: 0.6845\n",
            "Epoch 87/100\n",
            "800/800 [==============================] - 3s 3ms/step - loss: 0.0562 - accuracy: 0.9815 - val_loss: 2.9886 - val_accuracy: 0.6889\n",
            "Epoch 88/100\n",
            "800/800 [==============================] - 3s 3ms/step - loss: 0.0505 - accuracy: 0.9844 - val_loss: 2.9206 - val_accuracy: 0.6947\n",
            "Epoch 89/100\n",
            "800/800 [==============================] - 3s 3ms/step - loss: 0.0510 - accuracy: 0.9845 - val_loss: 3.1029 - val_accuracy: 0.6822\n",
            "Epoch 90/100\n",
            "800/800 [==============================] - 3s 3ms/step - loss: 0.0440 - accuracy: 0.9861 - val_loss: 3.0721 - val_accuracy: 0.6935\n",
            "Epoch 91/100\n",
            "800/800 [==============================] - 3s 3ms/step - loss: 0.0527 - accuracy: 0.9836 - val_loss: 3.2727 - val_accuracy: 0.6849\n",
            "Epoch 92/100\n",
            "800/800 [==============================] - 3s 3ms/step - loss: 0.0572 - accuracy: 0.9825 - val_loss: 2.9337 - val_accuracy: 0.6927\n",
            "Epoch 93/100\n",
            "800/800 [==============================] - 3s 3ms/step - loss: 0.0444 - accuracy: 0.9867 - val_loss: 2.9750 - val_accuracy: 0.6979\n",
            "Epoch 94/100\n",
            "800/800 [==============================] - 3s 3ms/step - loss: 0.0515 - accuracy: 0.9835 - val_loss: 3.0024 - val_accuracy: 0.6907\n",
            "Epoch 95/100\n",
            "800/800 [==============================] - 3s 3ms/step - loss: 0.0576 - accuracy: 0.9826 - val_loss: 2.9628 - val_accuracy: 0.6922\n",
            "Epoch 96/100\n",
            "800/800 [==============================] - 3s 4ms/step - loss: 0.0432 - accuracy: 0.9869 - val_loss: 3.2126 - val_accuracy: 0.6905\n",
            "Epoch 97/100\n",
            "800/800 [==============================] - 3s 4ms/step - loss: 0.0482 - accuracy: 0.9846 - val_loss: 3.2468 - val_accuracy: 0.6852\n",
            "Epoch 98/100\n",
            "800/800 [==============================] - 3s 4ms/step - loss: 0.0614 - accuracy: 0.9817 - val_loss: 2.9713 - val_accuracy: 0.6860\n",
            "Epoch 99/100\n",
            "800/800 [==============================] - 3s 4ms/step - loss: 0.0404 - accuracy: 0.9869 - val_loss: 3.2669 - val_accuracy: 0.6890\n",
            "Epoch 100/100\n",
            "800/800 [==============================] - 3s 3ms/step - loss: 0.0520 - accuracy: 0.9850 - val_loss: 3.1900 - val_accuracy: 0.6902\n",
            "Test loss: 3.1683835983276367 / Test accuracy: 0.6935999989509583\n"
          ],
          "name": "stdout"
        }
      ]
    },
    {
      "cell_type": "code",
      "metadata": {
        "id": "RQczIUfP-BRM",
        "colab_type": "code",
        "colab": {
          "base_uri": "https://localhost:8080/",
          "height": 573
        },
        "outputId": "a9f1bbdf-339c-4433-c1be-35f97000446f"
      },
      "source": [
        "# Visualize history\n",
        "# Plot history: Loss\n",
        "plt.plot(history.history['val_loss'])\n",
        "plt.title('Validation loss history')\n",
        "plt.ylabel('Loss value')\n",
        "plt.xlabel('No. epoch')\n",
        "plt.show()\n",
        "\n",
        "# Plot history: Accuracy\n",
        "plt.plot(history.history['val_accuracy'])\n",
        "plt.title('Validation accuracy history')\n",
        "plt.ylabel('Accuracy value (%)')\n",
        "plt.xlabel('No. epoch')\n",
        "plt.show()"
      ],
      "execution_count": null,
      "outputs": [
        {
          "output_type": "display_data",
          "data": {
            "image/png": "[encoded data removed]",
            "text/plain": [
              "<Figure size 432x288 with 1 Axes>"
            ]
          },
          "metadata": {
            "tags": [],
            "needs_background": "light"
          }
        },
        {
          "output_type": "display_data",
          "data": {
            "image/png": "[encoded data removed]",
            "text/plain": [
              "<Figure size 432x288 with 1 Axes>"
            ]
          },
          "metadata": {
            "tags": [],
            "needs_background": "light"
          }
        }
      ]
    },
    {
      "cell_type": "code",
      "metadata": {
        "id": "fRh5w_GZBID5",
        "colab_type": "code",
        "colab": {}
      },
      "source": [
        ""
      ],
      "execution_count": null,
      "outputs": []
    }
  ]
}