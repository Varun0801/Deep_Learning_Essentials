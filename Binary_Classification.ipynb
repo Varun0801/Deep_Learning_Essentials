{
  "nbformat": 4,
  "nbformat_minor": 0,
  "metadata": {
    "colab": {
      "name": " Binary_Classification.ipynb",
      "provenance": [],
      "collapsed_sections": [],
      "toc_visible": true,
      "include_colab_link": true
    },
    "kernelspec": {
      "name": "python3",
      "display_name": "Python 3"
    }
  },
  "cells": [
    {
      "cell_type": "markdown",
      "metadata": {
        "id": "view-in-github",
        "colab_type": "text"
      },
      "source": [
        "<a href=\"https://colab.research.google.com/github/Varun0801/Deep_Learning_Essentials/blob/master/Binary_Classification.ipynb\" target=\"_parent\"><img src=\"https://colab.research.google.com/assets/colab-badge.svg\" alt=\"Open In Colab\"/></a>"
      ]
    },
    {
      "cell_type": "markdown",
      "metadata": {
        "id": "kXzFul5zX5nc",
        "colab_type": "text"
      },
      "source": [
        "# Agenda\n",
        "1. Introduction\n",
        "2. Data Description\n",
        "3. Loading the basic Data Science Libraries\n",
        "4. Loading Data\n",
        "5. Separating Input and Target Variable\n",
        "6. Splitting into Train and Test Sets\n",
        "7. Model Building\n",
        "  \n",
        "  7.1 Model Creation/Definition\n",
        "    - Our model architecture\n",
        "\n",
        "  7.2 Model Compilation\n",
        "    - History\n",
        "\n",
        "  7.3 Model Training\n",
        "\n",
        "  7.4 Model Evaluation\n",
        "    - Model Accuracy\n",
        "    - Model Loss\n",
        "8. Conclusion"
      ]
    },
    {
      "cell_type": "markdown",
      "metadata": {
        "id": "2AB0kkinaVQe",
        "colab_type": "text"
      },
      "source": [
        "# Introduction\n",
        "Classification is a process of dividing the given data points into two or more classes. When the number of classes = 2, it is known as Binary Classification.\n",
        "\n",
        "In this notebook, we'll be performing Binary Classification to **predict whether a person has a heart disease or not.**\n",
        "\n",
        "There are 2 classes:\n",
        "1. Heart disease present (target=1)\n",
        "2. Heart disease not present (target=0)"
      ]
    },
    {
      "cell_type": "markdown",
      "metadata": {
        "id": "1Y2NwIRUbS5c",
        "colab_type": "text"
      },
      "source": [
        "# Data Description\n",
        "* **age:** Age in years\n",
        "* **sex:** 1 = male, 0 = female\n",
        "* **cp:** Chest pain type\n",
        "* **trestbps:** Resting blood pressure (in mm Hg on admission to the hospital)\n",
        "* **chol:** serum cholesterol in mg/dl\n",
        "* **fbs:** fasting blood sugar > 120 mg/dl (1 = true; 0 = false)\n",
        "* **restecg:**Resting electrocardiographic results\n",
        "* **thalach:** Maximum heart rate achieved\n",
        "* **exang:** Exercise induced angina (1 = yes; 0 = no)\n",
        "* **oldpeak:** ST depression induced by exercise relative to rest\n",
        "* **slope:** The slope of the peak exercise ST segment\n",
        "* **ca:** Number of major vessels (0-3) colored by fluoroscopy\n",
        "* **thal:** 3 = normal; 6 = fixed defect; 7 = reversible defect\n",
        "* **target:** 1 = Heart disease present, 0 = Heart disease not present"
      ]
    },
    {
      "cell_type": "markdown",
      "metadata": {
        "id": "XIJpr8URo5qk",
        "colab_type": "text"
      },
      "source": [
        "# Loading the basic Data Science Libraries\n",
        "All Python capabilities are not loaded to our working environment by default (even if they are already installed in your system). So, we import each and every library that we want to use.\n",
        "\n",
        "In data science, numpy, pandas and matplotlib are most commonly used libraries. We chose alias names for our libraries for the sake of our convenience (numpy --> np and pandas --> pd, matplotlib.pyplot as plt)."
      ]
    },
    {
      "cell_type": "code",
      "metadata": {
        "id": "lEe1FaD_o6PR",
        "colab_type": "code",
        "colab": {}
      },
      "source": [
        "import numpy as np  # for matrix operations\n",
        "import pandas as pd  # for loading CSV Files\n",
        "import matplotlib.pyplot as plt # for Data Visualization"
      ],
      "execution_count": 1,
      "outputs": []
    },
    {
      "cell_type": "markdown",
      "metadata": {
        "id": "rIBaJ38_ibzi",
        "colab_type": "text"
      },
      "source": [
        "# Loading Data\n",
        "Pandas module is used for reading files. Since we have our data in '.csv' format, we will use 'read_csv()' function for loading the data."
      ]
    },
    {
      "cell_type": "code",
      "metadata": {
        "id": "prpLahz7ZioJ",
        "colab_type": "code",
        "colab": {}
      },
      "source": [
        "data = pd.read_csv(\"https://raw.githubusercontent.com/dphi-official/Datasets/master/heart_disease.csv\")"
      ],
      "execution_count": 2,
      "outputs": []
    },
    {
      "cell_type": "code",
      "metadata": {
        "id": "AVyXzVv4hya2",
        "colab_type": "code",
        "colab": {
          "base_uri": "https://localhost:8080/",
          "height": 195
        },
        "outputId": "4cb50163-f310-40cd-bcc8-992956e48367"
      },
      "source": [
        "data.head() #head function displays the first 5 rows by default"
      ],
      "execution_count": 3,
      "outputs": [
        {
          "output_type": "execute_result",
          "data": {
            "text/html": [
              "<div>\n",
              "<style scoped>\n",
              "    .dataframe tbody tr th:only-of-type {\n",
              "        vertical-align: middle;\n",
              "    }\n",
              "\n",
              "    .dataframe tbody tr th {\n",
              "        vertical-align: top;\n",
              "    }\n",
              "\n",
              "    .dataframe thead th {\n",
              "        text-align: right;\n",
              "    }\n",
              "</style>\n",
              "<table border=\"1\" class=\"dataframe\">\n",
              "  <thead>\n",
              "    <tr style=\"text-align: right;\">\n",
              "      <th></th>\n",
              "      <th>age</th>\n",
              "      <th>sex</th>\n",
              "      <th>cp</th>\n",
              "      <th>trestbps</th>\n",
              "      <th>chol</th>\n",
              "      <th>fbs</th>\n",
              "      <th>restecg</th>\n",
              "      <th>thalach</th>\n",
              "      <th>exang</th>\n",
              "      <th>oldpeak</th>\n",
              "      <th>slope</th>\n",
              "      <th>ca</th>\n",
              "      <th>thal</th>\n",
              "      <th>target</th>\n",
              "    </tr>\n",
              "  </thead>\n",
              "  <tbody>\n",
              "    <tr>\n",
              "      <th>0</th>\n",
              "      <td>63</td>\n",
              "      <td>1</td>\n",
              "      <td>3</td>\n",
              "      <td>145</td>\n",
              "      <td>233</td>\n",
              "      <td>1</td>\n",
              "      <td>0</td>\n",
              "      <td>150</td>\n",
              "      <td>0</td>\n",
              "      <td>2.3</td>\n",
              "      <td>0</td>\n",
              "      <td>0</td>\n",
              "      <td>1</td>\n",
              "      <td>1</td>\n",
              "    </tr>\n",
              "    <tr>\n",
              "      <th>1</th>\n",
              "      <td>37</td>\n",
              "      <td>1</td>\n",
              "      <td>2</td>\n",
              "      <td>130</td>\n",
              "      <td>250</td>\n",
              "      <td>0</td>\n",
              "      <td>1</td>\n",
              "      <td>187</td>\n",
              "      <td>0</td>\n",
              "      <td>3.5</td>\n",
              "      <td>0</td>\n",
              "      <td>0</td>\n",
              "      <td>2</td>\n",
              "      <td>1</td>\n",
              "    </tr>\n",
              "    <tr>\n",
              "      <th>2</th>\n",
              "      <td>41</td>\n",
              "      <td>0</td>\n",
              "      <td>1</td>\n",
              "      <td>130</td>\n",
              "      <td>204</td>\n",
              "      <td>0</td>\n",
              "      <td>0</td>\n",
              "      <td>172</td>\n",
              "      <td>0</td>\n",
              "      <td>1.4</td>\n",
              "      <td>2</td>\n",
              "      <td>0</td>\n",
              "      <td>2</td>\n",
              "      <td>1</td>\n",
              "    </tr>\n",
              "    <tr>\n",
              "      <th>3</th>\n",
              "      <td>56</td>\n",
              "      <td>1</td>\n",
              "      <td>1</td>\n",
              "      <td>120</td>\n",
              "      <td>236</td>\n",
              "      <td>0</td>\n",
              "      <td>1</td>\n",
              "      <td>178</td>\n",
              "      <td>0</td>\n",
              "      <td>0.8</td>\n",
              "      <td>2</td>\n",
              "      <td>0</td>\n",
              "      <td>2</td>\n",
              "      <td>1</td>\n",
              "    </tr>\n",
              "    <tr>\n",
              "      <th>4</th>\n",
              "      <td>57</td>\n",
              "      <td>0</td>\n",
              "      <td>0</td>\n",
              "      <td>120</td>\n",
              "      <td>354</td>\n",
              "      <td>0</td>\n",
              "      <td>1</td>\n",
              "      <td>163</td>\n",
              "      <td>1</td>\n",
              "      <td>0.6</td>\n",
              "      <td>2</td>\n",
              "      <td>0</td>\n",
              "      <td>2</td>\n",
              "      <td>1</td>\n",
              "    </tr>\n",
              "  </tbody>\n",
              "</table>\n",
              "</div>"
            ],
            "text/plain": [
              "   age  sex  cp  trestbps  chol  fbs  ...  exang  oldpeak  slope  ca  thal  target\n",
              "0   63    1   3       145   233    1  ...      0      2.3      0   0     1       1\n",
              "1   37    1   2       130   250    0  ...      0      3.5      0   0     2       1\n",
              "2   41    0   1       130   204    0  ...      0      1.4      2   0     2       1\n",
              "3   56    1   1       120   236    0  ...      0      0.8      2   0     2       1\n",
              "4   57    0   0       120   354    0  ...      1      0.6      2   0     2       1\n",
              "\n",
              "[5 rows x 14 columns]"
            ]
          },
          "metadata": {
            "tags": []
          },
          "execution_count": 3
        }
      ]
    },
    {
      "cell_type": "code",
      "metadata": {
        "id": "xWTIpkieyGRw",
        "colab_type": "code",
        "colab": {
          "base_uri": "https://localhost:8080/",
          "height": 34
        },
        "outputId": "7a39c39a-534d-49ea-a822-10efd70b362c"
      },
      "source": [
        "data.shape # This gives the shape of the DataFrame i.e the (no. of rows, no. of columns)"
      ],
      "execution_count": 4,
      "outputs": [
        {
          "output_type": "execute_result",
          "data": {
            "text/plain": [
              "(303, 14)"
            ]
          },
          "metadata": {
            "tags": []
          },
          "execution_count": 4
        }
      ]
    },
    {
      "cell_type": "markdown",
      "metadata": {
        "id": "Yowhoj1b7SAr",
        "colab_type": "text"
      },
      "source": [
        "We have 303 examples (rows) in our dataset. "
      ]
    },
    {
      "cell_type": "markdown",
      "metadata": {
        "id": "gh8OOZkpivrd",
        "colab_type": "text"
      },
      "source": [
        "# Separating Input and Target Variable\n",
        "**Target Variable/ Independent Variable(y):** Our objective is to detect the presence of heart disease. Thus, our target variable will be the column that indicates whether heart disease is present or not. \n",
        "\n",
        "We'll store that column in a variable y.\n",
        "\n",
        "**Input Variables/ Dependent Variables(X):** The remaining columns, without the Target variable will be stored in variable X."
      ]
    },
    {
      "cell_type": "code",
      "metadata": {
        "id": "HRq9zAAPig4S",
        "colab_type": "code",
        "colab": {}
      },
      "source": [
        "X = data.drop('target', axis=1) #Input variables\n",
        "# axis=1 indicates that a column will be dropped\n",
        "y = data['target']  # Target variable"
      ],
      "execution_count": 5,
      "outputs": []
    },
    {
      "cell_type": "markdown",
      "metadata": {
        "id": "SoHfnMUpi9Zb",
        "colab_type": "text"
      },
      "source": [
        "# Splitting into Train and Test Sets\n",
        "The next step will be to divide the data into test and train sets. We want to check the performance of the model that we built. For this purpose, we always split (both input and output data) the given data into **train set** which will be used to train the model, and **test set** which will be used to check how accurately the model is predicting outcomes.\n",
        "\n",
        "This is achieved using `train_test_split` function provided in the `model_selection class of sklearn` module.\n",
        "\n",
        "By passing our X and y variables into the train_test_split method, we are able to capture the splits in data by assigning 4 variables to the result.\n",
        "\n",
        "* **X_train:** independent/input feature data for training the model\n",
        "* **y_train:** dependent/output feature data for training the model\n",
        "* **X_test:** independent/input feature data for testing the model; will be used to predict the output values\n",
        "* **y_test:** original dependent/output values of X_test; We will compare this values with our predicted values to check the performance of our built model.\n",
        "* **test_size = 0.20:** 20% of the data will go for test set and 80% of the data will go for train set\n",
        "* **random_state = 42:** this is just for code reproducability. It will fix the split i.e. there will be the same data in train and test sets each time you run the code"
      ]
    },
    {
      "cell_type": "code",
      "metadata": {
        "id": "Ym3Eiq0Vi7ap",
        "colab_type": "code",
        "colab": {}
      },
      "source": [
        "from sklearn.model_selection import train_test_split\n",
        "X_train, X_test, y_train, y_test = train_test_split(X, y, test_size=0.2, random_state=42)"
      ],
      "execution_count": 6,
      "outputs": []
    },
    {
      "cell_type": "code",
      "metadata": {
        "id": "6gdUyMIv_WZK",
        "colab_type": "code",
        "colab": {
          "base_uri": "https://localhost:8080/",
          "height": 34
        },
        "outputId": "20b92c68-6e90-43a1-d3e7-352cd8c26783"
      },
      "source": [
        "# find the number of input features\n",
        "X_train.shape[1]"
      ],
      "execution_count": 7,
      "outputs": [
        {
          "output_type": "execute_result",
          "data": {
            "text/plain": [
              "13"
            ]
          },
          "metadata": {
            "tags": []
          },
          "execution_count": 7
        }
      ]
    },
    {
      "cell_type": "markdown",
      "metadata": {
        "id": "c2vDRUNZjzih",
        "colab_type": "text"
      },
      "source": [
        "# Model Building\n",
        "Now that we have our data fully processed and split into training and testing datasets, we can begin building a neural network to solve this classification problem. \n",
        "\n",
        "\n"
      ]
    },
    {
      "cell_type": "code",
      "metadata": {
        "id": "yKQIxJtCkPtj",
        "colab_type": "code",
        "colab": {}
      },
      "source": [
        "# Imports\n",
        "import tensorflow as tf  # Importing the TensorFlow Library\n",
        "from tensorflow import keras  # Import Keras from TensorFlow\n",
        "\n",
        "from tensorflow.keras import Sequential \n",
        "from tensorflow.keras import layers\n",
        "from tensorflow.keras.layers import Dense"
      ],
      "execution_count": 8,
      "outputs": []
    },
    {
      "cell_type": "markdown",
      "metadata": {
        "id": "J-Sqv2O8m0hP",
        "colab_type": "text"
      },
      "source": [
        "## Model Creation/ Definition\n",
        "We create a Sequential model and add layers one at a time until we are happy with our network architecture.\n",
        "\n",
        "The first thing to get right is to ensure the input layer has the right number of input features.\n",
        "\n",
        "Since this is a binary classification problem, we will use a sigmoid activation function in the final layer of our network.\n",
        "\n",
        "**Sigmoid is commonly used in the output layer. This is because it helps in giving a probability(value between 0 and 1) which is useful in Binary Classification.**"
      ]
    },
    {
      "cell_type": "markdown",
      "metadata": {
        "id": "BYRdVnR4HJX0",
        "colab_type": "text"
      },
      "source": [
        "### Our model architecture\n",
        "For our model, we'll be considering the following:\n",
        "\n",
        "* Input = the no. of features in X_train = 13\n",
        "* No. of neurons/units in first Dense layer = 32\n",
        "* No. of neurons/units in second Dense layer = 16\n",
        "* No. of neurons/units in third Dense layer = 8\n",
        "* No. of neurons/units in output layer = 1\n",
        "\n",
        "If you closely look at it, we're slowly decreasing the number of neurons in each layer. Deciding the no. of hidden layers and no. of neurons is a process of trial and error. \n",
        "\n",
        "If you're interested in understanding the intuition behind it better, you can go through the following article: [Beginners Ask “How Many Hidden Layers/Neurons to Use in Artificial Neural Networks?”](https://towardsdatascience.com/beginners-ask-how-many-hidden-layers-neurons-to-use-in-artificial-neural-networks-51466afa0d3e)"
      ]
    },
    {
      "cell_type": "code",
      "metadata": {
        "id": "LjtP40PAkQt5",
        "colab_type": "code",
        "colab": {}
      },
      "source": [
        "# Building the model\n",
        "model = Sequential()\n",
        "model.add(Dense(32, activation='relu', input_shape=(X_train.shape[1],)))   \n",
        "model.add(Dense(16, activation='relu'))\n",
        "model.add(Dense(8, activation='relu'))\n",
        "model.add(Dense(1, activation='sigmoid'))                                  "
      ],
      "execution_count": 9,
      "outputs": []
    },
    {
      "cell_type": "markdown",
      "metadata": {
        "id": "mbfh-qTq0anZ",
        "colab_type": "text"
      },
      "source": [
        "* The above code creates a Neural Network that has 4 layers. \n",
        "\n",
        "* The **last node** uses the **sigmoid activation function** that will squeeze all the values between 0 and 1.\n",
        "\n",
        "* The other layers use **ReLU (Rectified Linear Units)** as the activation function. ReLU is a half rectified function; that is, for all the inputs less than 0 (e.g. -120,-6.7, -0.0344, 0) the value is 0 while for anything positive (e.g. 10,15, 34) the value is retained. \n",
        "\n",
        "* One output unit is used since for each record values in X, a probability will be predicted. If it is high, then the person has a heart disease. If it is less, then the person does not have a heart disease."
      ]
    },
    {
      "cell_type": "markdown",
      "metadata": {
        "id": "1R1xTCNFP3Rf",
        "colab_type": "text"
      },
      "source": [
        "You might ask \"why we are using relu first and sigmoid at the last?\" or \"How are we choosing the no. of neurons in dense layer?\" etc. Most of it is covered in [this article](https://machinelearningknowledge.ai/activation-functions-neural-network/) and [this article](https://towardsdatascience.com/beginners-ask-how-many-hidden-layers-neurons-to-use-in-artificial-neural-networks-51466afa0d3e) shared earlier. \n",
        "\n",
        "In short, the activation functions have some properties that make one favourable to use at one place and another activation function to be suitable at another place. We will be reading about these properties soon. "
      ]
    },
    {
      "cell_type": "markdown",
      "metadata": {
        "id": "Ime_KfUGm23x",
        "colab_type": "text"
      },
      "source": [
        "## Model Compilation"
      ]
    },
    {
      "cell_type": "code",
      "metadata": {
        "id": "LZ91pR07kVk7",
        "colab_type": "code",
        "colab": {}
      },
      "source": [
        "# Compiling the model\n",
        "from tensorflow.keras.optimizers import RMSprop\n",
        "optimizer = RMSprop(0.001)  # Here, we have set our learning rate as 0.001\n",
        "model.compile(loss='binary_crossentropy', optimizer= optimizer , metrics=['accuracy'])"
      ],
      "execution_count": 10,
      "outputs": []
    },
    {
      "cell_type": "markdown",
      "metadata": {
        "id": "74tA2RWp0mLp",
        "colab_type": "text"
      },
      "source": [
        "* The above code compiles the network.\n",
        "\n",
        "* The **loss function** used is **binary_crossentropy**. For binary classification problems that give output in the form of probability, binary_crossentropy is usually the optimizer of choice.\n",
        "\n",
        "*  It uses **rmsprop** as an **optimizer**. \n",
        "\n",
        "* The **learning rate** is taken to be **0.001**. You can even try different values to see which works the best.It is important to find a good value for the learning rate for your model on your training dataset. \n",
        "\n",
        "  We cannot analytically calculate the optimal learning rate for a given model on a given dataset. Instead, a good (or good enough) learning rate must be discovered via trial and error.\n",
        "\n",
        "  The range of values to consider for the learning rate is less than 1.0 and greater than $10^{-6}$.\n",
        "\n",
        "  A traditional default value for the learning rate is 0.1, 0.01 or 0.001, and this may represent a good starting point on your problem.\n",
        "\n",
        "* **Metrics** used to evaluate the model is **accuracy**. Accuracy calculates how often the predictions calculated by the model are correct."
      ]
    },
    {
      "cell_type": "code",
      "metadata": {
        "id": "yb2dKfvSkX6s",
        "colab_type": "code",
        "colab": {
          "base_uri": "https://localhost:8080/",
          "height": 286
        },
        "outputId": "d58d038e-eebe-425a-c43e-04cda4c18385"
      },
      "source": [
        "# printing the summary of the model\n",
        "model.summary()"
      ],
      "execution_count": 11,
      "outputs": [
        {
          "output_type": "stream",
          "text": [
            "Model: \"sequential\"\n",
            "_________________________________________________________________\n",
            "Layer (type)                 Output Shape              Param #   \n",
            "=================================================================\n",
            "dense (Dense)                (None, 32)                448       \n",
            "_________________________________________________________________\n",
            "dense_1 (Dense)              (None, 16)                528       \n",
            "_________________________________________________________________\n",
            "dense_2 (Dense)              (None, 8)                 136       \n",
            "_________________________________________________________________\n",
            "dense_3 (Dense)              (None, 1)                 9         \n",
            "=================================================================\n",
            "Total params: 1,121\n",
            "Trainable params: 1,121\n",
            "Non-trainable params: 0\n",
            "_________________________________________________________________\n"
          ],
          "name": "stdout"
        }
      ]
    },
    {
      "cell_type": "code",
      "metadata": {
        "id": "dCy_f45e1Qj6",
        "colab_type": "code",
        "colab": {
          "base_uri": "https://localhost:8080/",
          "height": 466
        },
        "outputId": "18c54a47-c875-4a84-fda4-481b2e07fff1"
      },
      "source": [
        "# plotting the model\n",
        "from tensorflow.keras.utils import plot_model\n",
        "plot_model(model)"
      ],
      "execution_count": 12,
      "outputs": [
        {
          "output_type": "execute_result",
          "data": {
            "image/png": "[encoded data removed]",
            "text/plain": [
              "<IPython.core.display.Image object>"
            ]
          },
          "metadata": {
            "tags": []
          },
          "execution_count": 12
        }
      ]
    },
    {
      "cell_type": "markdown",
      "metadata": {
        "id": "4dkmq6YFm7fO",
        "colab_type": "text"
      },
      "source": [
        "## Model Training\n",
        "The model is initially trained for **200 epochs** with a **batch size of 10**. \n",
        "Both epochs and batch size are hyperparameters that can be modified to optimise the model.\n",
        "\n",
        "**validation_split:** Fraction of the training data to be used as validation data. The model will set apart this fraction of the training data, will not train on it, and will evaluate the loss and any model metrics on this data at the end of each epoch. \n",
        "The val_loss and val_accuracy that you can see below are calculated with this validation data.\n",
        "\n",
        "You'll learn more about the importance of validation data later. \n",
        "\n",
        "**verbose:** Verbose is just for printing purposes, for making the output more readable.\n",
        "\n"
      ]
    },
    {
      "cell_type": "markdown",
      "metadata": {
        "id": "wmQ4ZTih-NFf",
        "colab_type": "text"
      },
      "source": [
        "### History\n",
        "Notice that we're saving the trained model to a variable **history**. \n",
        "\n",
        "When running a model, Tensorflow Keras maintains a so-called History object in the background. This object keeps all loss values and other metric values in memory so that they can be used for visualizations.\n",
        "\n",
        "The history object is the output of the fit operation."
      ]
    },
    {
      "cell_type": "code",
      "metadata": {
        "id": "0RbTE0FDmEET",
        "colab_type": "code",
        "colab": {
          "base_uri": "https://localhost:8080/",
          "height": 1000
        },
        "outputId": "9ad2b37a-aaeb-4ab2-c348-53ac4848e42b"
      },
      "source": [
        "history = model.fit(X_train, y_train, validation_split=0.2, epochs=200, batch_size=10, verbose=1)"
      ],
      "execution_count": 13,
      "outputs": [
        {
          "output_type": "stream",
          "text": [
            "Epoch 1/200\n",
            "20/20 [==============================] - 0s 10ms/step - loss: 2.1089 - accuracy: 0.5078 - val_loss: 0.7156 - val_accuracy: 0.6939\n",
            "Epoch 2/200\n",
            "20/20 [==============================] - 0s 2ms/step - loss: 0.7992 - accuracy: 0.6062 - val_loss: 0.6870 - val_accuracy: 0.6327\n",
            "Epoch 3/200\n",
            "20/20 [==============================] - 0s 2ms/step - loss: 0.7309 - accuracy: 0.5751 - val_loss: 0.6646 - val_accuracy: 0.6939\n",
            "Epoch 4/200\n",
            "20/20 [==============================] - 0s 2ms/step - loss: 0.6893 - accuracy: 0.6114 - val_loss: 0.6854 - val_accuracy: 0.7551\n",
            "Epoch 5/200\n",
            "20/20 [==============================] - 0s 2ms/step - loss: 0.7027 - accuracy: 0.5959 - val_loss: 0.6382 - val_accuracy: 0.6939\n",
            "Epoch 6/200\n",
            "20/20 [==============================] - 0s 2ms/step - loss: 0.6825 - accuracy: 0.6166 - val_loss: 0.6330 - val_accuracy: 0.6939\n",
            "Epoch 7/200\n",
            "20/20 [==============================] - 0s 2ms/step - loss: 0.6934 - accuracy: 0.6166 - val_loss: 0.6293 - val_accuracy: 0.6939\n",
            "Epoch 8/200\n",
            "20/20 [==============================] - 0s 2ms/step - loss: 0.6727 - accuracy: 0.6010 - val_loss: 0.6335 - val_accuracy: 0.6735\n",
            "Epoch 9/200\n",
            "20/20 [==============================] - 0s 2ms/step - loss: 0.6653 - accuracy: 0.6062 - val_loss: 0.6676 - val_accuracy: 0.6122\n",
            "Epoch 10/200\n",
            "20/20 [==============================] - 0s 2ms/step - loss: 0.6760 - accuracy: 0.6010 - val_loss: 0.6690 - val_accuracy: 0.6122\n",
            "Epoch 11/200\n",
            "20/20 [==============================] - 0s 2ms/step - loss: 0.6739 - accuracy: 0.6010 - val_loss: 0.6349 - val_accuracy: 0.6735\n",
            "Epoch 12/200\n",
            "20/20 [==============================] - 0s 2ms/step - loss: 0.6777 - accuracy: 0.6218 - val_loss: 0.6674 - val_accuracy: 0.6122\n",
            "Epoch 13/200\n",
            "20/20 [==============================] - 0s 2ms/step - loss: 0.6746 - accuracy: 0.6062 - val_loss: 0.6461 - val_accuracy: 0.6735\n",
            "Epoch 14/200\n",
            "20/20 [==============================] - 0s 2ms/step - loss: 0.6828 - accuracy: 0.6010 - val_loss: 0.6454 - val_accuracy: 0.6735\n",
            "Epoch 15/200\n",
            "20/20 [==============================] - 0s 2ms/step - loss: 0.6698 - accuracy: 0.6166 - val_loss: 0.6705 - val_accuracy: 0.6122\n",
            "Epoch 16/200\n",
            "20/20 [==============================] - 0s 2ms/step - loss: 0.6703 - accuracy: 0.6062 - val_loss: 0.6318 - val_accuracy: 0.6735\n",
            "Epoch 17/200\n",
            "20/20 [==============================] - 0s 2ms/step - loss: 0.6538 - accuracy: 0.6269 - val_loss: 0.6264 - val_accuracy: 0.6531\n",
            "Epoch 18/200\n",
            "20/20 [==============================] - 0s 2ms/step - loss: 0.6719 - accuracy: 0.6373 - val_loss: 0.6289 - val_accuracy: 0.6735\n",
            "Epoch 19/200\n",
            "20/20 [==============================] - 0s 2ms/step - loss: 0.6655 - accuracy: 0.6269 - val_loss: 0.6250 - val_accuracy: 0.6735\n",
            "Epoch 20/200\n",
            "20/20 [==============================] - 0s 2ms/step - loss: 0.6659 - accuracy: 0.6114 - val_loss: 0.6342 - val_accuracy: 0.6735\n",
            "Epoch 21/200\n",
            "20/20 [==============================] - 0s 2ms/step - loss: 0.6559 - accuracy: 0.6373 - val_loss: 0.6102 - val_accuracy: 0.7755\n",
            "Epoch 22/200\n",
            "20/20 [==============================] - 0s 2ms/step - loss: 0.6560 - accuracy: 0.6114 - val_loss: 0.6181 - val_accuracy: 0.6735\n",
            "Epoch 23/200\n",
            "20/20 [==============================] - 0s 2ms/step - loss: 0.6623 - accuracy: 0.6218 - val_loss: 0.6367 - val_accuracy: 0.6735\n",
            "Epoch 24/200\n",
            "20/20 [==============================] - 0s 2ms/step - loss: 0.6615 - accuracy: 0.6528 - val_loss: 0.6160 - val_accuracy: 0.6939\n",
            "Epoch 25/200\n",
            "20/20 [==============================] - 0s 2ms/step - loss: 0.6547 - accuracy: 0.6373 - val_loss: 0.6117 - val_accuracy: 0.7143\n",
            "Epoch 26/200\n",
            "20/20 [==============================] - 0s 2ms/step - loss: 0.6716 - accuracy: 0.6373 - val_loss: 0.6175 - val_accuracy: 0.6735\n",
            "Epoch 27/200\n",
            "20/20 [==============================] - 0s 2ms/step - loss: 0.6426 - accuracy: 0.6321 - val_loss: 0.6016 - val_accuracy: 0.7347\n",
            "Epoch 28/200\n",
            "20/20 [==============================] - 0s 2ms/step - loss: 0.6471 - accuracy: 0.6321 - val_loss: 0.5985 - val_accuracy: 0.7551\n",
            "Epoch 29/200\n",
            "20/20 [==============================] - 0s 2ms/step - loss: 0.6516 - accuracy: 0.6425 - val_loss: 0.6063 - val_accuracy: 0.7143\n",
            "Epoch 30/200\n",
            "20/20 [==============================] - 0s 2ms/step - loss: 0.6446 - accuracy: 0.6425 - val_loss: 0.6228 - val_accuracy: 0.6939\n",
            "Epoch 31/200\n",
            "20/20 [==============================] - 0s 2ms/step - loss: 0.6505 - accuracy: 0.6425 - val_loss: 0.5977 - val_accuracy: 0.7143\n",
            "Epoch 32/200\n",
            "20/20 [==============================] - 0s 2ms/step - loss: 0.6446 - accuracy: 0.6580 - val_loss: 0.5930 - val_accuracy: 0.7551\n",
            "Epoch 33/200\n",
            "20/20 [==============================] - 0s 2ms/step - loss: 0.6338 - accuracy: 0.6736 - val_loss: 0.5902 - val_accuracy: 0.7347\n",
            "Epoch 34/200\n",
            "20/20 [==============================] - 0s 2ms/step - loss: 0.6296 - accuracy: 0.6684 - val_loss: 0.5940 - val_accuracy: 0.7143\n",
            "Epoch 35/200\n",
            "20/20 [==============================] - 0s 2ms/step - loss: 0.6239 - accuracy: 0.6373 - val_loss: 0.6559 - val_accuracy: 0.6122\n",
            "Epoch 36/200\n",
            "20/20 [==============================] - 0s 2ms/step - loss: 0.6358 - accuracy: 0.6891 - val_loss: 0.5860 - val_accuracy: 0.7551\n",
            "Epoch 37/200\n",
            "20/20 [==============================] - 0s 2ms/step - loss: 0.6237 - accuracy: 0.6943 - val_loss: 0.6154 - val_accuracy: 0.7143\n",
            "Epoch 38/200\n",
            "20/20 [==============================] - 0s 2ms/step - loss: 0.6378 - accuracy: 0.6788 - val_loss: 0.5892 - val_accuracy: 0.7755\n",
            "Epoch 39/200\n",
            "20/20 [==============================] - 0s 2ms/step - loss: 0.6591 - accuracy: 0.6321 - val_loss: 0.6030 - val_accuracy: 0.7347\n",
            "Epoch 40/200\n",
            "20/20 [==============================] - 0s 2ms/step - loss: 0.6266 - accuracy: 0.6684 - val_loss: 0.5704 - val_accuracy: 0.7551\n",
            "Epoch 41/200\n",
            "20/20 [==============================] - 0s 2ms/step - loss: 0.6306 - accuracy: 0.6269 - val_loss: 0.6391 - val_accuracy: 0.6735\n",
            "Epoch 42/200\n",
            "20/20 [==============================] - 0s 2ms/step - loss: 0.6212 - accuracy: 0.6528 - val_loss: 0.5889 - val_accuracy: 0.7143\n",
            "Epoch 43/200\n",
            "20/20 [==============================] - 0s 2ms/step - loss: 0.6276 - accuracy: 0.6788 - val_loss: 0.5644 - val_accuracy: 0.7755\n",
            "Epoch 44/200\n",
            "20/20 [==============================] - 0s 2ms/step - loss: 0.6188 - accuracy: 0.6995 - val_loss: 0.9597 - val_accuracy: 0.4898\n",
            "Epoch 45/200\n",
            "20/20 [==============================] - 0s 2ms/step - loss: 0.6645 - accuracy: 0.6632 - val_loss: 0.5548 - val_accuracy: 0.7755\n",
            "Epoch 46/200\n",
            "20/20 [==============================] - 0s 2ms/step - loss: 0.6179 - accuracy: 0.6891 - val_loss: 0.5548 - val_accuracy: 0.7551\n",
            "Epoch 47/200\n",
            "20/20 [==============================] - 0s 2ms/step - loss: 0.6176 - accuracy: 0.7047 - val_loss: 0.5889 - val_accuracy: 0.7347\n",
            "Epoch 48/200\n",
            "20/20 [==============================] - 0s 2ms/step - loss: 0.6075 - accuracy: 0.7098 - val_loss: 0.5781 - val_accuracy: 0.7551\n",
            "Epoch 49/200\n",
            "20/20 [==============================] - 0s 2ms/step - loss: 0.5996 - accuracy: 0.7150 - val_loss: 0.5919 - val_accuracy: 0.7551\n",
            "Epoch 50/200\n",
            "20/20 [==============================] - 0s 2ms/step - loss: 0.6141 - accuracy: 0.6632 - val_loss: 0.5816 - val_accuracy: 0.7143\n",
            "Epoch 51/200\n",
            "20/20 [==============================] - 0s 2ms/step - loss: 0.6081 - accuracy: 0.7047 - val_loss: 0.5807 - val_accuracy: 0.7143\n",
            "Epoch 52/200\n",
            "20/20 [==============================] - 0s 2ms/step - loss: 0.5970 - accuracy: 0.7150 - val_loss: 0.5674 - val_accuracy: 0.7551\n",
            "Epoch 53/200\n",
            "20/20 [==============================] - 0s 2ms/step - loss: 0.5757 - accuracy: 0.7306 - val_loss: 0.5466 - val_accuracy: 0.7959\n",
            "Epoch 54/200\n",
            "20/20 [==============================] - 0s 2ms/step - loss: 0.6008 - accuracy: 0.6891 - val_loss: 0.5281 - val_accuracy: 0.7959\n",
            "Epoch 55/200\n",
            "20/20 [==============================] - 0s 2ms/step - loss: 0.5982 - accuracy: 0.7202 - val_loss: 0.5187 - val_accuracy: 0.7959\n",
            "Epoch 56/200\n",
            "20/20 [==============================] - 0s 2ms/step - loss: 0.5612 - accuracy: 0.7668 - val_loss: 0.5310 - val_accuracy: 0.7755\n",
            "Epoch 57/200\n",
            "20/20 [==============================] - 0s 2ms/step - loss: 0.6107 - accuracy: 0.7150 - val_loss: 0.5188 - val_accuracy: 0.7959\n",
            "Epoch 58/200\n",
            "20/20 [==============================] - 0s 2ms/step - loss: 0.5760 - accuracy: 0.7202 - val_loss: 0.5155 - val_accuracy: 0.7755\n",
            "Epoch 59/200\n",
            "20/20 [==============================] - 0s 2ms/step - loss: 0.5672 - accuracy: 0.7565 - val_loss: 0.5465 - val_accuracy: 0.7755\n",
            "Epoch 60/200\n",
            "20/20 [==============================] - 0s 2ms/step - loss: 0.5677 - accuracy: 0.7202 - val_loss: 0.6179 - val_accuracy: 0.6939\n",
            "Epoch 61/200\n",
            "20/20 [==============================] - 0s 2ms/step - loss: 0.5795 - accuracy: 0.7513 - val_loss: 0.6861 - val_accuracy: 0.6327\n",
            "Epoch 62/200\n",
            "20/20 [==============================] - 0s 2ms/step - loss: 0.5678 - accuracy: 0.7358 - val_loss: 0.8725 - val_accuracy: 0.5510\n",
            "Epoch 63/200\n",
            "20/20 [==============================] - 0s 2ms/step - loss: 0.5922 - accuracy: 0.7150 - val_loss: 0.5002 - val_accuracy: 0.7959\n",
            "Epoch 64/200\n",
            "20/20 [==============================] - 0s 2ms/step - loss: 0.5558 - accuracy: 0.7409 - val_loss: 0.4983 - val_accuracy: 0.7959\n",
            "Epoch 65/200\n",
            "20/20 [==============================] - 0s 2ms/step - loss: 0.5703 - accuracy: 0.7409 - val_loss: 0.5234 - val_accuracy: 0.8163\n",
            "Epoch 66/200\n",
            "20/20 [==============================] - 0s 2ms/step - loss: 0.5504 - accuracy: 0.7513 - val_loss: 0.5125 - val_accuracy: 0.8367\n",
            "Epoch 67/200\n",
            "20/20 [==============================] - 0s 2ms/step - loss: 0.5747 - accuracy: 0.7098 - val_loss: 0.5017 - val_accuracy: 0.8163\n",
            "Epoch 68/200\n",
            "20/20 [==============================] - 0s 2ms/step - loss: 0.5601 - accuracy: 0.7565 - val_loss: 0.8860 - val_accuracy: 0.5102\n",
            "Epoch 69/200\n",
            "20/20 [==============================] - 0s 2ms/step - loss: 0.5549 - accuracy: 0.7720 - val_loss: 0.4649 - val_accuracy: 0.8571\n",
            "Epoch 70/200\n",
            "20/20 [==============================] - 0s 2ms/step - loss: 0.5446 - accuracy: 0.7513 - val_loss: 0.4752 - val_accuracy: 0.8163\n",
            "Epoch 71/200\n",
            "20/20 [==============================] - 0s 2ms/step - loss: 0.5474 - accuracy: 0.7461 - val_loss: 0.5231 - val_accuracy: 0.8163\n",
            "Epoch 72/200\n",
            "20/20 [==============================] - 0s 2ms/step - loss: 0.5514 - accuracy: 0.7668 - val_loss: 0.5876 - val_accuracy: 0.6939\n",
            "Epoch 73/200\n",
            "20/20 [==============================] - 0s 2ms/step - loss: 0.5536 - accuracy: 0.7409 - val_loss: 0.5008 - val_accuracy: 0.8163\n",
            "Epoch 74/200\n",
            "20/20 [==============================] - 0s 2ms/step - loss: 0.5331 - accuracy: 0.7513 - val_loss: 0.5186 - val_accuracy: 0.8163\n",
            "Epoch 75/200\n",
            "20/20 [==============================] - 0s 2ms/step - loss: 0.5403 - accuracy: 0.7720 - val_loss: 0.4961 - val_accuracy: 0.7755\n",
            "Epoch 76/200\n",
            "20/20 [==============================] - 0s 2ms/step - loss: 0.5221 - accuracy: 0.7565 - val_loss: 0.5412 - val_accuracy: 0.7959\n",
            "Epoch 77/200\n",
            "20/20 [==============================] - 0s 2ms/step - loss: 0.5186 - accuracy: 0.7772 - val_loss: 0.5722 - val_accuracy: 0.7551\n",
            "Epoch 78/200\n",
            "20/20 [==============================] - 0s 2ms/step - loss: 0.5366 - accuracy: 0.7565 - val_loss: 0.4663 - val_accuracy: 0.8367\n",
            "Epoch 79/200\n",
            "20/20 [==============================] - 0s 2ms/step - loss: 0.5301 - accuracy: 0.7513 - val_loss: 0.5429 - val_accuracy: 0.7755\n",
            "Epoch 80/200\n",
            "20/20 [==============================] - 0s 2ms/step - loss: 0.5147 - accuracy: 0.8083 - val_loss: 0.4893 - val_accuracy: 0.7959\n",
            "Epoch 81/200\n",
            "20/20 [==============================] - 0s 2ms/step - loss: 0.5402 - accuracy: 0.7565 - val_loss: 0.4600 - val_accuracy: 0.8367\n",
            "Epoch 82/200\n",
            "20/20 [==============================] - 0s 2ms/step - loss: 0.5195 - accuracy: 0.7617 - val_loss: 0.4714 - val_accuracy: 0.7959\n",
            "Epoch 83/200\n",
            "20/20 [==============================] - 0s 2ms/step - loss: 0.5054 - accuracy: 0.7979 - val_loss: 0.4960 - val_accuracy: 0.7959\n",
            "Epoch 84/200\n",
            "20/20 [==============================] - 0s 2ms/step - loss: 0.5226 - accuracy: 0.7668 - val_loss: 0.4810 - val_accuracy: 0.8163\n",
            "Epoch 85/200\n",
            "20/20 [==============================] - 0s 2ms/step - loss: 0.5148 - accuracy: 0.7772 - val_loss: 0.4588 - val_accuracy: 0.8367\n",
            "Epoch 86/200\n",
            "20/20 [==============================] - 0s 2ms/step - loss: 0.5305 - accuracy: 0.7668 - val_loss: 0.5524 - val_accuracy: 0.7347\n",
            "Epoch 87/200\n",
            "20/20 [==============================] - 0s 2ms/step - loss: 0.5212 - accuracy: 0.7617 - val_loss: 0.4832 - val_accuracy: 0.7959\n",
            "Epoch 88/200\n",
            "20/20 [==============================] - 0s 2ms/step - loss: 0.5139 - accuracy: 0.7720 - val_loss: 0.5351 - val_accuracy: 0.7551\n",
            "Epoch 89/200\n",
            "20/20 [==============================] - 0s 2ms/step - loss: 0.5012 - accuracy: 0.7876 - val_loss: 0.5278 - val_accuracy: 0.7551\n",
            "Epoch 90/200\n",
            "20/20 [==============================] - 0s 2ms/step - loss: 0.5083 - accuracy: 0.7720 - val_loss: 0.7142 - val_accuracy: 0.6939\n",
            "Epoch 91/200\n",
            "20/20 [==============================] - 0s 2ms/step - loss: 0.5112 - accuracy: 0.7824 - val_loss: 0.4540 - val_accuracy: 0.7959\n",
            "Epoch 92/200\n",
            "20/20 [==============================] - 0s 2ms/step - loss: 0.5016 - accuracy: 0.8083 - val_loss: 0.9263 - val_accuracy: 0.5714\n",
            "Epoch 93/200\n",
            "20/20 [==============================] - 0s 2ms/step - loss: 0.4992 - accuracy: 0.7824 - val_loss: 0.5143 - val_accuracy: 0.7755\n",
            "Epoch 94/200\n",
            "20/20 [==============================] - 0s 2ms/step - loss: 0.4968 - accuracy: 0.7772 - val_loss: 0.5122 - val_accuracy: 0.7755\n",
            "Epoch 95/200\n",
            "20/20 [==============================] - 0s 2ms/step - loss: 0.4972 - accuracy: 0.7927 - val_loss: 0.4669 - val_accuracy: 0.7959\n",
            "Epoch 96/200\n",
            "20/20 [==============================] - 0s 2ms/step - loss: 0.4950 - accuracy: 0.7824 - val_loss: 0.4960 - val_accuracy: 0.7959\n",
            "Epoch 97/200\n",
            "20/20 [==============================] - 0s 2ms/step - loss: 0.4731 - accuracy: 0.8238 - val_loss: 0.4742 - val_accuracy: 0.8163\n",
            "Epoch 98/200\n",
            "20/20 [==============================] - 0s 2ms/step - loss: 0.4966 - accuracy: 0.7824 - val_loss: 0.4405 - val_accuracy: 0.8367\n",
            "Epoch 99/200\n",
            "20/20 [==============================] - 0s 2ms/step - loss: 0.4749 - accuracy: 0.7824 - val_loss: 0.4734 - val_accuracy: 0.8163\n",
            "Epoch 100/200\n",
            "20/20 [==============================] - 0s 2ms/step - loss: 0.4825 - accuracy: 0.8135 - val_loss: 0.5925 - val_accuracy: 0.7143\n",
            "Epoch 101/200\n",
            "20/20 [==============================] - 0s 2ms/step - loss: 0.4642 - accuracy: 0.7979 - val_loss: 0.4488 - val_accuracy: 0.8367\n",
            "Epoch 102/200\n",
            "20/20 [==============================] - 0s 2ms/step - loss: 0.4740 - accuracy: 0.8083 - val_loss: 0.8238 - val_accuracy: 0.5918\n",
            "Epoch 103/200\n",
            "20/20 [==============================] - 0s 2ms/step - loss: 0.4531 - accuracy: 0.8187 - val_loss: 0.5835 - val_accuracy: 0.6939\n",
            "Epoch 104/200\n",
            "20/20 [==============================] - 0s 2ms/step - loss: 0.4999 - accuracy: 0.7876 - val_loss: 0.4486 - val_accuracy: 0.8367\n",
            "Epoch 105/200\n",
            "20/20 [==============================] - 0s 2ms/step - loss: 0.4778 - accuracy: 0.7876 - val_loss: 0.5245 - val_accuracy: 0.7347\n",
            "Epoch 106/200\n",
            "20/20 [==============================] - 0s 2ms/step - loss: 0.4933 - accuracy: 0.7668 - val_loss: 0.5278 - val_accuracy: 0.7551\n",
            "Epoch 107/200\n",
            "20/20 [==============================] - 0s 2ms/step - loss: 0.4795 - accuracy: 0.7720 - val_loss: 0.4643 - val_accuracy: 0.7959\n",
            "Epoch 108/200\n",
            "20/20 [==============================] - 0s 2ms/step - loss: 0.4770 - accuracy: 0.8135 - val_loss: 0.4289 - val_accuracy: 0.8367\n",
            "Epoch 109/200\n",
            "20/20 [==============================] - 0s 2ms/step - loss: 0.5006 - accuracy: 0.7876 - val_loss: 0.4344 - val_accuracy: 0.8367\n",
            "Epoch 110/200\n",
            "20/20 [==============================] - 0s 2ms/step - loss: 0.4558 - accuracy: 0.8031 - val_loss: 0.5407 - val_accuracy: 0.7143\n",
            "Epoch 111/200\n",
            "20/20 [==============================] - 0s 2ms/step - loss: 0.4662 - accuracy: 0.8135 - val_loss: 0.5076 - val_accuracy: 0.7551\n",
            "Epoch 112/200\n",
            "20/20 [==============================] - 0s 2ms/step - loss: 0.4603 - accuracy: 0.8031 - val_loss: 0.5505 - val_accuracy: 0.7143\n",
            "Epoch 113/200\n",
            "20/20 [==============================] - 0s 2ms/step - loss: 0.4533 - accuracy: 0.8342 - val_loss: 0.4281 - val_accuracy: 0.8367\n",
            "Epoch 114/200\n",
            "20/20 [==============================] - 0s 2ms/step - loss: 0.4563 - accuracy: 0.8135 - val_loss: 0.4216 - val_accuracy: 0.8367\n",
            "Epoch 115/200\n",
            "20/20 [==============================] - 0s 2ms/step - loss: 0.4828 - accuracy: 0.7876 - val_loss: 0.5846 - val_accuracy: 0.6939\n",
            "Epoch 116/200\n",
            "20/20 [==============================] - 0s 2ms/step - loss: 0.4635 - accuracy: 0.8135 - val_loss: 0.5060 - val_accuracy: 0.7551\n",
            "Epoch 117/200\n",
            "20/20 [==============================] - 0s 2ms/step - loss: 0.4638 - accuracy: 0.7979 - val_loss: 0.4194 - val_accuracy: 0.8776\n",
            "Epoch 118/200\n",
            "20/20 [==============================] - 0s 2ms/step - loss: 0.4827 - accuracy: 0.8135 - val_loss: 0.4265 - val_accuracy: 0.8163\n",
            "Epoch 119/200\n",
            "20/20 [==============================] - 0s 2ms/step - loss: 0.4420 - accuracy: 0.8238 - val_loss: 0.8096 - val_accuracy: 0.5714\n",
            "Epoch 120/200\n",
            "20/20 [==============================] - 0s 2ms/step - loss: 0.5068 - accuracy: 0.7876 - val_loss: 0.4365 - val_accuracy: 0.8367\n",
            "Epoch 121/200\n",
            "20/20 [==============================] - 0s 2ms/step - loss: 0.4328 - accuracy: 0.8394 - val_loss: 0.5668 - val_accuracy: 0.7551\n",
            "Epoch 122/200\n",
            "20/20 [==============================] - 0s 2ms/step - loss: 0.4868 - accuracy: 0.7565 - val_loss: 0.4379 - val_accuracy: 0.7959\n",
            "Epoch 123/200\n",
            "20/20 [==============================] - 0s 2ms/step - loss: 0.4490 - accuracy: 0.8031 - val_loss: 0.4301 - val_accuracy: 0.7959\n",
            "Epoch 124/200\n",
            "20/20 [==============================] - 0s 2ms/step - loss: 0.4486 - accuracy: 0.8083 - val_loss: 0.4199 - val_accuracy: 0.8776\n",
            "Epoch 125/200\n",
            "20/20 [==============================] - 0s 2ms/step - loss: 0.4619 - accuracy: 0.7876 - val_loss: 0.4807 - val_accuracy: 0.7959\n",
            "Epoch 126/200\n",
            "20/20 [==============================] - 0s 2ms/step - loss: 0.4338 - accuracy: 0.8342 - val_loss: 0.8907 - val_accuracy: 0.5306\n",
            "Epoch 127/200\n",
            "20/20 [==============================] - 0s 2ms/step - loss: 0.4628 - accuracy: 0.7876 - val_loss: 0.4585 - val_accuracy: 0.7959\n",
            "Epoch 128/200\n",
            "20/20 [==============================] - 0s 2ms/step - loss: 0.4437 - accuracy: 0.8135 - val_loss: 0.4854 - val_accuracy: 0.7959\n",
            "Epoch 129/200\n",
            "20/20 [==============================] - 0s 2ms/step - loss: 0.4858 - accuracy: 0.7720 - val_loss: 0.5297 - val_accuracy: 0.7551\n",
            "Epoch 130/200\n",
            "20/20 [==============================] - 0s 2ms/step - loss: 0.4293 - accuracy: 0.8290 - val_loss: 0.5441 - val_accuracy: 0.7143\n",
            "Epoch 131/200\n",
            "20/20 [==============================] - 0s 2ms/step - loss: 0.4507 - accuracy: 0.7927 - val_loss: 0.4658 - val_accuracy: 0.8163\n",
            "Epoch 132/200\n",
            "20/20 [==============================] - 0s 2ms/step - loss: 0.4593 - accuracy: 0.8083 - val_loss: 0.4939 - val_accuracy: 0.7551\n",
            "Epoch 133/200\n",
            "20/20 [==============================] - 0s 2ms/step - loss: 0.4441 - accuracy: 0.8290 - val_loss: 0.4413 - val_accuracy: 0.8367\n",
            "Epoch 134/200\n",
            "20/20 [==============================] - 0s 2ms/step - loss: 0.4297 - accuracy: 0.8290 - val_loss: 0.4997 - val_accuracy: 0.7755\n",
            "Epoch 135/200\n",
            "20/20 [==============================] - 0s 2ms/step - loss: 0.4585 - accuracy: 0.8083 - val_loss: 0.4345 - val_accuracy: 0.8571\n",
            "Epoch 136/200\n",
            "20/20 [==============================] - 0s 2ms/step - loss: 0.4392 - accuracy: 0.8031 - val_loss: 0.4100 - val_accuracy: 0.8367\n",
            "Epoch 137/200\n",
            "20/20 [==============================] - 0s 2ms/step - loss: 0.4343 - accuracy: 0.8238 - val_loss: 0.4257 - val_accuracy: 0.8367\n",
            "Epoch 138/200\n",
            "20/20 [==============================] - 0s 2ms/step - loss: 0.4665 - accuracy: 0.7720 - val_loss: 0.4737 - val_accuracy: 0.8163\n",
            "Epoch 139/200\n",
            "20/20 [==============================] - 0s 2ms/step - loss: 0.4453 - accuracy: 0.8083 - val_loss: 0.5047 - val_accuracy: 0.7755\n",
            "Epoch 140/200\n",
            "20/20 [==============================] - 0s 2ms/step - loss: 0.4268 - accuracy: 0.8187 - val_loss: 0.4736 - val_accuracy: 0.7959\n",
            "Epoch 141/200\n",
            "20/20 [==============================] - 0s 2ms/step - loss: 0.4388 - accuracy: 0.8187 - val_loss: 0.4707 - val_accuracy: 0.7959\n",
            "Epoch 142/200\n",
            "20/20 [==============================] - 0s 2ms/step - loss: 0.4362 - accuracy: 0.7979 - val_loss: 0.4436 - val_accuracy: 0.8367\n",
            "Epoch 143/200\n",
            "20/20 [==============================] - 0s 2ms/step - loss: 0.4545 - accuracy: 0.8083 - val_loss: 0.6621 - val_accuracy: 0.6735\n",
            "Epoch 144/200\n",
            "20/20 [==============================] - 0s 2ms/step - loss: 0.4553 - accuracy: 0.8187 - val_loss: 0.5220 - val_accuracy: 0.7755\n",
            "Epoch 145/200\n",
            "20/20 [==============================] - 0s 2ms/step - loss: 0.4310 - accuracy: 0.8342 - val_loss: 0.4499 - val_accuracy: 0.8163\n",
            "Epoch 146/200\n",
            "20/20 [==============================] - 0s 2ms/step - loss: 0.4217 - accuracy: 0.8342 - val_loss: 0.4524 - val_accuracy: 0.7755\n",
            "Epoch 147/200\n",
            "20/20 [==============================] - 0s 2ms/step - loss: 0.4110 - accuracy: 0.8187 - val_loss: 0.4300 - val_accuracy: 0.8163\n",
            "Epoch 148/200\n",
            "20/20 [==============================] - 0s 2ms/step - loss: 0.4464 - accuracy: 0.7979 - val_loss: 0.4613 - val_accuracy: 0.7755\n",
            "Epoch 149/200\n",
            "20/20 [==============================] - 0s 2ms/step - loss: 0.4207 - accuracy: 0.8342 - val_loss: 0.4280 - val_accuracy: 0.8163\n",
            "Epoch 150/200\n",
            "20/20 [==============================] - 0s 2ms/step - loss: 0.4502 - accuracy: 0.8031 - val_loss: 0.5369 - val_accuracy: 0.7551\n",
            "Epoch 151/200\n",
            "20/20 [==============================] - 0s 2ms/step - loss: 0.4545 - accuracy: 0.8083 - val_loss: 0.4270 - val_accuracy: 0.8163\n",
            "Epoch 152/200\n",
            "20/20 [==============================] - 0s 2ms/step - loss: 0.4403 - accuracy: 0.8083 - val_loss: 0.5077 - val_accuracy: 0.7755\n",
            "Epoch 153/200\n",
            "20/20 [==============================] - 0s 2ms/step - loss: 0.4197 - accuracy: 0.8290 - val_loss: 0.4232 - val_accuracy: 0.8163\n",
            "Epoch 154/200\n",
            "20/20 [==============================] - 0s 2ms/step - loss: 0.4104 - accuracy: 0.8342 - val_loss: 0.9068 - val_accuracy: 0.5714\n",
            "Epoch 155/200\n",
            "20/20 [==============================] - 0s 2ms/step - loss: 0.4695 - accuracy: 0.7876 - val_loss: 0.4415 - val_accuracy: 0.7755\n",
            "Epoch 156/200\n",
            "20/20 [==============================] - 0s 2ms/step - loss: 0.4099 - accuracy: 0.8238 - val_loss: 0.4599 - val_accuracy: 0.7959\n",
            "Epoch 157/200\n",
            "20/20 [==============================] - 0s 2ms/step - loss: 0.4344 - accuracy: 0.8135 - val_loss: 0.4191 - val_accuracy: 0.8367\n",
            "Epoch 158/200\n",
            "20/20 [==============================] - 0s 2ms/step - loss: 0.4227 - accuracy: 0.8238 - val_loss: 0.6139 - val_accuracy: 0.6939\n",
            "Epoch 159/200\n",
            "20/20 [==============================] - 0s 2ms/step - loss: 0.4382 - accuracy: 0.8031 - val_loss: 0.5562 - val_accuracy: 0.7551\n",
            "Epoch 160/200\n",
            "20/20 [==============================] - 0s 2ms/step - loss: 0.4330 - accuracy: 0.8135 - val_loss: 0.4726 - val_accuracy: 0.7755\n",
            "Epoch 161/200\n",
            "20/20 [==============================] - 0s 2ms/step - loss: 0.4133 - accuracy: 0.8135 - val_loss: 0.4361 - val_accuracy: 0.8163\n",
            "Epoch 162/200\n",
            "20/20 [==============================] - 0s 2ms/step - loss: 0.4089 - accuracy: 0.8083 - val_loss: 0.5114 - val_accuracy: 0.7755\n",
            "Epoch 163/200\n",
            "20/20 [==============================] - 0s 2ms/step - loss: 0.4515 - accuracy: 0.7617 - val_loss: 0.4270 - val_accuracy: 0.8163\n",
            "Epoch 164/200\n",
            "20/20 [==============================] - 0s 2ms/step - loss: 0.3943 - accuracy: 0.8342 - val_loss: 0.4714 - val_accuracy: 0.7959\n",
            "Epoch 165/200\n",
            "20/20 [==============================] - 0s 2ms/step - loss: 0.4118 - accuracy: 0.8290 - val_loss: 0.4709 - val_accuracy: 0.7755\n",
            "Epoch 166/200\n",
            "20/20 [==============================] - 0s 2ms/step - loss: 0.4172 - accuracy: 0.8549 - val_loss: 0.4124 - val_accuracy: 0.8571\n",
            "Epoch 167/200\n",
            "20/20 [==============================] - 0s 2ms/step - loss: 0.3963 - accuracy: 0.8446 - val_loss: 0.4325 - val_accuracy: 0.8163\n",
            "Epoch 168/200\n",
            "20/20 [==============================] - 0s 2ms/step - loss: 0.4267 - accuracy: 0.8290 - val_loss: 0.4050 - val_accuracy: 0.8367\n",
            "Epoch 169/200\n",
            "20/20 [==============================] - 0s 2ms/step - loss: 0.3998 - accuracy: 0.8290 - val_loss: 0.4749 - val_accuracy: 0.8571\n",
            "Epoch 170/200\n",
            "20/20 [==============================] - 0s 2ms/step - loss: 0.4200 - accuracy: 0.8238 - val_loss: 0.4984 - val_accuracy: 0.7755\n",
            "Epoch 171/200\n",
            "20/20 [==============================] - 0s 2ms/step - loss: 0.4100 - accuracy: 0.8290 - val_loss: 0.8890 - val_accuracy: 0.6122\n",
            "Epoch 172/200\n",
            "20/20 [==============================] - 0s 2ms/step - loss: 0.4280 - accuracy: 0.8083 - val_loss: 0.4505 - val_accuracy: 0.7959\n",
            "Epoch 173/200\n",
            "20/20 [==============================] - 0s 2ms/step - loss: 0.4249 - accuracy: 0.8135 - val_loss: 0.4642 - val_accuracy: 0.8367\n",
            "Epoch 174/200\n",
            "20/20 [==============================] - 0s 2ms/step - loss: 0.4481 - accuracy: 0.7979 - val_loss: 0.4562 - val_accuracy: 0.8367\n",
            "Epoch 175/200\n",
            "20/20 [==============================] - 0s 2ms/step - loss: 0.4234 - accuracy: 0.8135 - val_loss: 0.4401 - val_accuracy: 0.8367\n",
            "Epoch 176/200\n",
            "20/20 [==============================] - 0s 2ms/step - loss: 0.3842 - accuracy: 0.8497 - val_loss: 1.5322 - val_accuracy: 0.4694\n",
            "Epoch 177/200\n",
            "20/20 [==============================] - 0s 2ms/step - loss: 0.4999 - accuracy: 0.7979 - val_loss: 0.4049 - val_accuracy: 0.8367\n",
            "Epoch 178/200\n",
            "20/20 [==============================] - 0s 2ms/step - loss: 0.4268 - accuracy: 0.8290 - val_loss: 0.4612 - val_accuracy: 0.7755\n",
            "Epoch 179/200\n",
            "20/20 [==============================] - 0s 2ms/step - loss: 0.4167 - accuracy: 0.8083 - val_loss: 0.4121 - val_accuracy: 0.8367\n",
            "Epoch 180/200\n",
            "20/20 [==============================] - 0s 2ms/step - loss: 0.4024 - accuracy: 0.8135 - val_loss: 0.4805 - val_accuracy: 0.7959\n",
            "Epoch 181/200\n",
            "20/20 [==============================] - 0s 2ms/step - loss: 0.4198 - accuracy: 0.8083 - val_loss: 0.5653 - val_accuracy: 0.7755\n",
            "Epoch 182/200\n",
            "20/20 [==============================] - 0s 2ms/step - loss: 0.3904 - accuracy: 0.8342 - val_loss: 0.4854 - val_accuracy: 0.7959\n",
            "Epoch 183/200\n",
            "20/20 [==============================] - 0s 2ms/step - loss: 0.3946 - accuracy: 0.8342 - val_loss: 0.4236 - val_accuracy: 0.8367\n",
            "Epoch 184/200\n",
            "20/20 [==============================] - 0s 2ms/step - loss: 0.4078 - accuracy: 0.8238 - val_loss: 0.5224 - val_accuracy: 0.7755\n",
            "Epoch 185/200\n",
            "20/20 [==============================] - 0s 2ms/step - loss: 0.4228 - accuracy: 0.8238 - val_loss: 0.4840 - val_accuracy: 0.7959\n",
            "Epoch 186/200\n",
            "20/20 [==============================] - 0s 2ms/step - loss: 0.3976 - accuracy: 0.8394 - val_loss: 0.5759 - val_accuracy: 0.7347\n",
            "Epoch 187/200\n",
            "20/20 [==============================] - 0s 2ms/step - loss: 0.4125 - accuracy: 0.8290 - val_loss: 0.4542 - val_accuracy: 0.8367\n",
            "Epoch 188/200\n",
            "20/20 [==============================] - 0s 2ms/step - loss: 0.3870 - accuracy: 0.8342 - val_loss: 0.5367 - val_accuracy: 0.7551\n",
            "Epoch 189/200\n",
            "20/20 [==============================] - 0s 2ms/step - loss: 0.3807 - accuracy: 0.8446 - val_loss: 0.5651 - val_accuracy: 0.7959\n",
            "Epoch 190/200\n",
            "20/20 [==============================] - 0s 2ms/step - loss: 0.4321 - accuracy: 0.8031 - val_loss: 0.4736 - val_accuracy: 0.8367\n",
            "Epoch 191/200\n",
            "20/20 [==============================] - 0s 2ms/step - loss: 0.4283 - accuracy: 0.7979 - val_loss: 0.4309 - val_accuracy: 0.7959\n",
            "Epoch 192/200\n",
            "20/20 [==============================] - 0s 2ms/step - loss: 0.3622 - accuracy: 0.8653 - val_loss: 0.7204 - val_accuracy: 0.6735\n",
            "Epoch 193/200\n",
            "20/20 [==============================] - 0s 2ms/step - loss: 0.4112 - accuracy: 0.8601 - val_loss: 0.4503 - val_accuracy: 0.7959\n",
            "Epoch 194/200\n",
            "20/20 [==============================] - 0s 2ms/step - loss: 0.3959 - accuracy: 0.8135 - val_loss: 0.4515 - val_accuracy: 0.7959\n",
            "Epoch 195/200\n",
            "20/20 [==============================] - 0s 2ms/step - loss: 0.3977 - accuracy: 0.8238 - val_loss: 0.4668 - val_accuracy: 0.8367\n",
            "Epoch 196/200\n",
            "20/20 [==============================] - 0s 2ms/step - loss: 0.3820 - accuracy: 0.8238 - val_loss: 0.4415 - val_accuracy: 0.7959\n",
            "Epoch 197/200\n",
            "20/20 [==============================] - 0s 2ms/step - loss: 0.3844 - accuracy: 0.8031 - val_loss: 0.4515 - val_accuracy: 0.7959\n",
            "Epoch 198/200\n",
            "20/20 [==============================] - 0s 2ms/step - loss: 0.4110 - accuracy: 0.8342 - val_loss: 0.5656 - val_accuracy: 0.7551\n",
            "Epoch 199/200\n",
            "20/20 [==============================] - 0s 2ms/step - loss: 0.3782 - accuracy: 0.8290 - val_loss: 0.5129 - val_accuracy: 0.7551\n",
            "Epoch 200/200\n",
            "20/20 [==============================] - 0s 2ms/step - loss: 0.4080 - accuracy: 0.8031 - val_loss: 0.5337 - val_accuracy: 0.7959\n"
          ],
          "name": "stdout"
        }
      ]
    },
    {
      "cell_type": "markdown",
      "metadata": {
        "id": "df1v2vsU1Fs_",
        "colab_type": "text"
      },
      "source": [
        "The validation accuracy predicted by the model is around 80%. It can further be increased by trying to optimize the epochs, the number of layers or the number of nodes per layer."
      ]
    },
    {
      "cell_type": "markdown",
      "metadata": {
        "id": "_DioIGMKnE1D",
        "colab_type": "text"
      },
      "source": [
        "## Model Evaluation\n",
        "Evaluating the model requires that you first choose a separate dataset used to evaluate the model. This should be data not used in the training process i.e. the X_test.\n",
        "\n",
        "Now, let us use the trained model to predict the probability values for the new data set - The test set we had initially created. The below code passes the X_test and y_test to the trained model and gives out the probability."
      ]
    },
    {
      "cell_type": "code",
      "metadata": {
        "id": "dp0H2fEo5G9l",
        "colab_type": "code",
        "colab": {
          "base_uri": "https://localhost:8080/",
          "height": 50
        },
        "outputId": "e27f3532-1e8a-4cf8-dc30-deee289b65ea"
      },
      "source": [
        "model.evaluate(X_test, y_test)"
      ],
      "execution_count": 14,
      "outputs": [
        {
          "output_type": "stream",
          "text": [
            "2/2 [==============================] - 0s 3ms/step - loss: 0.4717 - accuracy: 0.8033\n"
          ],
          "name": "stdout"
        },
        {
          "output_type": "execute_result",
          "data": {
            "text/plain": [
              "[0.47169870138168335, 0.8032786846160889]"
            ]
          },
          "metadata": {
            "tags": []
          },
          "execution_count": 14
        }
      ]
    },
    {
      "cell_type": "markdown",
      "metadata": {
        "id": "uhgS-vaMNOKH",
        "colab_type": "text"
      },
      "source": [
        "### Model Accuracy\n",
        "Now, we'll use the history object created above to plot the Accuracy and Loss throughout the training process.\n",
        "\n",
        "You can think of history.history as a Python dictionary from which the values can be obtained by specifying a key within square brackets.\n",
        "\n",
        "For eg. `history.history['accuracy']` will give the train accuracy throughout the training process."
      ]
    },
    {
      "cell_type": "code",
      "metadata": {
        "id": "-oyohXCu3E8t",
        "colab_type": "code",
        "colab": {
          "base_uri": "https://localhost:8080/",
          "height": 295
        },
        "outputId": "1d3d9e0b-5aa3-4da9-dcfb-a869b5bafbcc"
      },
      "source": [
        "plt.plot(history.history['accuracy'])\n",
        "plt.plot(history.history['val_accuracy'])\n",
        "plt.title('Model Accuracy')\n",
        "plt.ylabel('accuracy')\n",
        "plt.xlabel('epoch')\n",
        "plt.legend(['Train', 'Validation'])\n",
        "plt.show()"
      ],
      "execution_count": 15,
      "outputs": [
        {
          "output_type": "display_data",
          "data": {
            "image/png": "[encoded data removed]",
            "text/plain": [
              "<Figure size 432x288 with 1 Axes>"
            ]
          },
          "metadata": {
            "tags": [],
            "needs_background": "light"
          }
        }
      ]
    },
    {
      "cell_type": "markdown",
      "metadata": {
        "id": "oKwdGvjwNUAT",
        "colab_type": "text"
      },
      "source": [
        "### Model Loss"
      ]
    },
    {
      "cell_type": "code",
      "metadata": {
        "id": "Ku9K-qUi3II3",
        "colab_type": "code",
        "colab": {
          "base_uri": "https://localhost:8080/",
          "height": 295
        },
        "outputId": "8e555125-9ec8-4f95-8c2f-c16353322d0e"
      },
      "source": [
        "plt.plot(history.history['loss'])\n",
        "plt.plot(history.history['val_loss'])\n",
        "plt.title('Model Loss')\n",
        "plt.ylabel('loss')\n",
        "plt.xlabel('epoch')\n",
        "plt.legend(['Train', 'Validation'])\n",
        "plt.show()"
      ],
      "execution_count": 16,
      "outputs": [
        {
          "output_type": "display_data",
          "data": {
            "image/png": "[encoded data removed]",
            "text/plain": [
              "<Figure size 432x288 with 1 Axes>"
            ]
          },
          "metadata": {
            "tags": [],
            "needs_background": "light"
          }
        }
      ]
    },
    {
      "cell_type": "markdown",
      "metadata": {
        "id": "l7MypLpX9o_5",
        "colab_type": "text"
      },
      "source": [
        "Look how the accuracy is slowly increasing and the loss slowly decreasing. Interesting, right?\n",
        "\n",
        "PS. You will read more about the importance of Validation data later."
      ]
    },
    {
      "cell_type": "markdown",
      "metadata": {
        "id": "lSBw11Y61Pp1",
        "colab_type": "text"
      },
      "source": [
        "# Conclusion\n",
        "In this example, we developed a working Neural Network for the binary classification problem.\n",
        "\n",
        "The model can be optimised further using hyperparameter tuning and other techniques that you'll be reading about in the upcoming days."
      ]
    }
  ]
}