{
  "nbformat": 4,
  "nbformat_minor": 0,
  "metadata": {
    "colab": {
      "name": "Final of TSLA Prediction_10_Days_Ahead.ipynb",
      "provenance": [],
      "authorship_tag": "ABX9TyO7n8mBiHofg78VVWo5wF1w",
      "include_colab_link": true
    },
    "kernelspec": {
      "name": "python3",
      "display_name": "Python 3"
    },
    "accelerator": "GPU"
  },
  "cells": [
    {
      "cell_type": "markdown",
      "metadata": {
        "id": "view-in-github",
        "colab_type": "text"
      },
      "source": [
        "<a href=\"https://colab.research.google.com/github/Varun0801/Deep_Learning_Essentials/blob/master/Final_of_TSLA_Prediction_10_Days_Ahead.ipynb\" target=\"_parent\"><img src=\"https://colab.research.google.com/assets/colab-badge.svg\" alt=\"Open In Colab\"/></a>"
      ]
    },
    {
      "cell_type": "code",
      "metadata": {
        "id": "iG_JhbP7BMQt",
        "colab_type": "code",
        "colab": {
          "base_uri": "https://localhost:8080/",
          "height": 70
        },
        "outputId": "5a19865c-2bef-4867-9d28-da6246cda94b"
      },
      "source": [
        "import pandas as pd\n",
        "from pandas_datareader import data, wb\n",
        "import datetime"
      ],
      "execution_count": 1,
      "outputs": [
        {
          "output_type": "stream",
          "text": [
            "/usr/local/lib/python3.6/dist-packages/pandas_datareader/compat/__init__.py:7: FutureWarning: pandas.util.testing is deprecated. Use the functions in the public API at pandas.testing instead.\n",
            "  from pandas.util.testing import assert_frame_equal\n"
          ],
          "name": "stderr"
        }
      ]
    },
    {
      "cell_type": "code",
      "metadata": {
        "id": "tuTZT465DRl9",
        "colab_type": "code",
        "colab": {
          "base_uri": "https://localhost:8080/",
          "height": 431
        },
        "outputId": "7387984a-4960-4f6c-acc8-0852f025ebd0"
      },
      "source": [
        "start = pd.to_datetime('2015-09-24')\n",
        "end = pd.to_datetime('2020-09-24')\n",
        "data_df = data.DataReader('TSLA','yahoo',start,end)\n",
        "data_df"
      ],
      "execution_count": 2,
      "outputs": [
        {
          "output_type": "execute_result",
          "data": {
            "text/html": [
              "<div>\n",
              "<style scoped>\n",
              "    .dataframe tbody tr th:only-of-type {\n",
              "        vertical-align: middle;\n",
              "    }\n",
              "\n",
              "    .dataframe tbody tr th {\n",
              "        vertical-align: top;\n",
              "    }\n",
              "\n",
              "    .dataframe thead th {\n",
              "        text-align: right;\n",
              "    }\n",
              "</style>\n",
              "<table border=\"1\" class=\"dataframe\">\n",
              "  <thead>\n",
              "    <tr style=\"text-align: right;\">\n",
              "      <th></th>\n",
              "      <th>High</th>\n",
              "      <th>Low</th>\n",
              "      <th>Open</th>\n",
              "      <th>Close</th>\n",
              "      <th>Volume</th>\n",
              "      <th>Adj Close</th>\n",
              "    </tr>\n",
              "    <tr>\n",
              "      <th>Date</th>\n",
              "      <th></th>\n",
              "      <th></th>\n",
              "      <th></th>\n",
              "      <th></th>\n",
              "      <th></th>\n",
              "      <th></th>\n",
              "    </tr>\n",
              "  </thead>\n",
              "  <tbody>\n",
              "    <tr>\n",
              "      <th>2015-09-24</th>\n",
              "      <td>52.689999</td>\n",
              "      <td>51.242001</td>\n",
              "      <td>51.905998</td>\n",
              "      <td>52.624001</td>\n",
              "      <td>17241000.0</td>\n",
              "      <td>52.624001</td>\n",
              "    </tr>\n",
              "    <tr>\n",
              "      <th>2015-09-25</th>\n",
              "      <td>53.382000</td>\n",
              "      <td>51.230000</td>\n",
              "      <td>53.321999</td>\n",
              "      <td>51.382000</td>\n",
              "      <td>18867000.0</td>\n",
              "      <td>51.382000</td>\n",
              "    </tr>\n",
              "    <tr>\n",
              "      <th>2015-09-28</th>\n",
              "      <td>51.958000</td>\n",
              "      <td>49.321999</td>\n",
              "      <td>51.470001</td>\n",
              "      <td>49.686001</td>\n",
              "      <td>24505500.0</td>\n",
              "      <td>49.686001</td>\n",
              "    </tr>\n",
              "    <tr>\n",
              "      <th>2015-09-29</th>\n",
              "      <td>50.945999</td>\n",
              "      <td>49.091999</td>\n",
              "      <td>50.091999</td>\n",
              "      <td>49.330002</td>\n",
              "      <td>18516000.0</td>\n",
              "      <td>49.330002</td>\n",
              "    </tr>\n",
              "    <tr>\n",
              "      <th>2015-09-30</th>\n",
              "      <td>50.480000</td>\n",
              "      <td>48.467999</td>\n",
              "      <td>50.400002</td>\n",
              "      <td>49.680000</td>\n",
              "      <td>24648000.0</td>\n",
              "      <td>49.680000</td>\n",
              "    </tr>\n",
              "    <tr>\n",
              "      <th>...</th>\n",
              "      <td>...</td>\n",
              "      <td>...</td>\n",
              "      <td>...</td>\n",
              "      <td>...</td>\n",
              "      <td>...</td>\n",
              "      <td>...</td>\n",
              "    </tr>\n",
              "    <tr>\n",
              "      <th>2020-09-18</th>\n",
              "      <td>451.000000</td>\n",
              "      <td>428.799988</td>\n",
              "      <td>447.940002</td>\n",
              "      <td>442.149994</td>\n",
              "      <td>86406800.0</td>\n",
              "      <td>442.149994</td>\n",
              "    </tr>\n",
              "    <tr>\n",
              "      <th>2020-09-21</th>\n",
              "      <td>455.679993</td>\n",
              "      <td>407.070007</td>\n",
              "      <td>453.130005</td>\n",
              "      <td>449.390015</td>\n",
              "      <td>109476800.0</td>\n",
              "      <td>449.390015</td>\n",
              "    </tr>\n",
              "    <tr>\n",
              "      <th>2020-09-22</th>\n",
              "      <td>437.760010</td>\n",
              "      <td>417.600006</td>\n",
              "      <td>429.600006</td>\n",
              "      <td>424.230011</td>\n",
              "      <td>79580800.0</td>\n",
              "      <td>424.230011</td>\n",
              "    </tr>\n",
              "    <tr>\n",
              "      <th>2020-09-23</th>\n",
              "      <td>412.149994</td>\n",
              "      <td>375.880005</td>\n",
              "      <td>405.160004</td>\n",
              "      <td>380.359985</td>\n",
              "      <td>95074200.0</td>\n",
              "      <td>380.359985</td>\n",
              "    </tr>\n",
              "    <tr>\n",
              "      <th>2020-09-24</th>\n",
              "      <td>399.500000</td>\n",
              "      <td>351.299988</td>\n",
              "      <td>363.799988</td>\n",
              "      <td>387.790009</td>\n",
              "      <td>96199700.0</td>\n",
              "      <td>387.790009</td>\n",
              "    </tr>\n",
              "  </tbody>\n",
              "</table>\n",
              "<p>1260 rows × 6 columns</p>\n",
              "</div>"
            ],
            "text/plain": [
              "                  High         Low  ...       Volume   Adj Close\n",
              "Date                                ...                         \n",
              "2015-09-24   52.689999   51.242001  ...   17241000.0   52.624001\n",
              "2015-09-25   53.382000   51.230000  ...   18867000.0   51.382000\n",
              "2015-09-28   51.958000   49.321999  ...   24505500.0   49.686001\n",
              "2015-09-29   50.945999   49.091999  ...   18516000.0   49.330002\n",
              "2015-09-30   50.480000   48.467999  ...   24648000.0   49.680000\n",
              "...                ...         ...  ...          ...         ...\n",
              "2020-09-18  451.000000  428.799988  ...   86406800.0  442.149994\n",
              "2020-09-21  455.679993  407.070007  ...  109476800.0  449.390015\n",
              "2020-09-22  437.760010  417.600006  ...   79580800.0  424.230011\n",
              "2020-09-23  412.149994  375.880005  ...   95074200.0  380.359985\n",
              "2020-09-24  399.500000  351.299988  ...   96199700.0  387.790009\n",
              "\n",
              "[1260 rows x 6 columns]"
            ]
          },
          "metadata": {
            "tags": []
          },
          "execution_count": 2
        }
      ]
    },
    {
      "cell_type": "code",
      "metadata": {
        "id": "iy4ujlgLDbCm",
        "colab_type": "code",
        "colab": {
          "base_uri": "https://localhost:8080/",
          "height": 218
        },
        "outputId": "76af34b8-bca7-427d-d892-3528971a7fdd"
      },
      "source": [
        "df1=data_df.reset_index()['Close']\n",
        "df1"
      ],
      "execution_count": 3,
      "outputs": [
        {
          "output_type": "execute_result",
          "data": {
            "text/plain": [
              "0        52.624001\n",
              "1        51.382000\n",
              "2        49.686001\n",
              "3        49.330002\n",
              "4        49.680000\n",
              "           ...    \n",
              "1255    442.149994\n",
              "1256    449.390015\n",
              "1257    424.230011\n",
              "1258    380.359985\n",
              "1259    387.790009\n",
              "Name: Close, Length: 1260, dtype: float64"
            ]
          },
          "metadata": {
            "tags": []
          },
          "execution_count": 3
        }
      ]
    },
    {
      "cell_type": "code",
      "metadata": {
        "id": "xAL8pwNuFXJq",
        "colab_type": "code",
        "colab": {
          "base_uri": "https://localhost:8080/",
          "height": 282
        },
        "outputId": "50778e0a-4f69-4d87-c662-1e04b1f73050"
      },
      "source": [
        "import matplotlib.pyplot as plt\n",
        "plt.plot(df1)"
      ],
      "execution_count": 4,
      "outputs": [
        {
          "output_type": "execute_result",
          "data": {
            "text/plain": [
              "[<matplotlib.lines.Line2D at 0x7f4eaf027588>]"
            ]
          },
          "metadata": {
            "tags": []
          },
          "execution_count": 4
        },
        {
          "output_type": "display_data",
          "data": {
            "image/png": "[encoded data removed]",
            "text/plain": [
              "<Figure size 432x288 with 1 Axes>"
            ]
          },
          "metadata": {
            "tags": [],
            "needs_background": "light"
          }
        }
      ]
    },
    {
      "cell_type": "code",
      "metadata": {
        "id": "JrYvKjccHUK_",
        "colab_type": "code",
        "colab": {
          "base_uri": "https://localhost:8080/",
          "height": 134
        },
        "outputId": "0958d15e-5b82-49dd-b9f4-5a9ea84c9a48"
      },
      "source": [
        "from sklearn.preprocessing import MinMaxScaler\n",
        "scaler=MinMaxScaler(feature_range=(0,1))\n",
        "import numpy as np\n",
        "df1=scaler.fit_transform(np.array(df1).reshape(-1,1))\n",
        "df1"
      ],
      "execution_count": 5,
      "outputs": [
        {
          "output_type": "execute_result",
          "data": {
            "text/plain": [
              "array([[0.0508746 ],\n",
              "       [0.04822972],\n",
              "       [0.04461803],\n",
              "       ...,\n",
              "       [0.84222273],\n",
              "       [0.74879996],\n",
              "       [0.76462246]])"
            ]
          },
          "metadata": {
            "tags": []
          },
          "execution_count": 5
        }
      ]
    },
    {
      "cell_type": "code",
      "metadata": {
        "id": "PyMEiQs_HbAU",
        "colab_type": "code",
        "colab": {}
      },
      "source": [
        "training_size=int(len(df1)*0.80)\n",
        "test_size=len(df1)-training_size\n",
        "train_data,test_data=df1[0:training_size,:],df1[training_size:len(df1),:1]"
      ],
      "execution_count": 6,
      "outputs": []
    },
    {
      "cell_type": "code",
      "metadata": {
        "id": "M8dFAFK5Il1e",
        "colab_type": "code",
        "colab": {
          "base_uri": "https://localhost:8080/",
          "height": 34
        },
        "outputId": "baf026a2-4d11-4bae-94a3-4635fa14c23d"
      },
      "source": [
        "training_size,test_size"
      ],
      "execution_count": 7,
      "outputs": [
        {
          "output_type": "execute_result",
          "data": {
            "text/plain": [
              "(1008, 252)"
            ]
          },
          "metadata": {
            "tags": []
          },
          "execution_count": 7
        }
      ]
    },
    {
      "cell_type": "code",
      "metadata": {
        "id": "NkC9OAYIIpB7",
        "colab_type": "code",
        "colab": {}
      },
      "source": [
        "def create_dataset(dataset, time_step=1):\n",
        "\tdataX, dataY = [], []\n",
        "\tfor i in range(len(dataset)-time_step-1):\n",
        "\t\ta = dataset[i:(i+time_step), 0]   \n",
        "\t\tdataX.append(a)\n",
        "\t\tdataY.append(dataset[i + time_step, 0])\n",
        "\treturn np.array(dataX), np.array(dataY)"
      ],
      "execution_count": 8,
      "outputs": []
    },
    {
      "cell_type": "code",
      "metadata": {
        "id": "Qb9-IyCUI8Iz",
        "colab_type": "code",
        "colab": {}
      },
      "source": [
        "time_step = 100\n",
        "X_train, y_train = create_dataset(train_data, time_step)\n",
        "X_test, ytest = create_dataset(test_data, time_step)"
      ],
      "execution_count": 9,
      "outputs": []
    },
    {
      "cell_type": "code",
      "metadata": {
        "id": "QguzhmiZI-do",
        "colab_type": "code",
        "colab": {
          "base_uri": "https://localhost:8080/",
          "height": 67
        },
        "outputId": "88f81da9-af7a-4bb8-b088-572c7b927461"
      },
      "source": [
        "print(X_train.shape), print(y_train.shape)"
      ],
      "execution_count": 10,
      "outputs": [
        {
          "output_type": "stream",
          "text": [
            "(907, 100)\n",
            "(907,)\n"
          ],
          "name": "stdout"
        },
        {
          "output_type": "execute_result",
          "data": {
            "text/plain": [
              "(None, None)"
            ]
          },
          "metadata": {
            "tags": []
          },
          "execution_count": 10
        }
      ]
    },
    {
      "cell_type": "code",
      "metadata": {
        "id": "a-3l-Xu7JBNb",
        "colab_type": "code",
        "colab": {
          "base_uri": "https://localhost:8080/",
          "height": 67
        },
        "outputId": "025db052-9868-4d85-f7f1-a556dd9066a5"
      },
      "source": [
        "print(X_test.shape), print(ytest.shape)"
      ],
      "execution_count": 11,
      "outputs": [
        {
          "output_type": "stream",
          "text": [
            "(151, 100)\n",
            "(151,)\n"
          ],
          "name": "stdout"
        },
        {
          "output_type": "execute_result",
          "data": {
            "text/plain": [
              "(None, None)"
            ]
          },
          "metadata": {
            "tags": []
          },
          "execution_count": 11
        }
      ]
    },
    {
      "cell_type": "code",
      "metadata": {
        "id": "9oHYQUKGJOTC",
        "colab_type": "code",
        "colab": {}
      },
      "source": [
        "X_train =X_train.reshape(X_train.shape[0],X_train.shape[1] , 1)\n",
        "X_test = X_test.reshape(X_test.shape[0],X_test.shape[1] , 1)"
      ],
      "execution_count": 12,
      "outputs": []
    },
    {
      "cell_type": "code",
      "metadata": {
        "id": "a0BuTUgNJYHR",
        "colab_type": "code",
        "colab": {}
      },
      "source": [
        "from tensorflow.keras.models import Sequential\n",
        "from tensorflow.keras.layers import Dense\n",
        "from tensorflow.keras.layers import LSTM"
      ],
      "execution_count": 13,
      "outputs": []
    },
    {
      "cell_type": "code",
      "metadata": {
        "id": "-KyCHJlHJZuQ",
        "colab_type": "code",
        "colab": {}
      },
      "source": [
        "model=Sequential()\n",
        "model.add(LSTM(60,return_sequences=True,input_shape=(100,1)))\n",
        "model.add(LSTM(60,return_sequences=True))\n",
        "model.add(LSTM(60))\n",
        "model.add(Dense(1))\n",
        "model.compile(loss='mean_squared_error',optimizer='adam')"
      ],
      "execution_count": 14,
      "outputs": []
    },
    {
      "cell_type": "code",
      "metadata": {
        "id": "FOqM6UfjJgSk",
        "colab_type": "code",
        "colab": {
          "base_uri": "https://localhost:8080/",
          "height": 286
        },
        "outputId": "4d0c4fd5-845c-4ee2-f6c6-ecdd3e4b014c"
      },
      "source": [
        "model.summary()"
      ],
      "execution_count": 15,
      "outputs": [
        {
          "output_type": "stream",
          "text": [
            "Model: \"sequential\"\n",
            "_________________________________________________________________\n",
            "Layer (type)                 Output Shape              Param #   \n",
            "=================================================================\n",
            "lstm (LSTM)                  (None, 100, 60)           14880     \n",
            "_________________________________________________________________\n",
            "lstm_1 (LSTM)                (None, 100, 60)           29040     \n",
            "_________________________________________________________________\n",
            "lstm_2 (LSTM)                (None, 60)                29040     \n",
            "_________________________________________________________________\n",
            "dense (Dense)                (None, 1)                 61        \n",
            "=================================================================\n",
            "Total params: 73,021\n",
            "Trainable params: 73,021\n",
            "Non-trainable params: 0\n",
            "_________________________________________________________________\n"
          ],
          "name": "stdout"
        }
      ]
    },
    {
      "cell_type": "code",
      "metadata": {
        "id": "X4-mhqZPJjiY",
        "colab_type": "code",
        "colab": {
          "base_uri": "https://localhost:8080/",
          "height": 1000
        },
        "outputId": "edfdafd1-659f-4a50-e590-73884c70cc43"
      },
      "source": [
        "model.fit(X_train,y_train,validation_data=(X_test,ytest),epochs=80,batch_size=64,verbose=1)"
      ],
      "execution_count": 16,
      "outputs": [
        {
          "output_type": "stream",
          "text": [
            "Epoch 1/80\n",
            "15/15 [==============================] - 2s 140ms/step - loss: 7.4301e-04 - val_loss: 0.0967\n",
            "Epoch 2/80\n",
            "15/15 [==============================] - 1s 67ms/step - loss: 2.7534e-04 - val_loss: 0.0501\n",
            "Epoch 3/80\n",
            "15/15 [==============================] - 1s 67ms/step - loss: 1.2836e-04 - val_loss: 0.0135\n",
            "Epoch 4/80\n",
            "15/15 [==============================] - 1s 68ms/step - loss: 8.6620e-05 - val_loss: 0.0216\n",
            "Epoch 5/80\n",
            "15/15 [==============================] - 1s 68ms/step - loss: 8.3521e-05 - val_loss: 0.0140\n",
            "Epoch 6/80\n",
            "15/15 [==============================] - 1s 68ms/step - loss: 7.9948e-05 - val_loss: 0.0173\n",
            "Epoch 7/80\n",
            "15/15 [==============================] - 1s 67ms/step - loss: 7.3976e-05 - val_loss: 0.0132\n",
            "Epoch 8/80\n",
            "15/15 [==============================] - 1s 68ms/step - loss: 7.6588e-05 - val_loss: 0.0136\n",
            "Epoch 9/80\n",
            "15/15 [==============================] - 1s 67ms/step - loss: 7.0080e-05 - val_loss: 0.0127\n",
            "Epoch 10/80\n",
            "15/15 [==============================] - 1s 67ms/step - loss: 6.6693e-05 - val_loss: 0.0136\n",
            "Epoch 11/80\n",
            "15/15 [==============================] - 1s 68ms/step - loss: 7.4757e-05 - val_loss: 0.0120\n",
            "Epoch 12/80\n",
            "15/15 [==============================] - 1s 66ms/step - loss: 6.5671e-05 - val_loss: 0.0127\n",
            "Epoch 13/80\n",
            "15/15 [==============================] - 1s 68ms/step - loss: 7.7812e-05 - val_loss: 0.0119\n",
            "Epoch 14/80\n",
            "15/15 [==============================] - 1s 67ms/step - loss: 7.2942e-05 - val_loss: 0.0094\n",
            "Epoch 15/80\n",
            "15/15 [==============================] - 1s 66ms/step - loss: 5.9607e-05 - val_loss: 0.0080\n",
            "Epoch 16/80\n",
            "15/15 [==============================] - 1s 68ms/step - loss: 6.8431e-05 - val_loss: 0.0119\n",
            "Epoch 17/80\n",
            "15/15 [==============================] - 1s 67ms/step - loss: 5.6479e-05 - val_loss: 0.0083\n",
            "Epoch 18/80\n",
            "15/15 [==============================] - 1s 66ms/step - loss: 5.3508e-05 - val_loss: 0.0077\n",
            "Epoch 19/80\n",
            "15/15 [==============================] - 1s 68ms/step - loss: 5.5212e-05 - val_loss: 0.0093\n",
            "Epoch 20/80\n",
            "15/15 [==============================] - 1s 67ms/step - loss: 5.2406e-05 - val_loss: 0.0062\n",
            "Epoch 21/80\n",
            "15/15 [==============================] - 1s 66ms/step - loss: 5.2544e-05 - val_loss: 0.0077\n",
            "Epoch 22/80\n",
            "15/15 [==============================] - 1s 67ms/step - loss: 4.9429e-05 - val_loss: 0.0069\n",
            "Epoch 23/80\n",
            "15/15 [==============================] - 1s 66ms/step - loss: 4.7259e-05 - val_loss: 0.0079\n",
            "Epoch 24/80\n",
            "15/15 [==============================] - 1s 66ms/step - loss: 4.4827e-05 - val_loss: 0.0075\n",
            "Epoch 25/80\n",
            "15/15 [==============================] - 1s 66ms/step - loss: 4.5665e-05 - val_loss: 0.0068\n",
            "Epoch 26/80\n",
            "15/15 [==============================] - 1s 65ms/step - loss: 4.4700e-05 - val_loss: 0.0091\n",
            "Epoch 27/80\n",
            "15/15 [==============================] - 1s 66ms/step - loss: 4.2384e-05 - val_loss: 0.0061\n",
            "Epoch 28/80\n",
            "15/15 [==============================] - 1s 67ms/step - loss: 4.2552e-05 - val_loss: 0.0057\n",
            "Epoch 29/80\n",
            "15/15 [==============================] - 1s 66ms/step - loss: 4.9561e-05 - val_loss: 0.0060\n",
            "Epoch 30/80\n",
            "15/15 [==============================] - 1s 66ms/step - loss: 5.5061e-05 - val_loss: 0.0055\n",
            "Epoch 31/80\n",
            "15/15 [==============================] - 1s 67ms/step - loss: 4.3020e-05 - val_loss: 0.0077\n",
            "Epoch 32/80\n",
            "15/15 [==============================] - 1s 67ms/step - loss: 4.3630e-05 - val_loss: 0.0074\n",
            "Epoch 33/80\n",
            "15/15 [==============================] - 1s 68ms/step - loss: 4.4636e-05 - val_loss: 0.0071\n",
            "Epoch 34/80\n",
            "15/15 [==============================] - 1s 68ms/step - loss: 3.7533e-05 - val_loss: 0.0059\n",
            "Epoch 35/80\n",
            "15/15 [==============================] - 1s 68ms/step - loss: 3.7426e-05 - val_loss: 0.0066\n",
            "Epoch 36/80\n",
            "15/15 [==============================] - 1s 67ms/step - loss: 3.6716e-05 - val_loss: 0.0056\n",
            "Epoch 37/80\n",
            "15/15 [==============================] - 1s 66ms/step - loss: 3.4840e-05 - val_loss: 0.0066\n",
            "Epoch 38/80\n",
            "15/15 [==============================] - 1s 67ms/step - loss: 3.4596e-05 - val_loss: 0.0066\n",
            "Epoch 39/80\n",
            "15/15 [==============================] - 1s 67ms/step - loss: 3.4949e-05 - val_loss: 0.0071\n",
            "Epoch 40/80\n",
            "15/15 [==============================] - 1s 68ms/step - loss: 3.2758e-05 - val_loss: 0.0065\n",
            "Epoch 41/80\n",
            "15/15 [==============================] - 1s 67ms/step - loss: 3.3759e-05 - val_loss: 0.0061\n",
            "Epoch 42/80\n",
            "15/15 [==============================] - 1s 67ms/step - loss: 3.1125e-05 - val_loss: 0.0051\n",
            "Epoch 43/80\n",
            "15/15 [==============================] - 1s 66ms/step - loss: 3.4767e-05 - val_loss: 0.0042\n",
            "Epoch 44/80\n",
            "15/15 [==============================] - 1s 66ms/step - loss: 3.5469e-05 - val_loss: 0.0065\n",
            "Epoch 45/80\n",
            "15/15 [==============================] - 1s 67ms/step - loss: 3.4137e-05 - val_loss: 0.0072\n",
            "Epoch 46/80\n",
            "15/15 [==============================] - 1s 67ms/step - loss: 3.2391e-05 - val_loss: 0.0080\n",
            "Epoch 47/80\n",
            "15/15 [==============================] - 1s 66ms/step - loss: 3.6359e-05 - val_loss: 0.0078\n",
            "Epoch 48/80\n",
            "15/15 [==============================] - 1s 67ms/step - loss: 3.3646e-05 - val_loss: 0.0069\n",
            "Epoch 49/80\n",
            "15/15 [==============================] - 1s 66ms/step - loss: 2.8660e-05 - val_loss: 0.0046\n",
            "Epoch 50/80\n",
            "15/15 [==============================] - 1s 68ms/step - loss: 3.0109e-05 - val_loss: 0.0053\n",
            "Epoch 51/80\n",
            "15/15 [==============================] - 1s 67ms/step - loss: 3.1064e-05 - val_loss: 0.0074\n",
            "Epoch 52/80\n",
            "15/15 [==============================] - 1s 67ms/step - loss: 3.1070e-05 - val_loss: 0.0048\n",
            "Epoch 53/80\n",
            "15/15 [==============================] - 1s 66ms/step - loss: 2.9168e-05 - val_loss: 0.0051\n",
            "Epoch 54/80\n",
            "15/15 [==============================] - 1s 68ms/step - loss: 2.9290e-05 - val_loss: 0.0051\n",
            "Epoch 55/80\n",
            "15/15 [==============================] - 1s 68ms/step - loss: 2.8698e-05 - val_loss: 0.0047\n",
            "Epoch 56/80\n",
            "15/15 [==============================] - 1s 68ms/step - loss: 2.5975e-05 - val_loss: 0.0040\n",
            "Epoch 57/80\n",
            "15/15 [==============================] - 1s 66ms/step - loss: 2.6109e-05 - val_loss: 0.0048\n",
            "Epoch 58/80\n",
            "15/15 [==============================] - 1s 67ms/step - loss: 2.6303e-05 - val_loss: 0.0047\n",
            "Epoch 59/80\n",
            "15/15 [==============================] - 1s 67ms/step - loss: 2.6012e-05 - val_loss: 0.0054\n",
            "Epoch 60/80\n",
            "15/15 [==============================] - 1s 67ms/step - loss: 2.4831e-05 - val_loss: 0.0055\n",
            "Epoch 61/80\n",
            "15/15 [==============================] - 1s 67ms/step - loss: 2.6004e-05 - val_loss: 0.0046\n",
            "Epoch 62/80\n",
            "15/15 [==============================] - 1s 66ms/step - loss: 2.5166e-05 - val_loss: 0.0046\n",
            "Epoch 63/80\n",
            "15/15 [==============================] - 1s 67ms/step - loss: 2.4021e-05 - val_loss: 0.0056\n",
            "Epoch 64/80\n",
            "15/15 [==============================] - 1s 66ms/step - loss: 2.4248e-05 - val_loss: 0.0052\n",
            "Epoch 65/80\n",
            "15/15 [==============================] - 1s 67ms/step - loss: 2.4001e-05 - val_loss: 0.0048\n",
            "Epoch 66/80\n",
            "15/15 [==============================] - 1s 66ms/step - loss: 2.3190e-05 - val_loss: 0.0035\n",
            "Epoch 67/80\n",
            "15/15 [==============================] - 1s 66ms/step - loss: 2.8559e-05 - val_loss: 0.0046\n",
            "Epoch 68/80\n",
            "15/15 [==============================] - 1s 68ms/step - loss: 2.3557e-05 - val_loss: 0.0063\n",
            "Epoch 69/80\n",
            "15/15 [==============================] - 1s 66ms/step - loss: 2.2567e-05 - val_loss: 0.0047\n",
            "Epoch 70/80\n",
            "15/15 [==============================] - 1s 67ms/step - loss: 2.2382e-05 - val_loss: 0.0035\n",
            "Epoch 71/80\n",
            "15/15 [==============================] - 1s 67ms/step - loss: 2.4974e-05 - val_loss: 0.0044\n",
            "Epoch 72/80\n",
            "15/15 [==============================] - 1s 67ms/step - loss: 2.2360e-05 - val_loss: 0.0043\n",
            "Epoch 73/80\n",
            "15/15 [==============================] - 1s 67ms/step - loss: 2.1701e-05 - val_loss: 0.0039\n",
            "Epoch 74/80\n",
            "15/15 [==============================] - 1s 68ms/step - loss: 2.0829e-05 - val_loss: 0.0064\n",
            "Epoch 75/80\n",
            "15/15 [==============================] - 1s 67ms/step - loss: 2.4730e-05 - val_loss: 0.0050\n",
            "Epoch 76/80\n",
            "15/15 [==============================] - 1s 66ms/step - loss: 2.0726e-05 - val_loss: 0.0047\n",
            "Epoch 77/80\n",
            "15/15 [==============================] - 1s 69ms/step - loss: 2.1037e-05 - val_loss: 0.0047\n",
            "Epoch 78/80\n",
            "15/15 [==============================] - 1s 67ms/step - loss: 2.1387e-05 - val_loss: 0.0048\n",
            "Epoch 79/80\n",
            "15/15 [==============================] - 1s 67ms/step - loss: 2.0446e-05 - val_loss: 0.0046\n",
            "Epoch 80/80\n",
            "15/15 [==============================] - 1s 67ms/step - loss: 2.0645e-05 - val_loss: 0.0052\n"
          ],
          "name": "stdout"
        },
        {
          "output_type": "execute_result",
          "data": {
            "text/plain": [
              "<tensorflow.python.keras.callbacks.History at 0x7f4e7014bfd0>"
            ]
          },
          "metadata": {
            "tags": []
          },
          "execution_count": 16
        }
      ]
    },
    {
      "cell_type": "code",
      "metadata": {
        "id": "RQjnD6Td7gQR",
        "colab_type": "code",
        "colab": {
          "base_uri": "https://localhost:8080/",
          "height": 154
        },
        "outputId": "105389e3-53ab-4174-dbfc-99b0166015f9"
      },
      "source": [
        "!mkdir -p saved_model\n",
        "model.save('saved_model/my_model') "
      ],
      "execution_count": 17,
      "outputs": [
        {
          "output_type": "stream",
          "text": [
            "WARNING:tensorflow:From /usr/local/lib/python3.6/dist-packages/tensorflow/python/training/tracking/tracking.py:111: Model.state_updates (from tensorflow.python.keras.engine.training) is deprecated and will be removed in a future version.\n",
            "Instructions for updating:\n",
            "This property should not be used in TensorFlow 2.0, as updates are applied automatically.\n",
            "WARNING:tensorflow:From /usr/local/lib/python3.6/dist-packages/tensorflow/python/training/tracking/tracking.py:111: Layer.updates (from tensorflow.python.keras.engine.base_layer) is deprecated and will be removed in a future version.\n",
            "Instructions for updating:\n",
            "This property should not be used in TensorFlow 2.0, as updates are applied automatically.\n",
            "INFO:tensorflow:Assets written to: saved_model/my_model/assets\n"
          ],
          "name": "stdout"
        }
      ]
    },
    {
      "cell_type": "code",
      "metadata": {
        "id": "I_d_xYti7s45",
        "colab_type": "code",
        "colab": {
          "base_uri": "https://localhost:8080/",
          "height": 50
        },
        "outputId": "57fc464f-effa-45b1-e081-d8820a13f7b5"
      },
      "source": [
        "# my_model directory\n",
        "!ls saved_model\n",
        "\n",
        "# Contains an assets folder, saved_model.pb, and variables folder.\n",
        "!ls saved_model/my_model"
      ],
      "execution_count": 18,
      "outputs": [
        {
          "output_type": "stream",
          "text": [
            "my_model\n",
            "assets\tsaved_model.pb\tvariables\n"
          ],
          "name": "stdout"
        }
      ]
    },
    {
      "cell_type": "code",
      "metadata": {
        "id": "IJ60jlY-7vQs",
        "colab_type": "code",
        "colab": {}
      },
      "source": [
        "model.save('my_model1.h5') "
      ],
      "execution_count": 19,
      "outputs": []
    },
    {
      "cell_type": "code",
      "metadata": {
        "id": "E9FhBctj7zho",
        "colab_type": "code",
        "colab": {
          "base_uri": "https://localhost:8080/",
          "height": 286
        },
        "outputId": "982b546f-660b-40cf-ff49-218a356249f6"
      },
      "source": [
        "# load and evaluate a saved model\n",
        "from numpy import loadtxt\n",
        "from keras.models import load_model\n",
        " \n",
        "# load model\n",
        "model = load_model('my_model1.h5')\n",
        "# summarize model.\n",
        "model.summary()"
      ],
      "execution_count": 21,
      "outputs": [
        {
          "output_type": "stream",
          "text": [
            "Model: \"sequential\"\n",
            "_________________________________________________________________\n",
            "Layer (type)                 Output Shape              Param #   \n",
            "=================================================================\n",
            "lstm (LSTM)                  (None, 100, 60)           14880     \n",
            "_________________________________________________________________\n",
            "lstm_1 (LSTM)                (None, 100, 60)           29040     \n",
            "_________________________________________________________________\n",
            "lstm_2 (LSTM)                (None, 60)                29040     \n",
            "_________________________________________________________________\n",
            "dense (Dense)                (None, 1)                 61        \n",
            "=================================================================\n",
            "Total params: 73,021\n",
            "Trainable params: 73,021\n",
            "Non-trainable params: 0\n",
            "_________________________________________________________________\n"
          ],
          "name": "stdout"
        }
      ]
    },
    {
      "cell_type": "code",
      "metadata": {
        "id": "Xc6MaLi5J46U",
        "colab_type": "code",
        "colab": {}
      },
      "source": [
        "train_predict=model.predict(X_train)\n",
        "test_predict=model.predict(X_test)\n"
      ],
      "execution_count": 22,
      "outputs": []
    },
    {
      "cell_type": "code",
      "metadata": {
        "id": "2pKaZ04MJ7E5",
        "colab_type": "code",
        "colab": {}
      },
      "source": [
        "train_predict=scaler.inverse_transform(train_predict)\n",
        "test_predict=scaler.inverse_transform(test_predict)"
      ],
      "execution_count": 23,
      "outputs": []
    },
    {
      "cell_type": "code",
      "metadata": {
        "id": "0EoQslHAJ9wN",
        "colab_type": "code",
        "colab": {
          "base_uri": "https://localhost:8080/",
          "height": 34
        },
        "outputId": "ec7e7761-efbb-4cc2-a914-741e24df672a"
      },
      "source": [
        "import math\n",
        "from sklearn.metrics import mean_squared_error\n",
        "math.sqrt(mean_squared_error(y_train,train_predict))"
      ],
      "execution_count": 24,
      "outputs": [
        {
          "output_type": "execute_result",
          "data": {
            "text/plain": [
              "55.81470331796506"
            ]
          },
          "metadata": {
            "tags": []
          },
          "execution_count": 24
        }
      ]
    },
    {
      "cell_type": "code",
      "metadata": {
        "id": "84VXtW2WJ_cn",
        "colab_type": "code",
        "colab": {
          "base_uri": "https://localhost:8080/",
          "height": 34
        },
        "outputId": "37f3b7f0-9d2f-4461-e49d-f4e6f8aee4ef"
      },
      "source": [
        "math.sqrt(mean_squared_error(ytest,test_predict))"
      ],
      "execution_count": 25,
      "outputs": [
        {
          "output_type": "execute_result",
          "data": {
            "text/plain": [
              "224.85945492657348"
            ]
          },
          "metadata": {
            "tags": []
          },
          "execution_count": 25
        }
      ]
    },
    {
      "cell_type": "code",
      "metadata": {
        "id": "kbZtvmmrKCYI",
        "colab_type": "code",
        "colab": {
          "base_uri": "https://localhost:8080/",
          "height": 265
        },
        "outputId": "441d04fd-a679-4f15-ec38-97aabfa7baa2"
      },
      "source": [
        "look_back=100\n",
        "trainPredictPlot = np.empty_like(df1)\n",
        "trainPredictPlot[:, :] = np.nan\n",
        "trainPredictPlot[look_back:len(train_predict)+look_back, :] = train_predict\n",
        "# shift test predictions for plotting\n",
        "testPredictPlot = np.empty_like(df1)\n",
        "testPredictPlot[:, :] = np.nan\n",
        "testPredictPlot[len(train_predict)+(look_back*2)+1:len(df1)-1, :] = test_predict\n",
        "# plot baseline and predictions\n",
        "plt.plot(scaler.inverse_transform(df1))\n",
        "plt.plot(trainPredictPlot)\n",
        "plt.plot(testPredictPlot)\n",
        "plt.show()"
      ],
      "execution_count": 26,
      "outputs": [
        {
          "output_type": "display_data",
          "data": {
            "image/png": "[encoded data removed]",
            "text/plain": [
              "<Figure size 432x288 with 1 Axes>"
            ]
          },
          "metadata": {
            "tags": [],
            "needs_background": "light"
          }
        }
      ]
    },
    {
      "cell_type": "code",
      "metadata": {
        "id": "jHUC649MKRkq",
        "colab_type": "code",
        "colab": {
          "base_uri": "https://localhost:8080/",
          "height": 50
        },
        "outputId": "e9f634ce-3468-47bb-ba40-9e245bdd2d8d"
      },
      "source": [
        "print(test_data.shape)\n",
        "len(test_data)"
      ],
      "execution_count": 27,
      "outputs": [
        {
          "output_type": "stream",
          "text": [
            "(252, 1)\n"
          ],
          "name": "stdout"
        },
        {
          "output_type": "execute_result",
          "data": {
            "text/plain": [
              "252"
            ]
          },
          "metadata": {
            "tags": []
          },
          "execution_count": 27
        }
      ]
    },
    {
      "cell_type": "code",
      "metadata": {
        "id": "tXaF-IroKZAv",
        "colab_type": "code",
        "colab": {
          "base_uri": "https://localhost:8080/",
          "height": 34
        },
        "outputId": "6659cff3-84d5-4d5a-cb22-6608d6cdb60d"
      },
      "source": [
        "x_input=test_data[152:].reshape(1,-1)\n",
        "x_input.shape"
      ],
      "execution_count": 28,
      "outputs": [
        {
          "output_type": "execute_result",
          "data": {
            "text/plain": [
              "(1, 100)"
            ]
          },
          "metadata": {
            "tags": []
          },
          "execution_count": 28
        }
      ]
    },
    {
      "cell_type": "code",
      "metadata": {
        "id": "LKekZz35Kku2",
        "colab_type": "code",
        "colab": {
          "base_uri": "https://localhost:8080/",
          "height": 1000
        },
        "outputId": "4c94ed7a-5830-432f-8623-a6552165b059"
      },
      "source": [
        "temp_input=list(x_input)\n",
        "temp_input=temp_input[0].tolist()\n",
        "temp_input"
      ],
      "execution_count": 29,
      "outputs": [
        {
          "output_type": "execute_result",
          "data": {
            "text/plain": [
              "[0.2659959983721903,\n",
              " 0.2721163003601296,\n",
              " 0.2710344732708948,\n",
              " 0.2878067086967685,\n",
              " 0.2843440691544311,\n",
              " 0.28354338128293155,\n",
              " 0.2756853906742308,\n",
              " 0.2809538590291455,\n",
              " 0.27918208406541084,\n",
              " 0.28534069663329814,\n",
              " 0.28294711398687955,\n",
              " 0.2861627006544549,\n",
              " 0.29129063189463256,\n",
              " 0.2867249141016643,\n",
              " 0.28757245850945307,\n",
              " 0.2881516988810837,\n",
              " 0.2820101132376177,\n",
              " 0.29444233510149737,\n",
              " 0.32131706071141214,\n",
              " 0.3142725606616575,\n",
              " 0.3148688279577095,\n",
              " 0.3069554998446395,\n",
              " 0.31601879523876014,\n",
              " 0.3433875616099378,\n",
              " 0.3394479407248894,\n",
              " 0.3753859617289248,\n",
              " 0.3531493508348995,\n",
              " 0.337152295388024,\n",
              " 0.36084123144810065,\n",
              " 0.3571060311384998,\n",
              " 0.36122030797538907,\n",
              " 0.36640360921406656,\n",
              " 0.3651003021308323,\n",
              " 0.36229784583938796,\n",
              " 0.36547512192701537,\n",
              " 0.34804273574437916,\n",
              " 0.35874578244970806,\n",
              " 0.34756997863864286,\n",
              " 0.3686992220568014,\n",
              " 0.3987086564432902,\n",
              " 0.4156682530260596,\n",
              " 0.45358675879451305,\n",
              " 0.522975570071848,\n",
              " 0.5307610987693665,\n",
              " 0.5205478685883257,\n",
              " 0.5326436137301008,\n",
              " 0.596687270504364,\n",
              " 0.5764183416873103,\n",
              " 0.5848257430557738,\n",
              " 0.5972665108759947,\n",
              " 0.5779430962704135,\n",
              " 0.5780282958807812,\n",
              " 0.6385752592638644,\n",
              " 0.6067855364514303,\n",
              " 0.6169945423954963,\n",
              " 0.5832371700002212,\n",
              " 0.5423202358388254,\n",
              " 0.5945364840016022,\n",
              " 0.5676574691664515,\n",
              " 0.5772914589758616,\n",
              " 0.5723424079244996,\n",
              " 0.5481807472528173,\n",
              " 0.5712819294790527,\n",
              " 0.5721337306179467,\n",
              " 0.5712904429412633,\n",
              " 0.5732325521374723,\n",
              " 0.5575293736075173,\n",
              " 0.5429889000577985,\n",
              " 0.5241723289009268,\n",
              " 0.6009931977233849,\n",
              " 0.6292053167595071,\n",
              " 0.6418589861232556,\n",
              " 0.7206219641419227,\n",
              " 0.74253490100129,\n",
              " 0.7388891245390317,\n",
              " 0.7914034738557039,\n",
              " 0.8119109095911784,\n",
              " 0.7966719422106185,\n",
              " 0.8005647390535083,\n",
              " 0.8558602610060981,\n",
              " 0.8923093821899484,\n",
              " 0.8815126224120411,\n",
              " 1.0,\n",
              " 0.9504456710139306,\n",
              " 0.8915001483621076,\n",
              " 0.8055308170292916,\n",
              " 0.8296371726907353,\n",
              " 0.642003779969098,\n",
              " 0.7188161353293454,\n",
              " 0.7295915789575955,\n",
              " 0.7325303481268022,\n",
              " 0.8324055426392064,\n",
              " 0.8965897690223372,\n",
              " 0.8795534862914107,\n",
              " 0.8405190670907492,\n",
              " 0.8803839712806476,\n",
              " 0.8958018513441537,\n",
              " 0.8422227343567985,\n",
              " 0.7487999643409411,\n",
              " 0.7646224613183675]"
            ]
          },
          "metadata": {
            "tags": []
          },
          "execution_count": 29
        }
      ]
    },
    {
      "cell_type": "code",
      "metadata": {
        "id": "xJdCmDc2KnyX",
        "colab_type": "code",
        "colab": {
          "base_uri": "https://localhost:8080/",
          "height": 185
        },
        "outputId": "30c43db0-0f16-4314-ec8b-32f5d31f7342"
      },
      "source": [
        "from numpy import array\n",
        "lst_output=[]\n",
        "n_steps=100\n",
        "i=0\n",
        "while(i<11):\n",
        "    \n",
        "    if(len(temp_input)>100):\n",
        "        #print(temp_input)\n",
        "        x_input=np.array(temp_input[1:])\n",
        "        #print(\"{} day input {}\".format(i,x_input))\n",
        "        x_input=x_input.reshape(1,-1)\n",
        "        x_input = x_input.reshape((1, n_steps, 1))\n",
        "        #print(x_input)\n",
        "        yhat = model.predict(x_input, verbose=0)\n",
        "        #yhat = scaler.inverse_transform(yhat)\n",
        "        print(\"{} day Prediction {}\".format(i,yhat))\n",
        "        temp_input.extend(yhat[0].tolist())\n",
        "        temp_input=temp_input[1:]\n",
        "        #print(temp_input)\n",
        "        lst_output.extend(yhat.tolist())\n",
        "        i=i+1\n",
        "    else:\n",
        "        x_input = x_input.reshape((1, n_steps,1))\n",
        "        yhat = model.predict(x_input, verbose=0)\n",
        "        #print(yhat[0])\n",
        "        temp_input.extend(yhat[0].tolist())\n",
        "        #print(len(temp_input))\n",
        "        lst_output.extend(yhat.tolist())\n",
        "        i=i+1\n",
        "    \n",
        "\n",
        "\n"
      ],
      "execution_count": 30,
      "outputs": [
        {
          "output_type": "stream",
          "text": [
            "1 day Prediction [[0.62819594]]\n",
            "2 day Prediction [[0.5769495]]\n",
            "3 day Prediction [[0.5278998]]\n",
            "4 day Prediction [[0.4838591]]\n",
            "5 day Prediction [[0.44625583]]\n",
            "6 day Prediction [[0.41551962]]\n",
            "7 day Prediction [[0.39134848]]\n",
            "8 day Prediction [[0.37293205]]\n",
            "9 day Prediction [[0.35916275]]\n",
            "10 day Prediction [[0.34882554]]\n"
          ],
          "name": "stdout"
        }
      ]
    },
    {
      "cell_type": "code",
      "metadata": {
        "id": "OlZGQS53LdLl",
        "colab_type": "code",
        "colab": {
          "base_uri": "https://localhost:8080/",
          "height": 70
        },
        "outputId": "ff23e7e4-c176-493d-d21c-de8231e9c5ab"
      },
      "source": [
        "l1 = lst_output[1:11]\n",
        "print(l1)\n",
        "print(len(l1))"
      ],
      "execution_count": 31,
      "outputs": [
        {
          "output_type": "stream",
          "text": [
            "[[0.6281959414482117], [0.5769494771957397], [0.5278998017311096], [0.4838590919971466], [0.4462558329105377], [0.4155196249485016], [0.3913484811782837], [0.3729320466518402], [0.35916274785995483], [0.3488255441188812]]\n",
            "10\n"
          ],
          "name": "stdout"
        }
      ]
    },
    {
      "cell_type": "code",
      "metadata": {
        "id": "28QV4H-Z_JUG",
        "colab_type": "code",
        "colab": {
          "base_uri": "https://localhost:8080/",
          "height": 54
        },
        "outputId": "9538542d-5a73-4d71-db3e-3a173e0e5118"
      },
      "source": [
        "import itertools\n",
        "b = l1\n",
        "c =list(itertools.chain.from_iterable(b))\n",
        "print(c)\n"
      ],
      "execution_count": 32,
      "outputs": [
        {
          "output_type": "stream",
          "text": [
            "[0.6281959414482117, 0.5769494771957397, 0.5278998017311096, 0.4838590919971466, 0.4462558329105377, 0.4155196249485016, 0.3913484811782837, 0.3729320466518402, 0.35916274785995483, 0.3488255441188812]\n"
          ],
          "name": "stdout"
        }
      ]
    },
    {
      "cell_type": "code",
      "metadata": {
        "id": "NqM2A8WzAWAu",
        "colab_type": "code",
        "colab": {
          "base_uri": "https://localhost:8080/",
          "height": 185
        },
        "outputId": "3d92afc3-a503-41f1-ebdc-29f075338950"
      },
      "source": [
        "e = scaler.inverse_transform(b)\n",
        "e"
      ],
      "execution_count": 33,
      "outputs": [
        {
          "output_type": "execute_result",
          "data": {
            "text/plain": [
              "array([[323.72602368],\n",
              "       [299.66140111],\n",
              "       [276.62835981],\n",
              "       [255.94745873],\n",
              "       [238.28949441],\n",
              "       [223.85620121],\n",
              "       [212.50577029],\n",
              "       [203.85767032],\n",
              "       [197.39180027],\n",
              "       [192.53759403]])"
            ]
          },
          "metadata": {
            "tags": []
          },
          "execution_count": 33
        }
      ]
    },
    {
      "cell_type": "code",
      "metadata": {
        "id": "EDgnqnDIBFme",
        "colab_type": "code",
        "colab": {}
      },
      "source": [
        ""
      ],
      "execution_count": null,
      "outputs": []
    }
  ]
}